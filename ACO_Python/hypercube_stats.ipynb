{
 "cells": [
  {
   "cell_type": "code",
   "execution_count": 1,
   "metadata": {},
   "outputs": [],
   "source": [
    "from ACO_Hypercube_PreDetermined_Random_Pheromone import run_ants_on_hypercube_random_colors_optimized\n",
    "from ACO_Hypercube_PreDetermined_Random import run_ants_on_hypercube_random_colors #  returns ((ant.number, path_length), iter)\n",
    "import matplotlib.pyplot as plt\n",
    "import pandas as pd\n",
    "import plotly.graph_objects as go\n",
    "import plotly.express as px\n",
    "import time\n",
    "import numpy as np\n",
    "import multiprocessing as mp\n",
    "from tqdm import tqdm\n",
    "import scam"
   ]
  },
  {
   "cell_type": "code",
   "execution_count": 2,
   "metadata": {},
   "outputs": [],
   "source": [
    "num_monte_carlo_iter = 100\n",
    "num_points = 100\n",
    "N = 7\n",
    "num_ants = 10"
   ]
  },
  {
   "cell_type": "code",
   "execution_count": 3,
   "metadata": {},
   "outputs": [
    {
     "ename": "KeyboardInterrupt",
     "evalue": "",
     "output_type": "error",
     "traceback": [
      "\u001b[1;31m---------------------------------------------------------------------------\u001b[0m",
      "\u001b[1;31mKeyboardInterrupt\u001b[0m                         Traceback (most recent call last)",
      "\u001b[1;32mC:\\Users\\Public\\Documents\\Wondershare\\CreatorTemp/ipykernel_3304/3261408315.py\u001b[0m in \u001b[0;36m<module>\u001b[1;34m\u001b[0m\n\u001b[0;32m      5\u001b[0m \u001b[0mn_matchings_list\u001b[0m \u001b[1;33m=\u001b[0m \u001b[1;33m[\u001b[0m\u001b[1;33m]\u001b[0m\u001b[1;33m\u001b[0m\u001b[1;33m\u001b[0m\u001b[0m\n\u001b[0;32m      6\u001b[0m \u001b[1;32mfor\u001b[0m \u001b[0miter\u001b[0m \u001b[1;32min\u001b[0m \u001b[0mrange\u001b[0m\u001b[1;33m(\u001b[0m\u001b[0mnum_points\u001b[0m\u001b[1;33m)\u001b[0m\u001b[1;33m:\u001b[0m\u001b[1;33m\u001b[0m\u001b[1;33m\u001b[0m\u001b[0m\n\u001b[1;32m----> 7\u001b[1;33m     \u001b[1;33m(\u001b[0m\u001b[1;33m(\u001b[0m\u001b[0mant_winner\u001b[0m\u001b[1;33m,\u001b[0m \u001b[0mpath_len\u001b[0m\u001b[1;33m)\u001b[0m\u001b[1;33m,\u001b[0m \u001b[0miter\u001b[0m\u001b[1;33m,\u001b[0m \u001b[0mn_matchings\u001b[0m\u001b[1;33m)\u001b[0m \u001b[1;33m=\u001b[0m \u001b[0mrun_ants_on_hypercube_random_colors\u001b[0m\u001b[1;33m(\u001b[0m\u001b[0mn\u001b[0m\u001b[1;33m=\u001b[0m\u001b[0mN\u001b[0m\u001b[1;33m,\u001b[0m \u001b[0mnum_ants\u001b[0m\u001b[1;33m=\u001b[0m\u001b[0mnum_ants\u001b[0m\u001b[1;33m,\u001b[0m \u001b[0mplot_network_graph\u001b[0m\u001b[1;33m=\u001b[0m\u001b[1;32mFalse\u001b[0m\u001b[1;33m,\u001b[0m \u001b[0mplot_stats\u001b[0m\u001b[1;33m=\u001b[0m\u001b[1;32mTrue\u001b[0m\u001b[1;33m)\u001b[0m\u001b[1;33m\u001b[0m\u001b[1;33m\u001b[0m\u001b[0m\n\u001b[0m\u001b[0;32m      8\u001b[0m     \u001b[0miter_list\u001b[0m\u001b[1;33m.\u001b[0m\u001b[0mappend\u001b[0m\u001b[1;33m(\u001b[0m\u001b[0miter\u001b[0m\u001b[1;33m)\u001b[0m\u001b[1;33m\u001b[0m\u001b[1;33m\u001b[0m\u001b[0m\n\u001b[0;32m      9\u001b[0m     \u001b[0mpath_len_list\u001b[0m\u001b[1;33m.\u001b[0m\u001b[0mappend\u001b[0m\u001b[1;33m(\u001b[0m\u001b[0mpath_len\u001b[0m\u001b[1;33m)\u001b[0m\u001b[1;33m\u001b[0m\u001b[1;33m\u001b[0m\u001b[0m\n",
      "\u001b[1;32mc:\\Users\\shriv\\Documents\\GitHub\\ACO_Hypercube\\ACO_Python\\ACO_Hypercube_PreDetermined_Random.py\u001b[0m in \u001b[0;36mrun_ants_on_hypercube_random_colors\u001b[1;34m(n, num_ants, plot_network_graph, plot_stats)\u001b[0m\n\u001b[0;32m    122\u001b[0m \u001b[1;33m\u001b[0m\u001b[0m\n\u001b[0;32m    123\u001b[0m             \u001b[1;32mfor\u001b[0m \u001b[0mind\u001b[0m \u001b[1;32min\u001b[0m \u001b[0mn_matchings_default\u001b[0m\u001b[1;33m:\u001b[0m\u001b[1;33m\u001b[0m\u001b[1;33m\u001b[0m\u001b[0m\n\u001b[1;32m--> 124\u001b[1;33m                 \u001b[1;32mif\u001b[0m \u001b[0mn_matchings_default\u001b[0m\u001b[1;33m[\u001b[0m\u001b[0mind\u001b[0m\u001b[1;33m]\u001b[0m\u001b[1;33m[\u001b[0m\u001b[0mcurr_ant\u001b[0m\u001b[1;33m.\u001b[0m\u001b[0mlast_visited\u001b[0m\u001b[1;33m]\u001b[0m \u001b[1;33m==\u001b[0m \u001b[0mchoice_vertex\u001b[0m\u001b[1;33m:\u001b[0m\u001b[1;33m\u001b[0m\u001b[1;33m\u001b[0m\u001b[0m\n\u001b[0m\u001b[0;32m    125\u001b[0m                     \u001b[0mn_matchings\u001b[0m\u001b[1;33m[\u001b[0m\u001b[0mcurr_ant\u001b[0m\u001b[1;33m.\u001b[0m\u001b[0mnumber\u001b[0m\u001b[1;33m]\u001b[0m\u001b[1;33m.\u001b[0m\u001b[0mappend\u001b[0m\u001b[1;33m(\u001b[0m\u001b[0mind\u001b[0m\u001b[1;33m)\u001b[0m\u001b[1;33m\u001b[0m\u001b[1;33m\u001b[0m\u001b[0m\n\u001b[0;32m    126\u001b[0m             \u001b[0mcurr_ant\u001b[0m\u001b[1;33m.\u001b[0m\u001b[0madd_to_visited\u001b[0m\u001b[1;33m(\u001b[0m\u001b[0mchoice_vertex\u001b[0m\u001b[1;33m)\u001b[0m\u001b[1;33m\u001b[0m\u001b[1;33m\u001b[0m\u001b[0m\n",
      "\u001b[1;31mKeyboardInterrupt\u001b[0m: "
     ]
    }
   ],
   "source": [
    "iter_list = []\n",
    "path_len_list = []\n",
    "ant_winner_list = []\n",
    "tic = time.time()\n",
    "n_matchings_list = []\n",
    "for iter in range(num_points):\n",
    "    ((ant_winner, path_len), iter, n_matchings) = run_ants_on_hypercube_random_colors(n=N, num_ants=num_ants, plot_network_graph=False, plot_stats=True)\n",
    "    iter_list.append(iter)\n",
    "    path_len_list.append(path_len)\n",
    "    ant_winner_list.append(ant_winner)\n",
    "    n_matchings_list.append(n_matchings)\n",
    "toc = time.time()\n",
    "print(\"Time taken to run is:\", toc - tic, \"seconds\" )\n"
   ]
  },
  {
   "cell_type": "code",
   "execution_count": null,
   "metadata": {},
   "outputs": [],
   "source": [
    "freq_n_matchings = []\n",
    "\n",
    "for i in n_matchings_list:\n",
    "    unique_elements, counts_elements = np.unique(np.array(i), return_counts=True)\n",
    "    freq_n_matchings.append(counts_elements)\n"
   ]
  },
  {
   "cell_type": "code",
   "execution_count": null,
   "metadata": {},
   "outputs": [
    {
     "data": {
      "application/vnd.plotly.v1+json": {
       "config": {
        "plotlyServerURL": "https://plot.ly"
       },
       "data": [
        {
         "coloraxis": "coloraxis",
         "hovertemplate": "n from n_matching: %{x}<br>freq: %{y}<br>Productivity: %{z}<extra></extra>",
         "name": "0",
         "type": "heatmap",
         "x": [
          0,
          1,
          2,
          3,
          4,
          5,
          6
         ],
         "xaxis": "x",
         "y": [
          0,
          1,
          2,
          3,
          4,
          5,
          6,
          7,
          8,
          9,
          10,
          11,
          12,
          13,
          14,
          15,
          16,
          17,
          18,
          19,
          20,
          21,
          22,
          23,
          24,
          25,
          26,
          27,
          28,
          29,
          30,
          31,
          32,
          33,
          34,
          35,
          36,
          37,
          38,
          39,
          40,
          41,
          42,
          43,
          44,
          45,
          46,
          47,
          48,
          49,
          50,
          51,
          52,
          53,
          54,
          55,
          56,
          57,
          58,
          59,
          60,
          61,
          62,
          63,
          64,
          65,
          66,
          67,
          68,
          69,
          70,
          71,
          72,
          73,
          74,
          75,
          76,
          77,
          78,
          79,
          80,
          81,
          82,
          83,
          84,
          85,
          86,
          87,
          88,
          89,
          90,
          91,
          92,
          93,
          94,
          95,
          96,
          97,
          98,
          99
         ],
         "yaxis": "y",
         "z": [
          [
           1,
           1,
           1,
           1,
           1,
           1,
           1
          ],
          [
           3,
           1,
           1,
           1,
           1,
           1,
           3
          ],
          [
           1,
           1,
           1,
           1,
           1,
           1,
           1
          ],
          [
           1,
           1,
           1,
           1,
           1,
           3,
           1
          ],
          [
           1,
           1,
           1,
           1,
           1,
           1,
           1
          ],
          [
           1,
           1,
           3,
           1,
           1,
           1,
           1
          ],
          [
           1,
           1,
           1,
           1,
           1,
           1,
           1
          ],
          [
           3,
           5,
           1,
           1,
           1,
           3,
           1
          ],
          [
           1,
           1,
           1,
           1,
           1,
           1,
           1
          ],
          [
           1,
           1,
           1,
           1,
           1,
           1,
           1
          ],
          [
           1,
           3,
           3,
           3,
           1,
           1,
           1
          ],
          [
           1,
           3,
           1,
           3,
           1,
           1,
           3
          ],
          [
           1,
           1,
           1,
           1,
           1,
           1,
           3
          ],
          [
           3,
           1,
           1,
           1,
           1,
           1,
           3
          ],
          [
           1,
           1,
           1,
           1,
           3,
           3,
           1
          ],
          [
           1,
           1,
           1,
           1,
           1,
           3,
           1
          ],
          [
           1,
           1,
           3,
           3,
           1,
           1,
           1
          ],
          [
           1,
           1,
           1,
           3,
           1,
           1,
           1
          ],
          [
           3,
           5,
           1,
           1,
           1,
           1,
           3
          ],
          [
           1,
           1,
           3,
           1,
           1,
           1,
           1
          ],
          [
           1,
           1,
           1,
           1,
           1,
           1,
           1
          ],
          [
           3,
           1,
           1,
           1,
           1,
           1,
           3
          ],
          [
           1,
           1,
           3,
           1,
           3,
           1,
           1
          ],
          [
           3,
           1,
           1,
           1,
           1,
           1,
           1
          ],
          [
           1,
           1,
           3,
           1,
           1,
           3,
           3
          ],
          [
           1,
           1,
           1,
           1,
           1,
           1,
           1
          ],
          [
           1,
           1,
           1,
           1,
           1,
           1,
           1
          ],
          [
           1,
           1,
           3,
           3,
           3,
           1,
           1
          ],
          [
           1,
           3,
           3,
           3,
           1,
           3,
           1
          ],
          [
           1,
           1,
           1,
           3,
           1,
           1,
           3
          ],
          [
           1,
           1,
           1,
           1,
           1,
           3,
           1
          ],
          [
           1,
           3,
           1,
           1,
           3,
           1,
           1
          ],
          [
           1,
           1,
           1,
           1,
           1,
           3,
           1
          ],
          [
           1,
           1,
           3,
           1,
           3,
           1,
           1
          ],
          [
           1,
           1,
           1,
           1,
           3,
           3,
           1
          ],
          [
           1,
           3,
           3,
           1,
           3,
           1,
           1
          ],
          [
           1,
           1,
           1,
           1,
           1,
           3,
           1
          ],
          [
           1,
           1,
           1,
           1,
           1,
           1,
           1
          ],
          [
           1,
           1,
           1,
           1,
           1,
           1,
           1
          ],
          [
           1,
           1,
           1,
           3,
           1,
           1,
           1
          ],
          [
           3,
           3,
           1,
           1,
           3,
           3,
           3
          ],
          [
           1,
           5,
           1,
           1,
           1,
           3,
           1
          ],
          [
           1,
           1,
           1,
           1,
           1,
           1,
           1
          ],
          [
           1,
           1,
           3,
           1,
           1,
           1,
           1
          ],
          [
           3,
           1,
           1,
           1,
           1,
           1,
           1
          ],
          [
           3,
           1,
           5,
           5,
           5,
           5,
           5
          ],
          [
           5,
           5,
           3,
           3,
           5,
           7,
           7
          ],
          [
           1,
           1,
           1,
           1,
           1,
           3,
           3
          ],
          [
           1,
           1,
           1,
           3,
           1,
           1,
           3
          ],
          [
           1,
           1,
           1,
           3,
           1,
           1,
           3
          ],
          [
           1,
           1,
           1,
           1,
           1,
           1,
           1
          ],
          [
           1,
           1,
           3,
           1,
           1,
           1,
           1
          ],
          [
           1,
           1,
           1,
           1,
           1,
           1,
           1
          ],
          [
           5,
           3,
           3,
           3,
           5,
           1,
           1
          ],
          [
           1,
           3,
           3,
           5,
           1,
           1,
           3
          ],
          [
           3,
           1,
           1,
           1,
           1,
           1,
           1
          ],
          [
           1,
           1,
           1,
           1,
           1,
           1,
           1
          ],
          [
           3,
           3,
           1,
           1,
           3,
           1,
           1
          ],
          [
           1,
           1,
           1,
           1,
           1,
           1,
           1
          ],
          [
           1,
           1,
           3,
           1,
           1,
           1,
           1
          ],
          [
           1,
           1,
           1,
           1,
           3,
           1,
           1
          ],
          [
           1,
           1,
           1,
           1,
           1,
           1,
           1
          ],
          [
           1,
           1,
           1,
           1,
           1,
           1,
           1
          ],
          [
           1,
           5,
           1,
           1,
           1,
           1,
           3
          ],
          [
           1,
           1,
           1,
           1,
           1,
           1,
           1
          ],
          [
           1,
           1,
           1,
           1,
           1,
           1,
           3
          ],
          [
           1,
           1,
           1,
           1,
           1,
           1,
           3
          ],
          [
           1,
           1,
           1,
           1,
           1,
           1,
           1
          ],
          [
           1,
           1,
           1,
           1,
           1,
           1,
           3
          ],
          [
           3,
           1,
           3,
           3,
           1,
           1,
           1
          ],
          [
           1,
           3,
           3,
           1,
           1,
           1,
           1
          ],
          [
           1,
           1,
           1,
           3,
           3,
           1,
           1
          ],
          [
           1,
           1,
           1,
           1,
           1,
           1,
           1
          ],
          [
           1,
           1,
           1,
           3,
           1,
           1,
           1
          ],
          [
           1,
           1,
           1,
           1,
           1,
           1,
           1
          ],
          [
           1,
           1,
           3,
           1,
           1,
           1,
           1
          ],
          [
           1,
           1,
           1,
           1,
           1,
           3,
           3
          ],
          [
           1,
           1,
           1,
           1,
           1,
           1,
           1
          ],
          [
           1,
           1,
           1,
           1,
           1,
           1,
           1
          ],
          [
           1,
           3,
           1,
           1,
           1,
           1,
           1
          ],
          [
           1,
           1,
           1,
           1,
           1,
           1,
           1
          ],
          [
           3,
           3,
           1,
           1,
           1,
           1,
           3
          ],
          [
           3,
           1,
           1,
           1,
           1,
           1,
           1
          ],
          [
           3,
           3,
           1,
           3,
           3,
           1,
           3
          ],
          [
           1,
           1,
           1,
           1,
           1,
           1,
           1
          ],
          [
           1,
           1,
           3,
           1,
           1,
           1,
           1
          ],
          [
           1,
           1,
           1,
           1,
           1,
           1,
           1
          ],
          [
           1,
           1,
           1,
           1,
           1,
           1,
           1
          ],
          [
           1,
           1,
           1,
           1,
           1,
           1,
           1
          ],
          [
           1,
           1,
           1,
           1,
           1,
           1,
           1
          ],
          [
           1,
           1,
           1,
           3,
           1,
           3,
           1
          ],
          [
           1,
           1,
           1,
           1,
           1,
           1,
           1
          ],
          [
           1,
           1,
           1,
           1,
           1,
           1,
           1
          ],
          [
           1,
           1,
           1,
           1,
           1,
           1,
           1
          ],
          [
           1,
           1,
           1,
           1,
           1,
           3,
           1
          ],
          [
           1,
           1,
           1,
           1,
           1,
           1,
           1
          ],
          [
           1,
           1,
           1,
           3,
           1,
           1,
           1
          ],
          [
           1,
           3,
           1,
           3,
           3,
           1,
           1
          ],
          [
           3,
           1,
           1,
           1,
           1,
           1,
           1
          ],
          [
           1,
           3,
           1,
           1,
           1,
           3,
           1
          ]
         ]
        }
       ],
       "layout": {
        "coloraxis": {
         "colorbar": {
          "title": {
           "text": "Productivity"
          }
         },
         "colorscale": [
          [
           0,
           "#0d0887"
          ],
          [
           0.1111111111111111,
           "#46039f"
          ],
          [
           0.2222222222222222,
           "#7201a8"
          ],
          [
           0.3333333333333333,
           "#9c179e"
          ],
          [
           0.4444444444444444,
           "#bd3786"
          ],
          [
           0.5555555555555556,
           "#d8576b"
          ],
          [
           0.6666666666666666,
           "#ed7953"
          ],
          [
           0.7777777777777778,
           "#fb9f3a"
          ],
          [
           0.8888888888888888,
           "#fdca26"
          ],
          [
           1,
           "#f0f921"
          ]
         ]
        },
        "margin": {
         "t": 60
        },
        "template": {
         "data": {
          "bar": [
           {
            "error_x": {
             "color": "#2a3f5f"
            },
            "error_y": {
             "color": "#2a3f5f"
            },
            "marker": {
             "line": {
              "color": "#E5ECF6",
              "width": 0.5
             },
             "pattern": {
              "fillmode": "overlay",
              "size": 10,
              "solidity": 0.2
             }
            },
            "type": "bar"
           }
          ],
          "barpolar": [
           {
            "marker": {
             "line": {
              "color": "#E5ECF6",
              "width": 0.5
             },
             "pattern": {
              "fillmode": "overlay",
              "size": 10,
              "solidity": 0.2
             }
            },
            "type": "barpolar"
           }
          ],
          "carpet": [
           {
            "aaxis": {
             "endlinecolor": "#2a3f5f",
             "gridcolor": "white",
             "linecolor": "white",
             "minorgridcolor": "white",
             "startlinecolor": "#2a3f5f"
            },
            "baxis": {
             "endlinecolor": "#2a3f5f",
             "gridcolor": "white",
             "linecolor": "white",
             "minorgridcolor": "white",
             "startlinecolor": "#2a3f5f"
            },
            "type": "carpet"
           }
          ],
          "choropleth": [
           {
            "colorbar": {
             "outlinewidth": 0,
             "ticks": ""
            },
            "type": "choropleth"
           }
          ],
          "contour": [
           {
            "colorbar": {
             "outlinewidth": 0,
             "ticks": ""
            },
            "colorscale": [
             [
              0,
              "#0d0887"
             ],
             [
              0.1111111111111111,
              "#46039f"
             ],
             [
              0.2222222222222222,
              "#7201a8"
             ],
             [
              0.3333333333333333,
              "#9c179e"
             ],
             [
              0.4444444444444444,
              "#bd3786"
             ],
             [
              0.5555555555555556,
              "#d8576b"
             ],
             [
              0.6666666666666666,
              "#ed7953"
             ],
             [
              0.7777777777777778,
              "#fb9f3a"
             ],
             [
              0.8888888888888888,
              "#fdca26"
             ],
             [
              1,
              "#f0f921"
             ]
            ],
            "type": "contour"
           }
          ],
          "contourcarpet": [
           {
            "colorbar": {
             "outlinewidth": 0,
             "ticks": ""
            },
            "type": "contourcarpet"
           }
          ],
          "heatmap": [
           {
            "colorbar": {
             "outlinewidth": 0,
             "ticks": ""
            },
            "colorscale": [
             [
              0,
              "#0d0887"
             ],
             [
              0.1111111111111111,
              "#46039f"
             ],
             [
              0.2222222222222222,
              "#7201a8"
             ],
             [
              0.3333333333333333,
              "#9c179e"
             ],
             [
              0.4444444444444444,
              "#bd3786"
             ],
             [
              0.5555555555555556,
              "#d8576b"
             ],
             [
              0.6666666666666666,
              "#ed7953"
             ],
             [
              0.7777777777777778,
              "#fb9f3a"
             ],
             [
              0.8888888888888888,
              "#fdca26"
             ],
             [
              1,
              "#f0f921"
             ]
            ],
            "type": "heatmap"
           }
          ],
          "heatmapgl": [
           {
            "colorbar": {
             "outlinewidth": 0,
             "ticks": ""
            },
            "colorscale": [
             [
              0,
              "#0d0887"
             ],
             [
              0.1111111111111111,
              "#46039f"
             ],
             [
              0.2222222222222222,
              "#7201a8"
             ],
             [
              0.3333333333333333,
              "#9c179e"
             ],
             [
              0.4444444444444444,
              "#bd3786"
             ],
             [
              0.5555555555555556,
              "#d8576b"
             ],
             [
              0.6666666666666666,
              "#ed7953"
             ],
             [
              0.7777777777777778,
              "#fb9f3a"
             ],
             [
              0.8888888888888888,
              "#fdca26"
             ],
             [
              1,
              "#f0f921"
             ]
            ],
            "type": "heatmapgl"
           }
          ],
          "histogram": [
           {
            "marker": {
             "pattern": {
              "fillmode": "overlay",
              "size": 10,
              "solidity": 0.2
             }
            },
            "type": "histogram"
           }
          ],
          "histogram2d": [
           {
            "colorbar": {
             "outlinewidth": 0,
             "ticks": ""
            },
            "colorscale": [
             [
              0,
              "#0d0887"
             ],
             [
              0.1111111111111111,
              "#46039f"
             ],
             [
              0.2222222222222222,
              "#7201a8"
             ],
             [
              0.3333333333333333,
              "#9c179e"
             ],
             [
              0.4444444444444444,
              "#bd3786"
             ],
             [
              0.5555555555555556,
              "#d8576b"
             ],
             [
              0.6666666666666666,
              "#ed7953"
             ],
             [
              0.7777777777777778,
              "#fb9f3a"
             ],
             [
              0.8888888888888888,
              "#fdca26"
             ],
             [
              1,
              "#f0f921"
             ]
            ],
            "type": "histogram2d"
           }
          ],
          "histogram2dcontour": [
           {
            "colorbar": {
             "outlinewidth": 0,
             "ticks": ""
            },
            "colorscale": [
             [
              0,
              "#0d0887"
             ],
             [
              0.1111111111111111,
              "#46039f"
             ],
             [
              0.2222222222222222,
              "#7201a8"
             ],
             [
              0.3333333333333333,
              "#9c179e"
             ],
             [
              0.4444444444444444,
              "#bd3786"
             ],
             [
              0.5555555555555556,
              "#d8576b"
             ],
             [
              0.6666666666666666,
              "#ed7953"
             ],
             [
              0.7777777777777778,
              "#fb9f3a"
             ],
             [
              0.8888888888888888,
              "#fdca26"
             ],
             [
              1,
              "#f0f921"
             ]
            ],
            "type": "histogram2dcontour"
           }
          ],
          "mesh3d": [
           {
            "colorbar": {
             "outlinewidth": 0,
             "ticks": ""
            },
            "type": "mesh3d"
           }
          ],
          "parcoords": [
           {
            "line": {
             "colorbar": {
              "outlinewidth": 0,
              "ticks": ""
             }
            },
            "type": "parcoords"
           }
          ],
          "pie": [
           {
            "automargin": true,
            "type": "pie"
           }
          ],
          "scatter": [
           {
            "marker": {
             "colorbar": {
              "outlinewidth": 0,
              "ticks": ""
             }
            },
            "type": "scatter"
           }
          ],
          "scatter3d": [
           {
            "line": {
             "colorbar": {
              "outlinewidth": 0,
              "ticks": ""
             }
            },
            "marker": {
             "colorbar": {
              "outlinewidth": 0,
              "ticks": ""
             }
            },
            "type": "scatter3d"
           }
          ],
          "scattercarpet": [
           {
            "marker": {
             "colorbar": {
              "outlinewidth": 0,
              "ticks": ""
             }
            },
            "type": "scattercarpet"
           }
          ],
          "scattergeo": [
           {
            "marker": {
             "colorbar": {
              "outlinewidth": 0,
              "ticks": ""
             }
            },
            "type": "scattergeo"
           }
          ],
          "scattergl": [
           {
            "marker": {
             "colorbar": {
              "outlinewidth": 0,
              "ticks": ""
             }
            },
            "type": "scattergl"
           }
          ],
          "scattermapbox": [
           {
            "marker": {
             "colorbar": {
              "outlinewidth": 0,
              "ticks": ""
             }
            },
            "type": "scattermapbox"
           }
          ],
          "scatterpolar": [
           {
            "marker": {
             "colorbar": {
              "outlinewidth": 0,
              "ticks": ""
             }
            },
            "type": "scatterpolar"
           }
          ],
          "scatterpolargl": [
           {
            "marker": {
             "colorbar": {
              "outlinewidth": 0,
              "ticks": ""
             }
            },
            "type": "scatterpolargl"
           }
          ],
          "scatterternary": [
           {
            "marker": {
             "colorbar": {
              "outlinewidth": 0,
              "ticks": ""
             }
            },
            "type": "scatterternary"
           }
          ],
          "surface": [
           {
            "colorbar": {
             "outlinewidth": 0,
             "ticks": ""
            },
            "colorscale": [
             [
              0,
              "#0d0887"
             ],
             [
              0.1111111111111111,
              "#46039f"
             ],
             [
              0.2222222222222222,
              "#7201a8"
             ],
             [
              0.3333333333333333,
              "#9c179e"
             ],
             [
              0.4444444444444444,
              "#bd3786"
             ],
             [
              0.5555555555555556,
              "#d8576b"
             ],
             [
              0.6666666666666666,
              "#ed7953"
             ],
             [
              0.7777777777777778,
              "#fb9f3a"
             ],
             [
              0.8888888888888888,
              "#fdca26"
             ],
             [
              1,
              "#f0f921"
             ]
            ],
            "type": "surface"
           }
          ],
          "table": [
           {
            "cells": {
             "fill": {
              "color": "#EBF0F8"
             },
             "line": {
              "color": "white"
             }
            },
            "header": {
             "fill": {
              "color": "#C8D4E3"
             },
             "line": {
              "color": "white"
             }
            },
            "type": "table"
           }
          ]
         },
         "layout": {
          "annotationdefaults": {
           "arrowcolor": "#2a3f5f",
           "arrowhead": 0,
           "arrowwidth": 1
          },
          "autotypenumbers": "strict",
          "coloraxis": {
           "colorbar": {
            "outlinewidth": 0,
            "ticks": ""
           }
          },
          "colorscale": {
           "diverging": [
            [
             0,
             "#8e0152"
            ],
            [
             0.1,
             "#c51b7d"
            ],
            [
             0.2,
             "#de77ae"
            ],
            [
             0.3,
             "#f1b6da"
            ],
            [
             0.4,
             "#fde0ef"
            ],
            [
             0.5,
             "#f7f7f7"
            ],
            [
             0.6,
             "#e6f5d0"
            ],
            [
             0.7,
             "#b8e186"
            ],
            [
             0.8,
             "#7fbc41"
            ],
            [
             0.9,
             "#4d9221"
            ],
            [
             1,
             "#276419"
            ]
           ],
           "sequential": [
            [
             0,
             "#0d0887"
            ],
            [
             0.1111111111111111,
             "#46039f"
            ],
            [
             0.2222222222222222,
             "#7201a8"
            ],
            [
             0.3333333333333333,
             "#9c179e"
            ],
            [
             0.4444444444444444,
             "#bd3786"
            ],
            [
             0.5555555555555556,
             "#d8576b"
            ],
            [
             0.6666666666666666,
             "#ed7953"
            ],
            [
             0.7777777777777778,
             "#fb9f3a"
            ],
            [
             0.8888888888888888,
             "#fdca26"
            ],
            [
             1,
             "#f0f921"
            ]
           ],
           "sequentialminus": [
            [
             0,
             "#0d0887"
            ],
            [
             0.1111111111111111,
             "#46039f"
            ],
            [
             0.2222222222222222,
             "#7201a8"
            ],
            [
             0.3333333333333333,
             "#9c179e"
            ],
            [
             0.4444444444444444,
             "#bd3786"
            ],
            [
             0.5555555555555556,
             "#d8576b"
            ],
            [
             0.6666666666666666,
             "#ed7953"
            ],
            [
             0.7777777777777778,
             "#fb9f3a"
            ],
            [
             0.8888888888888888,
             "#fdca26"
            ],
            [
             1,
             "#f0f921"
            ]
           ]
          },
          "colorway": [
           "#636efa",
           "#EF553B",
           "#00cc96",
           "#ab63fa",
           "#FFA15A",
           "#19d3f3",
           "#FF6692",
           "#B6E880",
           "#FF97FF",
           "#FECB52"
          ],
          "font": {
           "color": "#2a3f5f"
          },
          "geo": {
           "bgcolor": "white",
           "lakecolor": "white",
           "landcolor": "#E5ECF6",
           "showlakes": true,
           "showland": true,
           "subunitcolor": "white"
          },
          "hoverlabel": {
           "align": "left"
          },
          "hovermode": "closest",
          "mapbox": {
           "style": "light"
          },
          "paper_bgcolor": "white",
          "plot_bgcolor": "#E5ECF6",
          "polar": {
           "angularaxis": {
            "gridcolor": "white",
            "linecolor": "white",
            "ticks": ""
           },
           "bgcolor": "#E5ECF6",
           "radialaxis": {
            "gridcolor": "white",
            "linecolor": "white",
            "ticks": ""
           }
          },
          "scene": {
           "xaxis": {
            "backgroundcolor": "#E5ECF6",
            "gridcolor": "white",
            "gridwidth": 2,
            "linecolor": "white",
            "showbackground": true,
            "ticks": "",
            "zerolinecolor": "white"
           },
           "yaxis": {
            "backgroundcolor": "#E5ECF6",
            "gridcolor": "white",
            "gridwidth": 2,
            "linecolor": "white",
            "showbackground": true,
            "ticks": "",
            "zerolinecolor": "white"
           },
           "zaxis": {
            "backgroundcolor": "#E5ECF6",
            "gridcolor": "white",
            "gridwidth": 2,
            "linecolor": "white",
            "showbackground": true,
            "ticks": "",
            "zerolinecolor": "white"
           }
          },
          "shapedefaults": {
           "line": {
            "color": "#2a3f5f"
           }
          },
          "ternary": {
           "aaxis": {
            "gridcolor": "white",
            "linecolor": "white",
            "ticks": ""
           },
           "baxis": {
            "gridcolor": "white",
            "linecolor": "white",
            "ticks": ""
           },
           "bgcolor": "#E5ECF6",
           "caxis": {
            "gridcolor": "white",
            "linecolor": "white",
            "ticks": ""
           }
          },
          "title": {
           "x": 0.05
          },
          "xaxis": {
           "automargin": true,
           "gridcolor": "white",
           "linecolor": "white",
           "ticks": "",
           "title": {
            "standoff": 15
           },
           "zerolinecolor": "white",
           "zerolinewidth": 2
          },
          "yaxis": {
           "automargin": true,
           "gridcolor": "white",
           "linecolor": "white",
           "ticks": "",
           "title": {
            "standoff": 15
           },
           "zerolinecolor": "white",
           "zerolinewidth": 2
          }
         }
        },
        "xaxis": {
         "anchor": "y",
         "constrain": "domain",
         "domain": [
          0,
          1
         ],
         "scaleanchor": "y",
         "title": {
          "text": "n from n_matching"
         }
        },
        "yaxis": {
         "anchor": "x",
         "autorange": "reversed",
         "constrain": "domain",
         "domain": [
          0,
          1
         ],
         "title": {
          "text": "freq"
         }
        }
       }
      }
     },
     "metadata": {},
     "output_type": "display_data"
    }
   ],
   "source": [
    "fig = px.imshow(freq_n_matchings,\n",
    "                labels=dict(x=\"n from n_matching\", y=\"freq\", color=\"Productivity\"),\n",
    "                x=list(range(N)),\n",
    "                y=list(range(num_points))\n",
    "               )\n",
    "fig.show()\n"
   ]
  },
  {
   "cell_type": "code",
   "execution_count": null,
   "metadata": {},
   "outputs": [
    {
     "name": "stdout",
     "output_type": "stream",
     "text": [
      "Time taken to run is: 5.553414583206177 seconds\n"
     ]
    }
   ],
   "source": [
    "iter_list_opt = []\n",
    "path_len_list_opt = []\n",
    "ant_winner_list_opt = []\n",
    "n_matchings_list = []\n",
    "tic = time.time()\n",
    "for iter in range(num_points):\n",
    "    ((ant_winner, path_len), iter, n_matchings) = run_ants_on_hypercube_random_colors_optimized(n=N, num_ants=num_ants, plot_network_graph=False, plot_stats=True)\n",
    "    iter_list_opt.append(iter)\n",
    "    path_len_list_opt.append(path_len)\n",
    "    ant_winner_list_opt.append(ant_winner)\n",
    "toc = time.time()\n",
    "print(\"Time taken to run is:\", toc - tic, \"seconds\" )\n"
   ]
  },
  {
   "cell_type": "code",
   "execution_count": null,
   "metadata": {},
   "outputs": [
    {
     "data": {
      "application/vnd.plotly.v1+json": {
       "config": {
        "plotlyServerURL": "https://plot.ly"
       },
       "data": [
        {
         "mode": "markers",
         "name": "no pheremone",
         "type": "scatter",
         "x": [
          0,
          1,
          2,
          3,
          4,
          5,
          6,
          7,
          8,
          9,
          10,
          11,
          12,
          13,
          14,
          15,
          16,
          17,
          18,
          19,
          20,
          21,
          22,
          23,
          24,
          25,
          26,
          27,
          28,
          29,
          30,
          31,
          32,
          33,
          34,
          35,
          36,
          37,
          38,
          39,
          40,
          41,
          42,
          43,
          44,
          45,
          46,
          47,
          48,
          49,
          50,
          51,
          52,
          53,
          54,
          55,
          56,
          57,
          58,
          59,
          60,
          61,
          62,
          63,
          64,
          65,
          66,
          67,
          68,
          69,
          70,
          71,
          72,
          73,
          74,
          75,
          76,
          77,
          78,
          79,
          80,
          81,
          82,
          83,
          84,
          85,
          86,
          87,
          88,
          89,
          90,
          91,
          92,
          93,
          94,
          95,
          96,
          97,
          98,
          99
         ],
         "y": [
          7,
          15,
          7,
          9,
          7,
          9,
          7,
          15,
          7,
          7,
          13,
          13,
          9,
          11,
          11,
          9,
          11,
          9,
          15,
          9,
          7,
          11,
          11,
          9,
          13,
          7,
          7,
          13,
          15,
          11,
          9,
          11,
          9,
          11,
          11,
          13,
          9,
          7,
          7,
          9,
          17,
          13,
          7,
          9,
          9,
          29,
          35,
          11,
          11,
          11,
          7,
          9,
          7,
          21,
          17,
          9,
          7,
          13,
          7,
          9,
          9,
          7,
          7,
          13,
          7,
          9,
          9,
          7,
          9,
          13,
          11,
          11,
          7,
          9,
          7,
          9,
          11,
          7,
          7,
          9,
          7,
          13,
          9,
          17,
          7,
          9,
          15,
          7,
          7,
          7,
          11,
          7,
          7,
          7,
          9,
          7,
          9,
          13,
          9,
          11
         ]
        },
        {
         "mode": "markers",
         "name": "with pheremone",
         "type": "scatter",
         "x": [
          0,
          1,
          2,
          3,
          4,
          5,
          6,
          7,
          8,
          9,
          10,
          11,
          12,
          13,
          14,
          15,
          16,
          17,
          18,
          19,
          20,
          21,
          22,
          23,
          24,
          25,
          26,
          27,
          28,
          29,
          30,
          31,
          32,
          33,
          34,
          35,
          36,
          37,
          38,
          39,
          40,
          41,
          42,
          43,
          44,
          45,
          46,
          47,
          48,
          49,
          50,
          51,
          52,
          53,
          54,
          55,
          56,
          57,
          58,
          59,
          60,
          61,
          62,
          63,
          64,
          65,
          66,
          67,
          68,
          69,
          70,
          71,
          72,
          73,
          74,
          75,
          76,
          77,
          78,
          79,
          80,
          81,
          82,
          83,
          84,
          85,
          86,
          87,
          88,
          89,
          90,
          91,
          92,
          93,
          94,
          95,
          96,
          97,
          98,
          99
         ],
         "y": [
          7,
          7,
          7,
          7,
          7,
          7,
          7,
          9,
          7,
          7,
          7,
          7,
          7,
          7,
          9,
          7,
          7,
          9,
          7,
          7,
          9,
          7,
          7,
          7,
          7,
          9,
          9,
          7,
          7,
          9,
          7,
          7,
          7,
          7,
          7,
          9,
          7,
          7,
          7,
          7,
          7,
          7,
          9,
          7,
          7,
          7,
          7,
          7,
          7,
          7,
          7,
          7,
          11,
          7,
          9,
          7,
          7,
          7,
          7,
          7,
          7,
          7,
          7,
          7,
          7,
          7,
          11,
          7,
          7,
          7,
          7,
          7,
          7,
          7,
          9,
          7,
          7,
          7,
          7,
          7,
          7,
          7,
          7,
          7,
          7,
          7,
          7,
          7,
          9,
          7,
          7,
          9,
          7,
          7,
          7,
          7,
          7,
          7,
          7,
          7
         ]
        }
       ],
       "layout": {
        "template": {
         "data": {
          "bar": [
           {
            "error_x": {
             "color": "#2a3f5f"
            },
            "error_y": {
             "color": "#2a3f5f"
            },
            "marker": {
             "line": {
              "color": "#E5ECF6",
              "width": 0.5
             },
             "pattern": {
              "fillmode": "overlay",
              "size": 10,
              "solidity": 0.2
             }
            },
            "type": "bar"
           }
          ],
          "barpolar": [
           {
            "marker": {
             "line": {
              "color": "#E5ECF6",
              "width": 0.5
             },
             "pattern": {
              "fillmode": "overlay",
              "size": 10,
              "solidity": 0.2
             }
            },
            "type": "barpolar"
           }
          ],
          "carpet": [
           {
            "aaxis": {
             "endlinecolor": "#2a3f5f",
             "gridcolor": "white",
             "linecolor": "white",
             "minorgridcolor": "white",
             "startlinecolor": "#2a3f5f"
            },
            "baxis": {
             "endlinecolor": "#2a3f5f",
             "gridcolor": "white",
             "linecolor": "white",
             "minorgridcolor": "white",
             "startlinecolor": "#2a3f5f"
            },
            "type": "carpet"
           }
          ],
          "choropleth": [
           {
            "colorbar": {
             "outlinewidth": 0,
             "ticks": ""
            },
            "type": "choropleth"
           }
          ],
          "contour": [
           {
            "colorbar": {
             "outlinewidth": 0,
             "ticks": ""
            },
            "colorscale": [
             [
              0,
              "#0d0887"
             ],
             [
              0.1111111111111111,
              "#46039f"
             ],
             [
              0.2222222222222222,
              "#7201a8"
             ],
             [
              0.3333333333333333,
              "#9c179e"
             ],
             [
              0.4444444444444444,
              "#bd3786"
             ],
             [
              0.5555555555555556,
              "#d8576b"
             ],
             [
              0.6666666666666666,
              "#ed7953"
             ],
             [
              0.7777777777777778,
              "#fb9f3a"
             ],
             [
              0.8888888888888888,
              "#fdca26"
             ],
             [
              1,
              "#f0f921"
             ]
            ],
            "type": "contour"
           }
          ],
          "contourcarpet": [
           {
            "colorbar": {
             "outlinewidth": 0,
             "ticks": ""
            },
            "type": "contourcarpet"
           }
          ],
          "heatmap": [
           {
            "colorbar": {
             "outlinewidth": 0,
             "ticks": ""
            },
            "colorscale": [
             [
              0,
              "#0d0887"
             ],
             [
              0.1111111111111111,
              "#46039f"
             ],
             [
              0.2222222222222222,
              "#7201a8"
             ],
             [
              0.3333333333333333,
              "#9c179e"
             ],
             [
              0.4444444444444444,
              "#bd3786"
             ],
             [
              0.5555555555555556,
              "#d8576b"
             ],
             [
              0.6666666666666666,
              "#ed7953"
             ],
             [
              0.7777777777777778,
              "#fb9f3a"
             ],
             [
              0.8888888888888888,
              "#fdca26"
             ],
             [
              1,
              "#f0f921"
             ]
            ],
            "type": "heatmap"
           }
          ],
          "heatmapgl": [
           {
            "colorbar": {
             "outlinewidth": 0,
             "ticks": ""
            },
            "colorscale": [
             [
              0,
              "#0d0887"
             ],
             [
              0.1111111111111111,
              "#46039f"
             ],
             [
              0.2222222222222222,
              "#7201a8"
             ],
             [
              0.3333333333333333,
              "#9c179e"
             ],
             [
              0.4444444444444444,
              "#bd3786"
             ],
             [
              0.5555555555555556,
              "#d8576b"
             ],
             [
              0.6666666666666666,
              "#ed7953"
             ],
             [
              0.7777777777777778,
              "#fb9f3a"
             ],
             [
              0.8888888888888888,
              "#fdca26"
             ],
             [
              1,
              "#f0f921"
             ]
            ],
            "type": "heatmapgl"
           }
          ],
          "histogram": [
           {
            "marker": {
             "pattern": {
              "fillmode": "overlay",
              "size": 10,
              "solidity": 0.2
             }
            },
            "type": "histogram"
           }
          ],
          "histogram2d": [
           {
            "colorbar": {
             "outlinewidth": 0,
             "ticks": ""
            },
            "colorscale": [
             [
              0,
              "#0d0887"
             ],
             [
              0.1111111111111111,
              "#46039f"
             ],
             [
              0.2222222222222222,
              "#7201a8"
             ],
             [
              0.3333333333333333,
              "#9c179e"
             ],
             [
              0.4444444444444444,
              "#bd3786"
             ],
             [
              0.5555555555555556,
              "#d8576b"
             ],
             [
              0.6666666666666666,
              "#ed7953"
             ],
             [
              0.7777777777777778,
              "#fb9f3a"
             ],
             [
              0.8888888888888888,
              "#fdca26"
             ],
             [
              1,
              "#f0f921"
             ]
            ],
            "type": "histogram2d"
           }
          ],
          "histogram2dcontour": [
           {
            "colorbar": {
             "outlinewidth": 0,
             "ticks": ""
            },
            "colorscale": [
             [
              0,
              "#0d0887"
             ],
             [
              0.1111111111111111,
              "#46039f"
             ],
             [
              0.2222222222222222,
              "#7201a8"
             ],
             [
              0.3333333333333333,
              "#9c179e"
             ],
             [
              0.4444444444444444,
              "#bd3786"
             ],
             [
              0.5555555555555556,
              "#d8576b"
             ],
             [
              0.6666666666666666,
              "#ed7953"
             ],
             [
              0.7777777777777778,
              "#fb9f3a"
             ],
             [
              0.8888888888888888,
              "#fdca26"
             ],
             [
              1,
              "#f0f921"
             ]
            ],
            "type": "histogram2dcontour"
           }
          ],
          "mesh3d": [
           {
            "colorbar": {
             "outlinewidth": 0,
             "ticks": ""
            },
            "type": "mesh3d"
           }
          ],
          "parcoords": [
           {
            "line": {
             "colorbar": {
              "outlinewidth": 0,
              "ticks": ""
             }
            },
            "type": "parcoords"
           }
          ],
          "pie": [
           {
            "automargin": true,
            "type": "pie"
           }
          ],
          "scatter": [
           {
            "marker": {
             "colorbar": {
              "outlinewidth": 0,
              "ticks": ""
             }
            },
            "type": "scatter"
           }
          ],
          "scatter3d": [
           {
            "line": {
             "colorbar": {
              "outlinewidth": 0,
              "ticks": ""
             }
            },
            "marker": {
             "colorbar": {
              "outlinewidth": 0,
              "ticks": ""
             }
            },
            "type": "scatter3d"
           }
          ],
          "scattercarpet": [
           {
            "marker": {
             "colorbar": {
              "outlinewidth": 0,
              "ticks": ""
             }
            },
            "type": "scattercarpet"
           }
          ],
          "scattergeo": [
           {
            "marker": {
             "colorbar": {
              "outlinewidth": 0,
              "ticks": ""
             }
            },
            "type": "scattergeo"
           }
          ],
          "scattergl": [
           {
            "marker": {
             "colorbar": {
              "outlinewidth": 0,
              "ticks": ""
             }
            },
            "type": "scattergl"
           }
          ],
          "scattermapbox": [
           {
            "marker": {
             "colorbar": {
              "outlinewidth": 0,
              "ticks": ""
             }
            },
            "type": "scattermapbox"
           }
          ],
          "scatterpolar": [
           {
            "marker": {
             "colorbar": {
              "outlinewidth": 0,
              "ticks": ""
             }
            },
            "type": "scatterpolar"
           }
          ],
          "scatterpolargl": [
           {
            "marker": {
             "colorbar": {
              "outlinewidth": 0,
              "ticks": ""
             }
            },
            "type": "scatterpolargl"
           }
          ],
          "scatterternary": [
           {
            "marker": {
             "colorbar": {
              "outlinewidth": 0,
              "ticks": ""
             }
            },
            "type": "scatterternary"
           }
          ],
          "surface": [
           {
            "colorbar": {
             "outlinewidth": 0,
             "ticks": ""
            },
            "colorscale": [
             [
              0,
              "#0d0887"
             ],
             [
              0.1111111111111111,
              "#46039f"
             ],
             [
              0.2222222222222222,
              "#7201a8"
             ],
             [
              0.3333333333333333,
              "#9c179e"
             ],
             [
              0.4444444444444444,
              "#bd3786"
             ],
             [
              0.5555555555555556,
              "#d8576b"
             ],
             [
              0.6666666666666666,
              "#ed7953"
             ],
             [
              0.7777777777777778,
              "#fb9f3a"
             ],
             [
              0.8888888888888888,
              "#fdca26"
             ],
             [
              1,
              "#f0f921"
             ]
            ],
            "type": "surface"
           }
          ],
          "table": [
           {
            "cells": {
             "fill": {
              "color": "#EBF0F8"
             },
             "line": {
              "color": "white"
             }
            },
            "header": {
             "fill": {
              "color": "#C8D4E3"
             },
             "line": {
              "color": "white"
             }
            },
            "type": "table"
           }
          ]
         },
         "layout": {
          "annotationdefaults": {
           "arrowcolor": "#2a3f5f",
           "arrowhead": 0,
           "arrowwidth": 1
          },
          "autotypenumbers": "strict",
          "coloraxis": {
           "colorbar": {
            "outlinewidth": 0,
            "ticks": ""
           }
          },
          "colorscale": {
           "diverging": [
            [
             0,
             "#8e0152"
            ],
            [
             0.1,
             "#c51b7d"
            ],
            [
             0.2,
             "#de77ae"
            ],
            [
             0.3,
             "#f1b6da"
            ],
            [
             0.4,
             "#fde0ef"
            ],
            [
             0.5,
             "#f7f7f7"
            ],
            [
             0.6,
             "#e6f5d0"
            ],
            [
             0.7,
             "#b8e186"
            ],
            [
             0.8,
             "#7fbc41"
            ],
            [
             0.9,
             "#4d9221"
            ],
            [
             1,
             "#276419"
            ]
           ],
           "sequential": [
            [
             0,
             "#0d0887"
            ],
            [
             0.1111111111111111,
             "#46039f"
            ],
            [
             0.2222222222222222,
             "#7201a8"
            ],
            [
             0.3333333333333333,
             "#9c179e"
            ],
            [
             0.4444444444444444,
             "#bd3786"
            ],
            [
             0.5555555555555556,
             "#d8576b"
            ],
            [
             0.6666666666666666,
             "#ed7953"
            ],
            [
             0.7777777777777778,
             "#fb9f3a"
            ],
            [
             0.8888888888888888,
             "#fdca26"
            ],
            [
             1,
             "#f0f921"
            ]
           ],
           "sequentialminus": [
            [
             0,
             "#0d0887"
            ],
            [
             0.1111111111111111,
             "#46039f"
            ],
            [
             0.2222222222222222,
             "#7201a8"
            ],
            [
             0.3333333333333333,
             "#9c179e"
            ],
            [
             0.4444444444444444,
             "#bd3786"
            ],
            [
             0.5555555555555556,
             "#d8576b"
            ],
            [
             0.6666666666666666,
             "#ed7953"
            ],
            [
             0.7777777777777778,
             "#fb9f3a"
            ],
            [
             0.8888888888888888,
             "#fdca26"
            ],
            [
             1,
             "#f0f921"
            ]
           ]
          },
          "colorway": [
           "#636efa",
           "#EF553B",
           "#00cc96",
           "#ab63fa",
           "#FFA15A",
           "#19d3f3",
           "#FF6692",
           "#B6E880",
           "#FF97FF",
           "#FECB52"
          ],
          "font": {
           "color": "#2a3f5f"
          },
          "geo": {
           "bgcolor": "white",
           "lakecolor": "white",
           "landcolor": "#E5ECF6",
           "showlakes": true,
           "showland": true,
           "subunitcolor": "white"
          },
          "hoverlabel": {
           "align": "left"
          },
          "hovermode": "closest",
          "mapbox": {
           "style": "light"
          },
          "paper_bgcolor": "white",
          "plot_bgcolor": "#E5ECF6",
          "polar": {
           "angularaxis": {
            "gridcolor": "white",
            "linecolor": "white",
            "ticks": ""
           },
           "bgcolor": "#E5ECF6",
           "radialaxis": {
            "gridcolor": "white",
            "linecolor": "white",
            "ticks": ""
           }
          },
          "scene": {
           "xaxis": {
            "backgroundcolor": "#E5ECF6",
            "gridcolor": "white",
            "gridwidth": 2,
            "linecolor": "white",
            "showbackground": true,
            "ticks": "",
            "zerolinecolor": "white"
           },
           "yaxis": {
            "backgroundcolor": "#E5ECF6",
            "gridcolor": "white",
            "gridwidth": 2,
            "linecolor": "white",
            "showbackground": true,
            "ticks": "",
            "zerolinecolor": "white"
           },
           "zaxis": {
            "backgroundcolor": "#E5ECF6",
            "gridcolor": "white",
            "gridwidth": 2,
            "linecolor": "white",
            "showbackground": true,
            "ticks": "",
            "zerolinecolor": "white"
           }
          },
          "shapedefaults": {
           "line": {
            "color": "#2a3f5f"
           }
          },
          "ternary": {
           "aaxis": {
            "gridcolor": "white",
            "linecolor": "white",
            "ticks": ""
           },
           "baxis": {
            "gridcolor": "white",
            "linecolor": "white",
            "ticks": ""
           },
           "bgcolor": "#E5ECF6",
           "caxis": {
            "gridcolor": "white",
            "linecolor": "white",
            "ticks": ""
           }
          },
          "title": {
           "x": 0.05
          },
          "xaxis": {
           "automargin": true,
           "gridcolor": "white",
           "linecolor": "white",
           "ticks": "",
           "title": {
            "standoff": 15
           },
           "zerolinecolor": "white",
           "zerolinewidth": 2
          },
          "yaxis": {
           "automargin": true,
           "gridcolor": "white",
           "linecolor": "white",
           "ticks": "",
           "title": {
            "standoff": 15
           },
           "zerolinecolor": "white",
           "zerolinewidth": 2
          }
         }
        },
        "title": {
         "text": "comparing no. of iterations needed"
        },
        "xaxis": {
         "title": {
          "text": "no. of experiments"
         }
        },
        "yaxis": {
         "title": {
          "text": "no. of iterations per experiments"
         }
        }
       }
      }
     },
     "metadata": {},
     "output_type": "display_data"
    },
    {
     "name": "stdout",
     "output_type": "stream",
     "text": [
      "Mean iterations without pheremone:  10.24\n",
      "Median iterations without pheremone:  9.0\n",
      "Mean iterations with pheremone:  7.34\n",
      "Median iterations with pheremone:  7.0\n"
     ]
    }
   ],
   "source": [
    "fig = go.Figure()\n",
    "x_axis = list(range(num_points))\n",
    "\n",
    "fig.add_trace(go.Scatter(x=x_axis, y=iter_list,\n",
    "                    mode='markers',\n",
    "                    name='no pheremone'))\n",
    "fig.add_trace(go.Scatter(x=x_axis, y=iter_list_opt,\n",
    "                    mode='markers',\n",
    "                    name='with pheremone'))\n",
    "fig.update_layout(title='comparing no. of iterations needed',\n",
    "                   xaxis_title='no. of experiments',\n",
    "                   yaxis_title='no. of iterations per experiments')\n",
    "fig.show()\n",
    "print(\"Mean iterations without pheremone: \", np.nanmean(iter_list))\n",
    "print(\"Median iterations without pheremone: \", np.nanmedian(iter_list))\n",
    "print(\"Mean iterations with pheremone: \", np.nanmean(iter_list_opt))\n",
    "print(\"Median iterations with pheremone: \", np.nanmedian(iter_list_opt))"
   ]
  },
  {
   "cell_type": "code",
   "execution_count": null,
   "metadata": {},
   "outputs": [
    {
     "data": {
      "application/vnd.plotly.v1+json": {
       "config": {
        "plotlyServerURL": "https://plot.ly"
       },
       "data": [
        {
         "mode": "markers",
         "name": "no pheremone",
         "type": "scatter",
         "x": [
          0,
          1,
          2,
          3,
          4,
          5,
          6,
          7,
          8,
          9,
          10,
          11,
          12,
          13,
          14,
          15,
          16,
          17,
          18,
          19,
          20,
          21,
          22,
          23,
          24,
          25,
          26,
          27,
          28,
          29,
          30,
          31,
          32,
          33,
          34,
          35,
          36,
          37,
          38,
          39,
          40,
          41,
          42,
          43,
          44,
          45,
          46,
          47,
          48,
          49,
          50,
          51,
          52,
          53,
          54,
          55,
          56,
          57,
          58,
          59,
          60,
          61,
          62,
          63,
          64,
          65,
          66,
          67,
          68,
          69,
          70,
          71,
          72,
          73,
          74,
          75,
          76,
          77,
          78,
          79,
          80,
          81,
          82,
          83,
          84,
          85,
          86,
          87,
          88,
          89,
          90,
          91,
          92,
          93,
          94,
          95,
          96,
          97,
          98,
          99
         ],
         "y": [
          7,
          11,
          7,
          9,
          7,
          9,
          7,
          15,
          7,
          7,
          13,
          13,
          9,
          11,
          11,
          9,
          11,
          9,
          15,
          9,
          7,
          11,
          11,
          9,
          13,
          7,
          7,
          13,
          15,
          11,
          9,
          11,
          9,
          11,
          11,
          13,
          9,
          7,
          7,
          9,
          17,
          13,
          7,
          9,
          9,
          29,
          35,
          11,
          11,
          11,
          7,
          9,
          7,
          21,
          17,
          9,
          7,
          13,
          7,
          9,
          9,
          7,
          7,
          13,
          7,
          9,
          9,
          7,
          9,
          13,
          11,
          11,
          7,
          9,
          7,
          9,
          11,
          7,
          7,
          9,
          7,
          13,
          9,
          17,
          7,
          9,
          7,
          7,
          7,
          7,
          11,
          7,
          7,
          7,
          9,
          7,
          9,
          13,
          9,
          11
         ]
        },
        {
         "mode": "markers",
         "name": "with pheremone",
         "type": "scatter",
         "x": [
          0,
          1,
          2,
          3,
          4,
          5,
          6,
          7,
          8,
          9,
          10,
          11,
          12,
          13,
          14,
          15,
          16,
          17,
          18,
          19,
          20,
          21,
          22,
          23,
          24,
          25,
          26,
          27,
          28,
          29,
          30,
          31,
          32,
          33,
          34,
          35,
          36,
          37,
          38,
          39,
          40,
          41,
          42,
          43,
          44,
          45,
          46,
          47,
          48,
          49,
          50,
          51,
          52,
          53,
          54,
          55,
          56,
          57,
          58,
          59,
          60,
          61,
          62,
          63,
          64,
          65,
          66,
          67,
          68,
          69,
          70,
          71,
          72,
          73,
          74,
          75,
          76,
          77,
          78,
          79,
          80,
          81,
          82,
          83,
          84,
          85,
          86,
          87,
          88,
          89,
          90,
          91,
          92,
          93,
          94,
          95,
          96,
          97,
          98,
          99
         ],
         "y": [
          7,
          7,
          7,
          7,
          7,
          7,
          7,
          9,
          7,
          7,
          7,
          7,
          7,
          7,
          9,
          7,
          7,
          9,
          7,
          7,
          9,
          7,
          7,
          7,
          7,
          9,
          9,
          7,
          7,
          9,
          7,
          7,
          7,
          7,
          7,
          9,
          7,
          7,
          7,
          7,
          7,
          7,
          9,
          7,
          7,
          7,
          7,
          7,
          7,
          7,
          7,
          7,
          11,
          7,
          9,
          7,
          7,
          7,
          7,
          7,
          7,
          7,
          7,
          7,
          7,
          7,
          11,
          7,
          7,
          7,
          7,
          7,
          7,
          7,
          9,
          7,
          7,
          7,
          7,
          7,
          7,
          7,
          7,
          7,
          7,
          7,
          7,
          7,
          9,
          7,
          7,
          9,
          7,
          7,
          7,
          7,
          7,
          7,
          7,
          7
         ]
        }
       ],
       "layout": {
        "template": {
         "data": {
          "bar": [
           {
            "error_x": {
             "color": "#2a3f5f"
            },
            "error_y": {
             "color": "#2a3f5f"
            },
            "marker": {
             "line": {
              "color": "#E5ECF6",
              "width": 0.5
             },
             "pattern": {
              "fillmode": "overlay",
              "size": 10,
              "solidity": 0.2
             }
            },
            "type": "bar"
           }
          ],
          "barpolar": [
           {
            "marker": {
             "line": {
              "color": "#E5ECF6",
              "width": 0.5
             },
             "pattern": {
              "fillmode": "overlay",
              "size": 10,
              "solidity": 0.2
             }
            },
            "type": "barpolar"
           }
          ],
          "carpet": [
           {
            "aaxis": {
             "endlinecolor": "#2a3f5f",
             "gridcolor": "white",
             "linecolor": "white",
             "minorgridcolor": "white",
             "startlinecolor": "#2a3f5f"
            },
            "baxis": {
             "endlinecolor": "#2a3f5f",
             "gridcolor": "white",
             "linecolor": "white",
             "minorgridcolor": "white",
             "startlinecolor": "#2a3f5f"
            },
            "type": "carpet"
           }
          ],
          "choropleth": [
           {
            "colorbar": {
             "outlinewidth": 0,
             "ticks": ""
            },
            "type": "choropleth"
           }
          ],
          "contour": [
           {
            "colorbar": {
             "outlinewidth": 0,
             "ticks": ""
            },
            "colorscale": [
             [
              0,
              "#0d0887"
             ],
             [
              0.1111111111111111,
              "#46039f"
             ],
             [
              0.2222222222222222,
              "#7201a8"
             ],
             [
              0.3333333333333333,
              "#9c179e"
             ],
             [
              0.4444444444444444,
              "#bd3786"
             ],
             [
              0.5555555555555556,
              "#d8576b"
             ],
             [
              0.6666666666666666,
              "#ed7953"
             ],
             [
              0.7777777777777778,
              "#fb9f3a"
             ],
             [
              0.8888888888888888,
              "#fdca26"
             ],
             [
              1,
              "#f0f921"
             ]
            ],
            "type": "contour"
           }
          ],
          "contourcarpet": [
           {
            "colorbar": {
             "outlinewidth": 0,
             "ticks": ""
            },
            "type": "contourcarpet"
           }
          ],
          "heatmap": [
           {
            "colorbar": {
             "outlinewidth": 0,
             "ticks": ""
            },
            "colorscale": [
             [
              0,
              "#0d0887"
             ],
             [
              0.1111111111111111,
              "#46039f"
             ],
             [
              0.2222222222222222,
              "#7201a8"
             ],
             [
              0.3333333333333333,
              "#9c179e"
             ],
             [
              0.4444444444444444,
              "#bd3786"
             ],
             [
              0.5555555555555556,
              "#d8576b"
             ],
             [
              0.6666666666666666,
              "#ed7953"
             ],
             [
              0.7777777777777778,
              "#fb9f3a"
             ],
             [
              0.8888888888888888,
              "#fdca26"
             ],
             [
              1,
              "#f0f921"
             ]
            ],
            "type": "heatmap"
           }
          ],
          "heatmapgl": [
           {
            "colorbar": {
             "outlinewidth": 0,
             "ticks": ""
            },
            "colorscale": [
             [
              0,
              "#0d0887"
             ],
             [
              0.1111111111111111,
              "#46039f"
             ],
             [
              0.2222222222222222,
              "#7201a8"
             ],
             [
              0.3333333333333333,
              "#9c179e"
             ],
             [
              0.4444444444444444,
              "#bd3786"
             ],
             [
              0.5555555555555556,
              "#d8576b"
             ],
             [
              0.6666666666666666,
              "#ed7953"
             ],
             [
              0.7777777777777778,
              "#fb9f3a"
             ],
             [
              0.8888888888888888,
              "#fdca26"
             ],
             [
              1,
              "#f0f921"
             ]
            ],
            "type": "heatmapgl"
           }
          ],
          "histogram": [
           {
            "marker": {
             "pattern": {
              "fillmode": "overlay",
              "size": 10,
              "solidity": 0.2
             }
            },
            "type": "histogram"
           }
          ],
          "histogram2d": [
           {
            "colorbar": {
             "outlinewidth": 0,
             "ticks": ""
            },
            "colorscale": [
             [
              0,
              "#0d0887"
             ],
             [
              0.1111111111111111,
              "#46039f"
             ],
             [
              0.2222222222222222,
              "#7201a8"
             ],
             [
              0.3333333333333333,
              "#9c179e"
             ],
             [
              0.4444444444444444,
              "#bd3786"
             ],
             [
              0.5555555555555556,
              "#d8576b"
             ],
             [
              0.6666666666666666,
              "#ed7953"
             ],
             [
              0.7777777777777778,
              "#fb9f3a"
             ],
             [
              0.8888888888888888,
              "#fdca26"
             ],
             [
              1,
              "#f0f921"
             ]
            ],
            "type": "histogram2d"
           }
          ],
          "histogram2dcontour": [
           {
            "colorbar": {
             "outlinewidth": 0,
             "ticks": ""
            },
            "colorscale": [
             [
              0,
              "#0d0887"
             ],
             [
              0.1111111111111111,
              "#46039f"
             ],
             [
              0.2222222222222222,
              "#7201a8"
             ],
             [
              0.3333333333333333,
              "#9c179e"
             ],
             [
              0.4444444444444444,
              "#bd3786"
             ],
             [
              0.5555555555555556,
              "#d8576b"
             ],
             [
              0.6666666666666666,
              "#ed7953"
             ],
             [
              0.7777777777777778,
              "#fb9f3a"
             ],
             [
              0.8888888888888888,
              "#fdca26"
             ],
             [
              1,
              "#f0f921"
             ]
            ],
            "type": "histogram2dcontour"
           }
          ],
          "mesh3d": [
           {
            "colorbar": {
             "outlinewidth": 0,
             "ticks": ""
            },
            "type": "mesh3d"
           }
          ],
          "parcoords": [
           {
            "line": {
             "colorbar": {
              "outlinewidth": 0,
              "ticks": ""
             }
            },
            "type": "parcoords"
           }
          ],
          "pie": [
           {
            "automargin": true,
            "type": "pie"
           }
          ],
          "scatter": [
           {
            "marker": {
             "colorbar": {
              "outlinewidth": 0,
              "ticks": ""
             }
            },
            "type": "scatter"
           }
          ],
          "scatter3d": [
           {
            "line": {
             "colorbar": {
              "outlinewidth": 0,
              "ticks": ""
             }
            },
            "marker": {
             "colorbar": {
              "outlinewidth": 0,
              "ticks": ""
             }
            },
            "type": "scatter3d"
           }
          ],
          "scattercarpet": [
           {
            "marker": {
             "colorbar": {
              "outlinewidth": 0,
              "ticks": ""
             }
            },
            "type": "scattercarpet"
           }
          ],
          "scattergeo": [
           {
            "marker": {
             "colorbar": {
              "outlinewidth": 0,
              "ticks": ""
             }
            },
            "type": "scattergeo"
           }
          ],
          "scattergl": [
           {
            "marker": {
             "colorbar": {
              "outlinewidth": 0,
              "ticks": ""
             }
            },
            "type": "scattergl"
           }
          ],
          "scattermapbox": [
           {
            "marker": {
             "colorbar": {
              "outlinewidth": 0,
              "ticks": ""
             }
            },
            "type": "scattermapbox"
           }
          ],
          "scatterpolar": [
           {
            "marker": {
             "colorbar": {
              "outlinewidth": 0,
              "ticks": ""
             }
            },
            "type": "scatterpolar"
           }
          ],
          "scatterpolargl": [
           {
            "marker": {
             "colorbar": {
              "outlinewidth": 0,
              "ticks": ""
             }
            },
            "type": "scatterpolargl"
           }
          ],
          "scatterternary": [
           {
            "marker": {
             "colorbar": {
              "outlinewidth": 0,
              "ticks": ""
             }
            },
            "type": "scatterternary"
           }
          ],
          "surface": [
           {
            "colorbar": {
             "outlinewidth": 0,
             "ticks": ""
            },
            "colorscale": [
             [
              0,
              "#0d0887"
             ],
             [
              0.1111111111111111,
              "#46039f"
             ],
             [
              0.2222222222222222,
              "#7201a8"
             ],
             [
              0.3333333333333333,
              "#9c179e"
             ],
             [
              0.4444444444444444,
              "#bd3786"
             ],
             [
              0.5555555555555556,
              "#d8576b"
             ],
             [
              0.6666666666666666,
              "#ed7953"
             ],
             [
              0.7777777777777778,
              "#fb9f3a"
             ],
             [
              0.8888888888888888,
              "#fdca26"
             ],
             [
              1,
              "#f0f921"
             ]
            ],
            "type": "surface"
           }
          ],
          "table": [
           {
            "cells": {
             "fill": {
              "color": "#EBF0F8"
             },
             "line": {
              "color": "white"
             }
            },
            "header": {
             "fill": {
              "color": "#C8D4E3"
             },
             "line": {
              "color": "white"
             }
            },
            "type": "table"
           }
          ]
         },
         "layout": {
          "annotationdefaults": {
           "arrowcolor": "#2a3f5f",
           "arrowhead": 0,
           "arrowwidth": 1
          },
          "autotypenumbers": "strict",
          "coloraxis": {
           "colorbar": {
            "outlinewidth": 0,
            "ticks": ""
           }
          },
          "colorscale": {
           "diverging": [
            [
             0,
             "#8e0152"
            ],
            [
             0.1,
             "#c51b7d"
            ],
            [
             0.2,
             "#de77ae"
            ],
            [
             0.3,
             "#f1b6da"
            ],
            [
             0.4,
             "#fde0ef"
            ],
            [
             0.5,
             "#f7f7f7"
            ],
            [
             0.6,
             "#e6f5d0"
            ],
            [
             0.7,
             "#b8e186"
            ],
            [
             0.8,
             "#7fbc41"
            ],
            [
             0.9,
             "#4d9221"
            ],
            [
             1,
             "#276419"
            ]
           ],
           "sequential": [
            [
             0,
             "#0d0887"
            ],
            [
             0.1111111111111111,
             "#46039f"
            ],
            [
             0.2222222222222222,
             "#7201a8"
            ],
            [
             0.3333333333333333,
             "#9c179e"
            ],
            [
             0.4444444444444444,
             "#bd3786"
            ],
            [
             0.5555555555555556,
             "#d8576b"
            ],
            [
             0.6666666666666666,
             "#ed7953"
            ],
            [
             0.7777777777777778,
             "#fb9f3a"
            ],
            [
             0.8888888888888888,
             "#fdca26"
            ],
            [
             1,
             "#f0f921"
            ]
           ],
           "sequentialminus": [
            [
             0,
             "#0d0887"
            ],
            [
             0.1111111111111111,
             "#46039f"
            ],
            [
             0.2222222222222222,
             "#7201a8"
            ],
            [
             0.3333333333333333,
             "#9c179e"
            ],
            [
             0.4444444444444444,
             "#bd3786"
            ],
            [
             0.5555555555555556,
             "#d8576b"
            ],
            [
             0.6666666666666666,
             "#ed7953"
            ],
            [
             0.7777777777777778,
             "#fb9f3a"
            ],
            [
             0.8888888888888888,
             "#fdca26"
            ],
            [
             1,
             "#f0f921"
            ]
           ]
          },
          "colorway": [
           "#636efa",
           "#EF553B",
           "#00cc96",
           "#ab63fa",
           "#FFA15A",
           "#19d3f3",
           "#FF6692",
           "#B6E880",
           "#FF97FF",
           "#FECB52"
          ],
          "font": {
           "color": "#2a3f5f"
          },
          "geo": {
           "bgcolor": "white",
           "lakecolor": "white",
           "landcolor": "#E5ECF6",
           "showlakes": true,
           "showland": true,
           "subunitcolor": "white"
          },
          "hoverlabel": {
           "align": "left"
          },
          "hovermode": "closest",
          "mapbox": {
           "style": "light"
          },
          "paper_bgcolor": "white",
          "plot_bgcolor": "#E5ECF6",
          "polar": {
           "angularaxis": {
            "gridcolor": "white",
            "linecolor": "white",
            "ticks": ""
           },
           "bgcolor": "#E5ECF6",
           "radialaxis": {
            "gridcolor": "white",
            "linecolor": "white",
            "ticks": ""
           }
          },
          "scene": {
           "xaxis": {
            "backgroundcolor": "#E5ECF6",
            "gridcolor": "white",
            "gridwidth": 2,
            "linecolor": "white",
            "showbackground": true,
            "ticks": "",
            "zerolinecolor": "white"
           },
           "yaxis": {
            "backgroundcolor": "#E5ECF6",
            "gridcolor": "white",
            "gridwidth": 2,
            "linecolor": "white",
            "showbackground": true,
            "ticks": "",
            "zerolinecolor": "white"
           },
           "zaxis": {
            "backgroundcolor": "#E5ECF6",
            "gridcolor": "white",
            "gridwidth": 2,
            "linecolor": "white",
            "showbackground": true,
            "ticks": "",
            "zerolinecolor": "white"
           }
          },
          "shapedefaults": {
           "line": {
            "color": "#2a3f5f"
           }
          },
          "ternary": {
           "aaxis": {
            "gridcolor": "white",
            "linecolor": "white",
            "ticks": ""
           },
           "baxis": {
            "gridcolor": "white",
            "linecolor": "white",
            "ticks": ""
           },
           "bgcolor": "#E5ECF6",
           "caxis": {
            "gridcolor": "white",
            "linecolor": "white",
            "ticks": ""
           }
          },
          "title": {
           "x": 0.05
          },
          "xaxis": {
           "automargin": true,
           "gridcolor": "white",
           "linecolor": "white",
           "ticks": "",
           "title": {
            "standoff": 15
           },
           "zerolinecolor": "white",
           "zerolinewidth": 2
          },
          "yaxis": {
           "automargin": true,
           "gridcolor": "white",
           "linecolor": "white",
           "ticks": "",
           "title": {
            "standoff": 15
           },
           "zerolinecolor": "white",
           "zerolinewidth": 2
          }
         }
        },
        "title": {
         "text": "comparing length of path"
        },
        "xaxis": {
         "title": {
          "text": "no. of experiments"
         }
        },
        "yaxis": {
         "title": {
          "text": "path length per iteration"
         }
        }
       }
      }
     },
     "metadata": {},
     "output_type": "display_data"
    },
    {
     "name": "stdout",
     "output_type": "stream",
     "text": [
      "Mean path length without pheremone:  10.12\n",
      "Median path length without pheremone:  9.0\n",
      "Mean path length with pheremone:  7.34\n",
      "Median path length with pheremone:  7.0\n"
     ]
    }
   ],
   "source": [
    "fig = go.Figure()\n",
    "x_axis = list(range(num_points))\n",
    "\n",
    "fig.add_trace(go.Scatter(x=x_axis, y=path_len_list,\n",
    "                    mode='markers',\n",
    "                    name='no pheremone'))\n",
    "fig.add_trace(go.Scatter(x=x_axis, y=path_len_list_opt,\n",
    "                    mode='markers',\n",
    "                    name='with pheremone'))\n",
    "fig.update_layout(title='comparing length of path',\n",
    "                   xaxis_title='no. of experiments',\n",
    "                   yaxis_title='path length per iteration')\n",
    "fig.show()\n",
    "print(\"Mean path length without pheremone: \", np.nanmean(path_len_list))\n",
    "print(\"Median path length without pheremone: \", np.nanmedian(path_len_list))\n",
    "print(\"Mean path length with pheremone: \", np.nanmean(path_len_list_opt))\n",
    "print(\"Median path length with pheremone: \", np.nanmedian(path_len_list_opt))"
   ]
  },
  {
   "cell_type": "code",
   "execution_count": null,
   "metadata": {},
   "outputs": [
    {
     "data": {
      "application/vnd.plotly.v1+json": {
       "config": {
        "plotlyServerURL": "https://plot.ly"
       },
       "data": [
        {
         "mode": "markers",
         "name": "no pheremone",
         "type": "scatter",
         "x": [
          0,
          1,
          2,
          3,
          4,
          5,
          6,
          7,
          8,
          9,
          10,
          11,
          12,
          13,
          14,
          15,
          16,
          17,
          18,
          19,
          20,
          21,
          22,
          23,
          24,
          25,
          26,
          27,
          28,
          29,
          30,
          31,
          32,
          33,
          34,
          35,
          36,
          37,
          38,
          39,
          40,
          41,
          42,
          43,
          44,
          45,
          46,
          47,
          48,
          49,
          50,
          51,
          52,
          53,
          54,
          55,
          56,
          57,
          58,
          59,
          60,
          61,
          62,
          63,
          64,
          65,
          66,
          67,
          68,
          69,
          70,
          71,
          72,
          73,
          74,
          75,
          76,
          77,
          78,
          79,
          80,
          81,
          82,
          83,
          84,
          85,
          86,
          87,
          88,
          89,
          90,
          91,
          92,
          93,
          94,
          95,
          96,
          97,
          98,
          99
         ],
         "y": [
          3,
          7,
          7,
          5,
          1,
          9,
          1,
          8,
          2,
          1,
          1,
          6,
          1,
          2,
          2,
          3,
          6,
          2,
          9,
          3,
          8,
          9,
          3,
          9,
          3,
          4,
          5,
          5,
          9,
          8,
          9,
          9,
          7,
          2,
          2,
          7,
          3,
          5,
          7,
          4,
          1,
          7,
          6,
          3,
          3,
          0,
          5,
          8,
          2,
          0,
          8,
          7,
          5,
          7,
          8,
          1,
          7,
          6,
          4,
          5,
          9,
          6,
          0,
          1,
          1,
          1,
          2,
          8,
          8,
          3,
          2,
          1,
          5,
          1,
          1,
          0,
          6,
          0,
          2,
          8,
          2,
          8,
          9,
          7,
          6,
          1,
          0,
          4,
          6,
          2,
          6,
          0,
          1,
          0,
          2,
          1,
          4,
          4,
          5,
          1
         ]
        },
        {
         "mode": "markers",
         "name": "with pheremone",
         "type": "scatter",
         "x": [
          0,
          1,
          2,
          3,
          4,
          5,
          6,
          7,
          8,
          9,
          10,
          11,
          12,
          13,
          14,
          15,
          16,
          17,
          18,
          19,
          20,
          21,
          22,
          23,
          24,
          25,
          26,
          27,
          28,
          29,
          30,
          31,
          32,
          33,
          34,
          35,
          36,
          37,
          38,
          39,
          40,
          41,
          42,
          43,
          44,
          45,
          46,
          47,
          48,
          49,
          50,
          51,
          52,
          53,
          54,
          55,
          56,
          57,
          58,
          59,
          60,
          61,
          62,
          63,
          64,
          65,
          66,
          67,
          68,
          69,
          70,
          71,
          72,
          73,
          74,
          75,
          76,
          77,
          78,
          79,
          80,
          81,
          82,
          83,
          84,
          85,
          86,
          87,
          88,
          89,
          90,
          91,
          92,
          93,
          94,
          95,
          96,
          97,
          98,
          99
         ],
         "y": [
          0,
          2,
          8,
          1,
          6,
          4,
          6,
          4,
          0,
          8,
          1,
          2,
          8,
          2,
          4,
          6,
          1,
          8,
          1,
          2,
          0,
          4,
          0,
          6,
          0,
          2,
          0,
          5,
          1,
          2,
          1,
          8,
          3,
          8,
          6,
          3,
          6,
          6,
          3,
          3,
          0,
          0,
          5,
          0,
          2,
          4,
          5,
          1,
          5,
          8,
          5,
          0,
          5,
          1,
          4,
          6,
          0,
          1,
          0,
          5,
          0,
          3,
          2,
          4,
          2,
          0,
          0,
          1,
          2,
          0,
          1,
          5,
          2,
          9,
          5,
          8,
          0,
          9,
          4,
          0,
          4,
          2,
          5,
          6,
          0,
          2,
          8,
          1,
          8,
          0,
          1,
          7,
          4,
          8,
          4,
          7,
          0,
          9,
          3,
          4
         ]
        }
       ],
       "layout": {
        "template": {
         "data": {
          "bar": [
           {
            "error_x": {
             "color": "#2a3f5f"
            },
            "error_y": {
             "color": "#2a3f5f"
            },
            "marker": {
             "line": {
              "color": "#E5ECF6",
              "width": 0.5
             },
             "pattern": {
              "fillmode": "overlay",
              "size": 10,
              "solidity": 0.2
             }
            },
            "type": "bar"
           }
          ],
          "barpolar": [
           {
            "marker": {
             "line": {
              "color": "#E5ECF6",
              "width": 0.5
             },
             "pattern": {
              "fillmode": "overlay",
              "size": 10,
              "solidity": 0.2
             }
            },
            "type": "barpolar"
           }
          ],
          "carpet": [
           {
            "aaxis": {
             "endlinecolor": "#2a3f5f",
             "gridcolor": "white",
             "linecolor": "white",
             "minorgridcolor": "white",
             "startlinecolor": "#2a3f5f"
            },
            "baxis": {
             "endlinecolor": "#2a3f5f",
             "gridcolor": "white",
             "linecolor": "white",
             "minorgridcolor": "white",
             "startlinecolor": "#2a3f5f"
            },
            "type": "carpet"
           }
          ],
          "choropleth": [
           {
            "colorbar": {
             "outlinewidth": 0,
             "ticks": ""
            },
            "type": "choropleth"
           }
          ],
          "contour": [
           {
            "colorbar": {
             "outlinewidth": 0,
             "ticks": ""
            },
            "colorscale": [
             [
              0,
              "#0d0887"
             ],
             [
              0.1111111111111111,
              "#46039f"
             ],
             [
              0.2222222222222222,
              "#7201a8"
             ],
             [
              0.3333333333333333,
              "#9c179e"
             ],
             [
              0.4444444444444444,
              "#bd3786"
             ],
             [
              0.5555555555555556,
              "#d8576b"
             ],
             [
              0.6666666666666666,
              "#ed7953"
             ],
             [
              0.7777777777777778,
              "#fb9f3a"
             ],
             [
              0.8888888888888888,
              "#fdca26"
             ],
             [
              1,
              "#f0f921"
             ]
            ],
            "type": "contour"
           }
          ],
          "contourcarpet": [
           {
            "colorbar": {
             "outlinewidth": 0,
             "ticks": ""
            },
            "type": "contourcarpet"
           }
          ],
          "heatmap": [
           {
            "colorbar": {
             "outlinewidth": 0,
             "ticks": ""
            },
            "colorscale": [
             [
              0,
              "#0d0887"
             ],
             [
              0.1111111111111111,
              "#46039f"
             ],
             [
              0.2222222222222222,
              "#7201a8"
             ],
             [
              0.3333333333333333,
              "#9c179e"
             ],
             [
              0.4444444444444444,
              "#bd3786"
             ],
             [
              0.5555555555555556,
              "#d8576b"
             ],
             [
              0.6666666666666666,
              "#ed7953"
             ],
             [
              0.7777777777777778,
              "#fb9f3a"
             ],
             [
              0.8888888888888888,
              "#fdca26"
             ],
             [
              1,
              "#f0f921"
             ]
            ],
            "type": "heatmap"
           }
          ],
          "heatmapgl": [
           {
            "colorbar": {
             "outlinewidth": 0,
             "ticks": ""
            },
            "colorscale": [
             [
              0,
              "#0d0887"
             ],
             [
              0.1111111111111111,
              "#46039f"
             ],
             [
              0.2222222222222222,
              "#7201a8"
             ],
             [
              0.3333333333333333,
              "#9c179e"
             ],
             [
              0.4444444444444444,
              "#bd3786"
             ],
             [
              0.5555555555555556,
              "#d8576b"
             ],
             [
              0.6666666666666666,
              "#ed7953"
             ],
             [
              0.7777777777777778,
              "#fb9f3a"
             ],
             [
              0.8888888888888888,
              "#fdca26"
             ],
             [
              1,
              "#f0f921"
             ]
            ],
            "type": "heatmapgl"
           }
          ],
          "histogram": [
           {
            "marker": {
             "pattern": {
              "fillmode": "overlay",
              "size": 10,
              "solidity": 0.2
             }
            },
            "type": "histogram"
           }
          ],
          "histogram2d": [
           {
            "colorbar": {
             "outlinewidth": 0,
             "ticks": ""
            },
            "colorscale": [
             [
              0,
              "#0d0887"
             ],
             [
              0.1111111111111111,
              "#46039f"
             ],
             [
              0.2222222222222222,
              "#7201a8"
             ],
             [
              0.3333333333333333,
              "#9c179e"
             ],
             [
              0.4444444444444444,
              "#bd3786"
             ],
             [
              0.5555555555555556,
              "#d8576b"
             ],
             [
              0.6666666666666666,
              "#ed7953"
             ],
             [
              0.7777777777777778,
              "#fb9f3a"
             ],
             [
              0.8888888888888888,
              "#fdca26"
             ],
             [
              1,
              "#f0f921"
             ]
            ],
            "type": "histogram2d"
           }
          ],
          "histogram2dcontour": [
           {
            "colorbar": {
             "outlinewidth": 0,
             "ticks": ""
            },
            "colorscale": [
             [
              0,
              "#0d0887"
             ],
             [
              0.1111111111111111,
              "#46039f"
             ],
             [
              0.2222222222222222,
              "#7201a8"
             ],
             [
              0.3333333333333333,
              "#9c179e"
             ],
             [
              0.4444444444444444,
              "#bd3786"
             ],
             [
              0.5555555555555556,
              "#d8576b"
             ],
             [
              0.6666666666666666,
              "#ed7953"
             ],
             [
              0.7777777777777778,
              "#fb9f3a"
             ],
             [
              0.8888888888888888,
              "#fdca26"
             ],
             [
              1,
              "#f0f921"
             ]
            ],
            "type": "histogram2dcontour"
           }
          ],
          "mesh3d": [
           {
            "colorbar": {
             "outlinewidth": 0,
             "ticks": ""
            },
            "type": "mesh3d"
           }
          ],
          "parcoords": [
           {
            "line": {
             "colorbar": {
              "outlinewidth": 0,
              "ticks": ""
             }
            },
            "type": "parcoords"
           }
          ],
          "pie": [
           {
            "automargin": true,
            "type": "pie"
           }
          ],
          "scatter": [
           {
            "marker": {
             "colorbar": {
              "outlinewidth": 0,
              "ticks": ""
             }
            },
            "type": "scatter"
           }
          ],
          "scatter3d": [
           {
            "line": {
             "colorbar": {
              "outlinewidth": 0,
              "ticks": ""
             }
            },
            "marker": {
             "colorbar": {
              "outlinewidth": 0,
              "ticks": ""
             }
            },
            "type": "scatter3d"
           }
          ],
          "scattercarpet": [
           {
            "marker": {
             "colorbar": {
              "outlinewidth": 0,
              "ticks": ""
             }
            },
            "type": "scattercarpet"
           }
          ],
          "scattergeo": [
           {
            "marker": {
             "colorbar": {
              "outlinewidth": 0,
              "ticks": ""
             }
            },
            "type": "scattergeo"
           }
          ],
          "scattergl": [
           {
            "marker": {
             "colorbar": {
              "outlinewidth": 0,
              "ticks": ""
             }
            },
            "type": "scattergl"
           }
          ],
          "scattermapbox": [
           {
            "marker": {
             "colorbar": {
              "outlinewidth": 0,
              "ticks": ""
             }
            },
            "type": "scattermapbox"
           }
          ],
          "scatterpolar": [
           {
            "marker": {
             "colorbar": {
              "outlinewidth": 0,
              "ticks": ""
             }
            },
            "type": "scatterpolar"
           }
          ],
          "scatterpolargl": [
           {
            "marker": {
             "colorbar": {
              "outlinewidth": 0,
              "ticks": ""
             }
            },
            "type": "scatterpolargl"
           }
          ],
          "scatterternary": [
           {
            "marker": {
             "colorbar": {
              "outlinewidth": 0,
              "ticks": ""
             }
            },
            "type": "scatterternary"
           }
          ],
          "surface": [
           {
            "colorbar": {
             "outlinewidth": 0,
             "ticks": ""
            },
            "colorscale": [
             [
              0,
              "#0d0887"
             ],
             [
              0.1111111111111111,
              "#46039f"
             ],
             [
              0.2222222222222222,
              "#7201a8"
             ],
             [
              0.3333333333333333,
              "#9c179e"
             ],
             [
              0.4444444444444444,
              "#bd3786"
             ],
             [
              0.5555555555555556,
              "#d8576b"
             ],
             [
              0.6666666666666666,
              "#ed7953"
             ],
             [
              0.7777777777777778,
              "#fb9f3a"
             ],
             [
              0.8888888888888888,
              "#fdca26"
             ],
             [
              1,
              "#f0f921"
             ]
            ],
            "type": "surface"
           }
          ],
          "table": [
           {
            "cells": {
             "fill": {
              "color": "#EBF0F8"
             },
             "line": {
              "color": "white"
             }
            },
            "header": {
             "fill": {
              "color": "#C8D4E3"
             },
             "line": {
              "color": "white"
             }
            },
            "type": "table"
           }
          ]
         },
         "layout": {
          "annotationdefaults": {
           "arrowcolor": "#2a3f5f",
           "arrowhead": 0,
           "arrowwidth": 1
          },
          "autotypenumbers": "strict",
          "coloraxis": {
           "colorbar": {
            "outlinewidth": 0,
            "ticks": ""
           }
          },
          "colorscale": {
           "diverging": [
            [
             0,
             "#8e0152"
            ],
            [
             0.1,
             "#c51b7d"
            ],
            [
             0.2,
             "#de77ae"
            ],
            [
             0.3,
             "#f1b6da"
            ],
            [
             0.4,
             "#fde0ef"
            ],
            [
             0.5,
             "#f7f7f7"
            ],
            [
             0.6,
             "#e6f5d0"
            ],
            [
             0.7,
             "#b8e186"
            ],
            [
             0.8,
             "#7fbc41"
            ],
            [
             0.9,
             "#4d9221"
            ],
            [
             1,
             "#276419"
            ]
           ],
           "sequential": [
            [
             0,
             "#0d0887"
            ],
            [
             0.1111111111111111,
             "#46039f"
            ],
            [
             0.2222222222222222,
             "#7201a8"
            ],
            [
             0.3333333333333333,
             "#9c179e"
            ],
            [
             0.4444444444444444,
             "#bd3786"
            ],
            [
             0.5555555555555556,
             "#d8576b"
            ],
            [
             0.6666666666666666,
             "#ed7953"
            ],
            [
             0.7777777777777778,
             "#fb9f3a"
            ],
            [
             0.8888888888888888,
             "#fdca26"
            ],
            [
             1,
             "#f0f921"
            ]
           ],
           "sequentialminus": [
            [
             0,
             "#0d0887"
            ],
            [
             0.1111111111111111,
             "#46039f"
            ],
            [
             0.2222222222222222,
             "#7201a8"
            ],
            [
             0.3333333333333333,
             "#9c179e"
            ],
            [
             0.4444444444444444,
             "#bd3786"
            ],
            [
             0.5555555555555556,
             "#d8576b"
            ],
            [
             0.6666666666666666,
             "#ed7953"
            ],
            [
             0.7777777777777778,
             "#fb9f3a"
            ],
            [
             0.8888888888888888,
             "#fdca26"
            ],
            [
             1,
             "#f0f921"
            ]
           ]
          },
          "colorway": [
           "#636efa",
           "#EF553B",
           "#00cc96",
           "#ab63fa",
           "#FFA15A",
           "#19d3f3",
           "#FF6692",
           "#B6E880",
           "#FF97FF",
           "#FECB52"
          ],
          "font": {
           "color": "#2a3f5f"
          },
          "geo": {
           "bgcolor": "white",
           "lakecolor": "white",
           "landcolor": "#E5ECF6",
           "showlakes": true,
           "showland": true,
           "subunitcolor": "white"
          },
          "hoverlabel": {
           "align": "left"
          },
          "hovermode": "closest",
          "mapbox": {
           "style": "light"
          },
          "paper_bgcolor": "white",
          "plot_bgcolor": "#E5ECF6",
          "polar": {
           "angularaxis": {
            "gridcolor": "white",
            "linecolor": "white",
            "ticks": ""
           },
           "bgcolor": "#E5ECF6",
           "radialaxis": {
            "gridcolor": "white",
            "linecolor": "white",
            "ticks": ""
           }
          },
          "scene": {
           "xaxis": {
            "backgroundcolor": "#E5ECF6",
            "gridcolor": "white",
            "gridwidth": 2,
            "linecolor": "white",
            "showbackground": true,
            "ticks": "",
            "zerolinecolor": "white"
           },
           "yaxis": {
            "backgroundcolor": "#E5ECF6",
            "gridcolor": "white",
            "gridwidth": 2,
            "linecolor": "white",
            "showbackground": true,
            "ticks": "",
            "zerolinecolor": "white"
           },
           "zaxis": {
            "backgroundcolor": "#E5ECF6",
            "gridcolor": "white",
            "gridwidth": 2,
            "linecolor": "white",
            "showbackground": true,
            "ticks": "",
            "zerolinecolor": "white"
           }
          },
          "shapedefaults": {
           "line": {
            "color": "#2a3f5f"
           }
          },
          "ternary": {
           "aaxis": {
            "gridcolor": "white",
            "linecolor": "white",
            "ticks": ""
           },
           "baxis": {
            "gridcolor": "white",
            "linecolor": "white",
            "ticks": ""
           },
           "bgcolor": "#E5ECF6",
           "caxis": {
            "gridcolor": "white",
            "linecolor": "white",
            "ticks": ""
           }
          },
          "title": {
           "x": 0.05
          },
          "xaxis": {
           "automargin": true,
           "gridcolor": "white",
           "linecolor": "white",
           "ticks": "",
           "title": {
            "standoff": 15
           },
           "zerolinecolor": "white",
           "zerolinewidth": 2
          },
          "yaxis": {
           "automargin": true,
           "gridcolor": "white",
           "linecolor": "white",
           "ticks": "",
           "title": {
            "standoff": 15
           },
           "zerolinecolor": "white",
           "zerolinewidth": 2
          }
         }
        },
        "title": {
         "text": "Comparing which ant reaches end vertex"
        },
        "xaxis": {
         "title": {
          "text": "no. of experiments"
         }
        },
        "yaxis": {
         "title": {
          "text": "ant that reaches end vertex"
         }
        }
       }
      }
     },
     "metadata": {},
     "output_type": "display_data"
    },
    {
     "name": "stdout",
     "output_type": "stream",
     "text": [
      "Mean ant winner without pheremone:  4.24\n",
      "Median ant winner without pheremone:  4.0\n",
      "Mean ant winner with pheremone:  3.38\n",
      "Median ant winner with pheremone:  3.0\n"
     ]
    }
   ],
   "source": [
    "fig = go.Figure()\n",
    "x_axis = list(range(num_points))\n",
    "\n",
    "fig.add_trace(go.Scatter(x=x_axis, y=ant_winner_list,\n",
    "                    mode='markers',\n",
    "                    name='no pheremone'))\n",
    "fig.add_trace(go.Scatter(x=x_axis, y=ant_winner_list_opt,\n",
    "                    mode='markers',\n",
    "                    name='with pheremone'))\n",
    "fig.update_layout(title='Comparing which ant reaches end vertex',\n",
    "                   xaxis_title='no. of experiments',\n",
    "                   yaxis_title='ant that reaches end vertex')\n",
    "fig.show()\n",
    "print(\"Mean ant winner without pheremone: \", np.nanmean(ant_winner_list))\n",
    "print(\"Median ant winner without pheremone: \", np.nanmedian(ant_winner_list))\n",
    "print(\"Mean ant winner with pheremone: \", np.nanmean(ant_winner_list_opt))\n",
    "print(\"Median ant winner with pheremone: \", np.nanmedian(ant_winner_list_opt))"
   ]
  },
  {
   "cell_type": "code",
   "execution_count": null,
   "metadata": {},
   "outputs": [],
   "source": [
    "def parallelize(fn):\n",
    "    tic = time.perf_counter()\n",
    "    pool = mp.Pool(mp.cpu_count())\n",
    "    future_res = [pool.apply_async(fn) for _ in range(100)]\n",
    "    res = [f.get() for f in future_res]\n",
    "    toc = time.perf_counter()\n",
    "    print(toc-tic)\n",
    "    return res"
   ]
  },
  {
   "cell_type": "code",
   "execution_count": null,
   "metadata": {},
   "outputs": [
    {
     "ename": "KeyboardInterrupt",
     "evalue": "",
     "output_type": "error",
     "traceback": [
      "\u001b[1;31m---------------------------------------------------------------------------\u001b[0m",
      "\u001b[1;31mKeyboardInterrupt\u001b[0m                         Traceback (most recent call last)",
      "\u001b[1;32mC:\\Users\\Public\\Documents\\Wondershare\\CreatorTemp/ipykernel_12160/2777246086.py\u001b[0m in \u001b[0;36m<module>\u001b[1;34m\u001b[0m\n\u001b[1;32m----> 1\u001b[1;33m \u001b[0mresults_random\u001b[0m \u001b[1;33m=\u001b[0m \u001b[0mparallelize\u001b[0m\u001b[1;33m(\u001b[0m\u001b[0mscam\u001b[0m\u001b[1;33m.\u001b[0m\u001b[0mhypercube_monte_carlo_random\u001b[0m\u001b[1;33m)\u001b[0m\u001b[1;33m\u001b[0m\u001b[1;33m\u001b[0m\u001b[0m\n\u001b[0m",
      "\u001b[1;32mC:\\Users\\Public\\Documents\\Wondershare\\CreatorTemp/ipykernel_12160/3850175199.py\u001b[0m in \u001b[0;36mparallelize\u001b[1;34m(fn)\u001b[0m\n\u001b[0;32m      3\u001b[0m     \u001b[0mpool\u001b[0m \u001b[1;33m=\u001b[0m \u001b[0mmp\u001b[0m\u001b[1;33m.\u001b[0m\u001b[0mPool\u001b[0m\u001b[1;33m(\u001b[0m\u001b[0mmp\u001b[0m\u001b[1;33m.\u001b[0m\u001b[0mcpu_count\u001b[0m\u001b[1;33m(\u001b[0m\u001b[1;33m)\u001b[0m\u001b[1;33m)\u001b[0m\u001b[1;33m\u001b[0m\u001b[1;33m\u001b[0m\u001b[0m\n\u001b[0;32m      4\u001b[0m     \u001b[0mfuture_res\u001b[0m \u001b[1;33m=\u001b[0m \u001b[1;33m[\u001b[0m\u001b[0mpool\u001b[0m\u001b[1;33m.\u001b[0m\u001b[0mapply_async\u001b[0m\u001b[1;33m(\u001b[0m\u001b[0mfn\u001b[0m\u001b[1;33m)\u001b[0m \u001b[1;32mfor\u001b[0m \u001b[0m_\u001b[0m \u001b[1;32min\u001b[0m \u001b[0mrange\u001b[0m\u001b[1;33m(\u001b[0m\u001b[1;36m1000\u001b[0m\u001b[1;33m)\u001b[0m\u001b[1;33m]\u001b[0m\u001b[1;33m\u001b[0m\u001b[1;33m\u001b[0m\u001b[0m\n\u001b[1;32m----> 5\u001b[1;33m     \u001b[0mres\u001b[0m \u001b[1;33m=\u001b[0m \u001b[1;33m[\u001b[0m\u001b[0mf\u001b[0m\u001b[1;33m.\u001b[0m\u001b[0mget\u001b[0m\u001b[1;33m(\u001b[0m\u001b[1;33m)\u001b[0m \u001b[1;32mfor\u001b[0m \u001b[0mf\u001b[0m \u001b[1;32min\u001b[0m \u001b[0mfuture_res\u001b[0m\u001b[1;33m]\u001b[0m\u001b[1;33m\u001b[0m\u001b[1;33m\u001b[0m\u001b[0m\n\u001b[0m\u001b[0;32m      6\u001b[0m     \u001b[0mtoc\u001b[0m \u001b[1;33m=\u001b[0m \u001b[0mtime\u001b[0m\u001b[1;33m.\u001b[0m\u001b[0mperf_counter\u001b[0m\u001b[1;33m(\u001b[0m\u001b[1;33m)\u001b[0m\u001b[1;33m\u001b[0m\u001b[1;33m\u001b[0m\u001b[0m\n\u001b[0;32m      7\u001b[0m     \u001b[0mprint\u001b[0m\u001b[1;33m(\u001b[0m\u001b[0mtoc\u001b[0m\u001b[1;33m-\u001b[0m\u001b[0mtic\u001b[0m\u001b[1;33m)\u001b[0m\u001b[1;33m\u001b[0m\u001b[1;33m\u001b[0m\u001b[0m\n",
      "\u001b[1;32mC:\\Users\\Public\\Documents\\Wondershare\\CreatorTemp/ipykernel_12160/3850175199.py\u001b[0m in \u001b[0;36m<listcomp>\u001b[1;34m(.0)\u001b[0m\n\u001b[0;32m      3\u001b[0m     \u001b[0mpool\u001b[0m \u001b[1;33m=\u001b[0m \u001b[0mmp\u001b[0m\u001b[1;33m.\u001b[0m\u001b[0mPool\u001b[0m\u001b[1;33m(\u001b[0m\u001b[0mmp\u001b[0m\u001b[1;33m.\u001b[0m\u001b[0mcpu_count\u001b[0m\u001b[1;33m(\u001b[0m\u001b[1;33m)\u001b[0m\u001b[1;33m)\u001b[0m\u001b[1;33m\u001b[0m\u001b[1;33m\u001b[0m\u001b[0m\n\u001b[0;32m      4\u001b[0m     \u001b[0mfuture_res\u001b[0m \u001b[1;33m=\u001b[0m \u001b[1;33m[\u001b[0m\u001b[0mpool\u001b[0m\u001b[1;33m.\u001b[0m\u001b[0mapply_async\u001b[0m\u001b[1;33m(\u001b[0m\u001b[0mfn\u001b[0m\u001b[1;33m)\u001b[0m \u001b[1;32mfor\u001b[0m \u001b[0m_\u001b[0m \u001b[1;32min\u001b[0m \u001b[0mrange\u001b[0m\u001b[1;33m(\u001b[0m\u001b[1;36m1000\u001b[0m\u001b[1;33m)\u001b[0m\u001b[1;33m]\u001b[0m\u001b[1;33m\u001b[0m\u001b[1;33m\u001b[0m\u001b[0m\n\u001b[1;32m----> 5\u001b[1;33m     \u001b[0mres\u001b[0m \u001b[1;33m=\u001b[0m \u001b[1;33m[\u001b[0m\u001b[0mf\u001b[0m\u001b[1;33m.\u001b[0m\u001b[0mget\u001b[0m\u001b[1;33m(\u001b[0m\u001b[1;33m)\u001b[0m \u001b[1;32mfor\u001b[0m \u001b[0mf\u001b[0m \u001b[1;32min\u001b[0m \u001b[0mfuture_res\u001b[0m\u001b[1;33m]\u001b[0m\u001b[1;33m\u001b[0m\u001b[1;33m\u001b[0m\u001b[0m\n\u001b[0m\u001b[0;32m      6\u001b[0m     \u001b[0mtoc\u001b[0m \u001b[1;33m=\u001b[0m \u001b[0mtime\u001b[0m\u001b[1;33m.\u001b[0m\u001b[0mperf_counter\u001b[0m\u001b[1;33m(\u001b[0m\u001b[1;33m)\u001b[0m\u001b[1;33m\u001b[0m\u001b[1;33m\u001b[0m\u001b[0m\n\u001b[0;32m      7\u001b[0m     \u001b[0mprint\u001b[0m\u001b[1;33m(\u001b[0m\u001b[0mtoc\u001b[0m\u001b[1;33m-\u001b[0m\u001b[0mtic\u001b[0m\u001b[1;33m)\u001b[0m\u001b[1;33m\u001b[0m\u001b[1;33m\u001b[0m\u001b[0m\n",
      "\u001b[1;32mC:\\Python38\\lib\\multiprocessing\\pool.py\u001b[0m in \u001b[0;36mget\u001b[1;34m(self, timeout)\u001b[0m\n\u001b[0;32m    760\u001b[0m \u001b[1;33m\u001b[0m\u001b[0m\n\u001b[0;32m    761\u001b[0m     \u001b[1;32mdef\u001b[0m \u001b[0mget\u001b[0m\u001b[1;33m(\u001b[0m\u001b[0mself\u001b[0m\u001b[1;33m,\u001b[0m \u001b[0mtimeout\u001b[0m\u001b[1;33m=\u001b[0m\u001b[1;32mNone\u001b[0m\u001b[1;33m)\u001b[0m\u001b[1;33m:\u001b[0m\u001b[1;33m\u001b[0m\u001b[1;33m\u001b[0m\u001b[0m\n\u001b[1;32m--> 762\u001b[1;33m         \u001b[0mself\u001b[0m\u001b[1;33m.\u001b[0m\u001b[0mwait\u001b[0m\u001b[1;33m(\u001b[0m\u001b[0mtimeout\u001b[0m\u001b[1;33m)\u001b[0m\u001b[1;33m\u001b[0m\u001b[1;33m\u001b[0m\u001b[0m\n\u001b[0m\u001b[0;32m    763\u001b[0m         \u001b[1;32mif\u001b[0m \u001b[1;32mnot\u001b[0m \u001b[0mself\u001b[0m\u001b[1;33m.\u001b[0m\u001b[0mready\u001b[0m\u001b[1;33m(\u001b[0m\u001b[1;33m)\u001b[0m\u001b[1;33m:\u001b[0m\u001b[1;33m\u001b[0m\u001b[1;33m\u001b[0m\u001b[0m\n\u001b[0;32m    764\u001b[0m             \u001b[1;32mraise\u001b[0m \u001b[0mTimeoutError\u001b[0m\u001b[1;33m\u001b[0m\u001b[1;33m\u001b[0m\u001b[0m\n",
      "\u001b[1;32mC:\\Python38\\lib\\multiprocessing\\pool.py\u001b[0m in \u001b[0;36mwait\u001b[1;34m(self, timeout)\u001b[0m\n\u001b[0;32m    757\u001b[0m \u001b[1;33m\u001b[0m\u001b[0m\n\u001b[0;32m    758\u001b[0m     \u001b[1;32mdef\u001b[0m \u001b[0mwait\u001b[0m\u001b[1;33m(\u001b[0m\u001b[0mself\u001b[0m\u001b[1;33m,\u001b[0m \u001b[0mtimeout\u001b[0m\u001b[1;33m=\u001b[0m\u001b[1;32mNone\u001b[0m\u001b[1;33m)\u001b[0m\u001b[1;33m:\u001b[0m\u001b[1;33m\u001b[0m\u001b[1;33m\u001b[0m\u001b[0m\n\u001b[1;32m--> 759\u001b[1;33m         \u001b[0mself\u001b[0m\u001b[1;33m.\u001b[0m\u001b[0m_event\u001b[0m\u001b[1;33m.\u001b[0m\u001b[0mwait\u001b[0m\u001b[1;33m(\u001b[0m\u001b[0mtimeout\u001b[0m\u001b[1;33m)\u001b[0m\u001b[1;33m\u001b[0m\u001b[1;33m\u001b[0m\u001b[0m\n\u001b[0m\u001b[0;32m    760\u001b[0m \u001b[1;33m\u001b[0m\u001b[0m\n\u001b[0;32m    761\u001b[0m     \u001b[1;32mdef\u001b[0m \u001b[0mget\u001b[0m\u001b[1;33m(\u001b[0m\u001b[0mself\u001b[0m\u001b[1;33m,\u001b[0m \u001b[0mtimeout\u001b[0m\u001b[1;33m=\u001b[0m\u001b[1;32mNone\u001b[0m\u001b[1;33m)\u001b[0m\u001b[1;33m:\u001b[0m\u001b[1;33m\u001b[0m\u001b[1;33m\u001b[0m\u001b[0m\n",
      "\u001b[1;32mC:\\Python38\\lib\\threading.py\u001b[0m in \u001b[0;36mwait\u001b[1;34m(self, timeout)\u001b[0m\n\u001b[0;32m    556\u001b[0m             \u001b[0msignaled\u001b[0m \u001b[1;33m=\u001b[0m \u001b[0mself\u001b[0m\u001b[1;33m.\u001b[0m\u001b[0m_flag\u001b[0m\u001b[1;33m\u001b[0m\u001b[1;33m\u001b[0m\u001b[0m\n\u001b[0;32m    557\u001b[0m             \u001b[1;32mif\u001b[0m \u001b[1;32mnot\u001b[0m \u001b[0msignaled\u001b[0m\u001b[1;33m:\u001b[0m\u001b[1;33m\u001b[0m\u001b[1;33m\u001b[0m\u001b[0m\n\u001b[1;32m--> 558\u001b[1;33m                 \u001b[0msignaled\u001b[0m \u001b[1;33m=\u001b[0m \u001b[0mself\u001b[0m\u001b[1;33m.\u001b[0m\u001b[0m_cond\u001b[0m\u001b[1;33m.\u001b[0m\u001b[0mwait\u001b[0m\u001b[1;33m(\u001b[0m\u001b[0mtimeout\u001b[0m\u001b[1;33m)\u001b[0m\u001b[1;33m\u001b[0m\u001b[1;33m\u001b[0m\u001b[0m\n\u001b[0m\u001b[0;32m    559\u001b[0m             \u001b[1;32mreturn\u001b[0m \u001b[0msignaled\u001b[0m\u001b[1;33m\u001b[0m\u001b[1;33m\u001b[0m\u001b[0m\n\u001b[0;32m    560\u001b[0m \u001b[1;33m\u001b[0m\u001b[0m\n",
      "\u001b[1;32mC:\\Python38\\lib\\threading.py\u001b[0m in \u001b[0;36mwait\u001b[1;34m(self, timeout)\u001b[0m\n\u001b[0;32m    300\u001b[0m         \u001b[1;32mtry\u001b[0m\u001b[1;33m:\u001b[0m    \u001b[1;31m# restore state no matter what (e.g., KeyboardInterrupt)\u001b[0m\u001b[1;33m\u001b[0m\u001b[1;33m\u001b[0m\u001b[0m\n\u001b[0;32m    301\u001b[0m             \u001b[1;32mif\u001b[0m \u001b[0mtimeout\u001b[0m \u001b[1;32mis\u001b[0m \u001b[1;32mNone\u001b[0m\u001b[1;33m:\u001b[0m\u001b[1;33m\u001b[0m\u001b[1;33m\u001b[0m\u001b[0m\n\u001b[1;32m--> 302\u001b[1;33m                 \u001b[0mwaiter\u001b[0m\u001b[1;33m.\u001b[0m\u001b[0macquire\u001b[0m\u001b[1;33m(\u001b[0m\u001b[1;33m)\u001b[0m\u001b[1;33m\u001b[0m\u001b[1;33m\u001b[0m\u001b[0m\n\u001b[0m\u001b[0;32m    303\u001b[0m                 \u001b[0mgotit\u001b[0m \u001b[1;33m=\u001b[0m \u001b[1;32mTrue\u001b[0m\u001b[1;33m\u001b[0m\u001b[1;33m\u001b[0m\u001b[0m\n\u001b[0;32m    304\u001b[0m             \u001b[1;32melse\u001b[0m\u001b[1;33m:\u001b[0m\u001b[1;33m\u001b[0m\u001b[1;33m\u001b[0m\u001b[0m\n",
      "\u001b[1;31mKeyboardInterrupt\u001b[0m: "
     ]
    }
   ],
   "source": [
    "results_random = parallelize(scam.hypercube_monte_carlo_random)"
   ]
  },
  {
   "cell_type": "code",
   "execution_count": null,
   "metadata": {},
   "outputs": [
    {
     "name": "stdout",
     "output_type": "stream",
     "text": [
      "320.09461821700097\n"
     ]
    }
   ],
   "source": [
    "results_optimised = parallelize(scam.hypercube_monte_carlo_optimised)"
   ]
  },
  {
   "cell_type": "code",
   "execution_count": null,
   "metadata": {},
   "outputs": [
    {
     "ename": "NameError",
     "evalue": "name 'results_random' is not defined",
     "output_type": "error",
     "traceback": [
      "\u001b[1;31m---------------------------------------------------------------------------\u001b[0m",
      "\u001b[1;31mNameError\u001b[0m                                 Traceback (most recent call last)",
      "\u001b[1;32mC:\\Users\\Public\\Documents\\Wondershare\\CreatorTemp/ipykernel_13380/1825409300.py\u001b[0m in \u001b[0;36m<module>\u001b[1;34m\u001b[0m\n\u001b[0;32m      4\u001b[0m \u001b[0mn_matchings_list_mc_random\u001b[0m \u001b[1;33m=\u001b[0m \u001b[1;33m[\u001b[0m\u001b[1;33m]\u001b[0m\u001b[1;33m\u001b[0m\u001b[1;33m\u001b[0m\u001b[0m\n\u001b[0;32m      5\u001b[0m \u001b[1;33m\u001b[0m\u001b[0m\n\u001b[1;32m----> 6\u001b[1;33m \u001b[1;32mfor\u001b[0m \u001b[0mresult\u001b[0m \u001b[1;32min\u001b[0m \u001b[0mresults_random\u001b[0m\u001b[1;33m:\u001b[0m\u001b[1;33m\u001b[0m\u001b[1;33m\u001b[0m\u001b[0m\n\u001b[0m\u001b[0;32m      7\u001b[0m     \u001b[0miter_list_mc_random\u001b[0m\u001b[1;33m.\u001b[0m\u001b[0mappend\u001b[0m\u001b[1;33m(\u001b[0m\u001b[0mnp\u001b[0m\u001b[1;33m.\u001b[0m\u001b[0mnanmean\u001b[0m\u001b[1;33m(\u001b[0m\u001b[0mresult\u001b[0m\u001b[1;33m[\u001b[0m\u001b[1;36m0\u001b[0m\u001b[1;33m]\u001b[0m\u001b[1;33m)\u001b[0m\u001b[1;33m)\u001b[0m\u001b[1;33m\u001b[0m\u001b[1;33m\u001b[0m\u001b[0m\n\u001b[0;32m      8\u001b[0m     \u001b[0mpath_len_list_mc_random\u001b[0m\u001b[1;33m.\u001b[0m\u001b[0mappend\u001b[0m\u001b[1;33m(\u001b[0m\u001b[0mnp\u001b[0m\u001b[1;33m.\u001b[0m\u001b[0mnanmean\u001b[0m\u001b[1;33m(\u001b[0m\u001b[0mresult\u001b[0m\u001b[1;33m[\u001b[0m\u001b[1;36m1\u001b[0m\u001b[1;33m]\u001b[0m\u001b[1;33m)\u001b[0m\u001b[1;33m)\u001b[0m\u001b[1;33m\u001b[0m\u001b[1;33m\u001b[0m\u001b[0m\n",
      "\u001b[1;31mNameError\u001b[0m: name 'results_random' is not defined"
     ]
    }
   ],
   "source": [
    "iter_list_mc_random = []\n",
    "path_len_list_mc_random = []\n",
    "ant_winner_list_mc_random = []\n",
    "n_matchings_list_mc_random = []\n",
    "\n",
    "for result in results_random:\n",
    "    iter_list_mc_random.append(np.nanmean(result[0]))\n",
    "    path_len_list_mc_random.append(np.nanmean(result[1]))\n",
    "    ant_winner_list_mc_random.append(np.nanmean(result[2]))\n",
    "    n_matchings_list_mc_random.append(result[3])\n"
   ]
  },
  {
   "cell_type": "code",
   "execution_count": null,
   "metadata": {},
   "outputs": [],
   "source": [
    "iter_list_mc_optimised = []\n",
    "path_len_list_mc_optimised = []\n",
    "ant_winner_list_mc_optimised = []\n",
    "n_matchings_list_mc_optimised = []\n",
    "\n",
    "for result in results_optimised:\n",
    "    iter_list_mc_optimised.append(np.nanmean(result[0]))\n",
    "    path_len_list_mc_optimised.append(np.nanmean(result[1]))\n",
    "    ant_winner_list_mc_optimised.append(np.nanmean(result[2]))\n",
    "    n_matchings_list_mc_optimised.append(result[3])"
   ]
  },
  {
   "cell_type": "code",
   "execution_count": null,
   "metadata": {},
   "outputs": [
    {
     "data": {
      "application/vnd.plotly.v1+json": {
       "config": {
        "plotlyServerURL": "https://plot.ly"
       },
       "data": [
        {
         "mode": "markers",
         "name": "no pheremone",
         "type": "scatter",
         "x": [
          0,
          1,
          2,
          3,
          4,
          5,
          6,
          7,
          8,
          9,
          10,
          11,
          12,
          13,
          14,
          15,
          16,
          17,
          18,
          19,
          20,
          21,
          22,
          23,
          24,
          25,
          26,
          27,
          28,
          29,
          30,
          31,
          32,
          33,
          34,
          35,
          36,
          37,
          38,
          39,
          40,
          41,
          42,
          43,
          44,
          45,
          46,
          47,
          48,
          49,
          50,
          51,
          52,
          53,
          54,
          55,
          56,
          57,
          58,
          59,
          60,
          61,
          62,
          63,
          64,
          65,
          66,
          67,
          68,
          69,
          70,
          71,
          72,
          73,
          74,
          75,
          76,
          77,
          78,
          79,
          80,
          81,
          82,
          83,
          84,
          85,
          86,
          87,
          88,
          89,
          90,
          91,
          92,
          93,
          94,
          95,
          96,
          97,
          98,
          99
         ],
         "y": [
          10.42,
          10.29,
          10.22,
          10.25,
          9.69,
          10.5,
          10.06,
          10.09,
          9.7,
          10.67,
          10.92,
          9.96,
          10.01,
          9.26,
          10.27,
          9.66,
          9.98,
          9.44,
          10.63,
          9.51,
          10.33,
          9.87,
          10.11,
          9.81,
          9.85,
          10.43,
          10.16,
          10.19,
          10.11,
          9.8,
          10.54,
          9.41,
          10.04,
          9.75,
          9.84,
          9.71,
          10.43,
          10.12,
          9.95,
          10.06,
          10.08,
          10.8,
          9.54,
          10.53,
          10.04,
          10.03,
          9.84,
          10.15,
          10.34,
          10.26,
          9.8,
          10.1,
          9.94,
          10.38,
          9.84,
          9.92,
          9.74,
          10.47,
          10.58,
          10.34,
          9.52,
          10.61,
          10.27,
          9.94,
          9.98,
          9.65,
          10.25,
          9.81,
          10.06,
          10.09,
          10.15,
          9.97,
          10.76,
          10.01,
          10.03,
          9.97,
          9.59,
          10.18,
          10.11,
          10.47,
          10.14,
          10.4,
          9.79,
          9.93,
          9.42,
          10.67,
          9.91,
          10.21,
          9.86,
          9.86,
          9.25,
          9.95,
          9.67,
          9.43,
          10.07,
          9.93,
          10.17,
          9.95,
          10.82,
          10.24,
          10.65,
          10.59,
          10.07,
          10.22,
          9.64,
          10.39,
          9.91,
          9.75,
          10.19,
          10.34,
          10.75,
          10.02,
          10.06,
          9.39,
          10.16,
          10.05,
          10.39,
          10.26,
          10.36,
          9.92,
          10.12,
          9.94,
          10.65,
          10.42,
          10.14,
          9.85,
          9.81,
          9.83,
          10.3,
          10.79,
          9.38,
          10.24,
          10.13,
          10.24,
          9.77,
          10.02,
          9.71,
          9.63,
          9.49,
          9.29,
          9.82,
          10.42,
          9.87,
          10.11,
          10.26,
          9.58,
          10.01,
          10.83,
          10.51,
          9.58,
          9.87,
          9.72,
          10.95,
          9.86,
          10.02,
          9.73,
          9.57,
          9.61,
          10.5,
          10,
          10.35,
          10.22,
          9.3,
          9.85,
          10.39,
          9.97,
          10.64,
          10.04,
          10.56,
          9.85,
          9.49,
          10.48,
          10.22,
          10.81,
          10.11,
          9.62,
          9.51,
          9.44,
          9.69,
          9.83,
          9.7,
          10.36,
          9.52,
          9.98,
          10.22,
          9.97,
          9.29,
          10.21,
          9.99,
          9.73,
          9.79,
          9.3,
          10.21,
          9.55,
          10.94,
          10.1,
          10.36,
          10.11,
          10.05,
          9.13,
          9.95,
          9.81,
          10.33,
          10.38,
          9.51,
          9.41,
          10.03,
          10.12,
          10.39,
          9.65,
          9.67,
          9.58,
          10.41,
          9.62,
          9.9,
          9.99,
          9.86,
          9.72,
          9.91,
          10.08,
          10.32,
          10.52,
          10.24,
          10.45,
          9.89,
          9.61,
          9.45,
          9.58,
          10.05,
          9.77,
          10.13,
          10.62,
          9.78,
          10.23,
          10.17,
          10.54,
          10.61,
          9.71,
          9.94,
          10.71,
          9.35,
          9.7,
          9.82,
          10.85,
          9.83,
          9.6,
          9.86,
          10.68,
          10.4,
          10.34,
          10.08,
          10.15,
          9.99,
          10.25,
          10.15,
          10.3,
          10.38,
          10.15,
          9.99,
          9.98,
          9.65,
          10.02,
          10.04,
          9.34,
          9.51,
          9.08,
          10.08,
          9.95,
          10.15,
          10.61,
          10.1,
          10.79,
          10.46,
          10.26,
          10.29,
          10.55,
          9.93,
          9.8,
          11.28,
          9.85,
          11.34,
          9.24,
          9.88,
          9.66,
          10.17,
          10.35,
          9.95,
          9.3,
          10.54,
          11.66,
          10.16,
          9.96,
          10.15,
          10.18,
          10.1,
          9.93,
          10.15,
          9.88,
          10.13,
          10.42,
          10.32,
          10.9,
          9.69,
          9.92,
          10.32,
          9.51,
          9.92,
          9.95,
          10.62,
          10.64,
          9.7,
          9.59,
          10.13,
          10.47,
          9.84,
          10.81,
          10.1,
          9.8,
          9.36,
          10.02,
          9.53,
          10.3,
          9.93,
          9.98,
          10.04,
          10.82,
          9.69,
          9.88,
          9.87,
          9.89,
          9.71,
          10.7,
          9.84,
          9.52,
          9.72,
          9.92,
          9.88,
          10,
          10.25,
          9.83,
          10.02,
          10.41,
          10.53,
          10.34,
          9.72,
          9.69,
          10.31,
          11.58,
          8.88,
          9.68,
          10.6,
          9.56,
          10.66,
          10.41,
          10.04,
          9.12,
          10.1,
          10.47,
          10.28,
          10.13,
          9.83,
          11.1,
          10.36,
          11.09,
          9.89,
          11.04,
          9.92,
          9.44,
          10.65,
          9.58,
          10.34,
          10.09,
          10.46,
          9.43,
          10.42,
          9.65,
          10.3,
          9.34,
          10.53,
          9.39,
          9.74,
          11.01,
          10.47,
          9.96,
          9.56,
          10.67,
          10.46,
          10.24,
          9.8,
          10.41,
          9.67,
          9.49,
          10.64,
          10.1,
          10.22,
          10.06,
          10.63,
          10.52,
          9.83,
          10.37,
          10.12,
          9.89,
          9.92,
          9.79,
          10.13,
          10.18,
          10.28,
          10.22,
          9.4,
          10.01,
          9.93,
          9.62,
          10.03,
          10.27,
          9.39,
          10.13,
          10.36,
          10.26,
          9.86,
          9.6,
          10.02,
          9.67,
          9.35,
          10.13,
          9.68,
          10.21,
          9.71,
          10.11,
          10.32,
          10.32,
          9.95,
          9.77,
          10.32,
          9.84,
          11.09,
          9.98,
          10.48,
          10.52,
          10.29,
          9.83,
          9.95,
          10.16,
          9.87,
          11.04,
          10.09,
          9.9,
          8.97,
          10.86,
          10.09,
          9.92,
          10.27,
          9.49,
          10.27,
          9.87,
          9.58,
          10.66,
          10.63,
          10.71,
          9.53,
          10.09,
          9.92,
          9.54,
          10.27,
          9.57,
          9.27,
          10.08,
          10.48,
          11.51,
          9.62,
          9.45,
          9.86,
          10.58,
          9.83,
          9.73,
          10.21,
          10.23,
          10.25,
          10.04,
          9.74,
          9.98,
          9.89,
          10.16,
          9.75,
          10.01,
          10.15,
          9.93,
          9.96,
          10.61,
          10.02,
          9.85,
          9.8,
          10.94,
          10.38,
          9.52,
          10.64,
          10.59,
          9.48,
          10.1,
          10.19,
          10.47,
          9.7,
          10.18,
          10.13,
          10.57,
          10.51,
          10.34,
          9.72,
          10.83,
          9.85,
          9.44,
          10.87,
          10.91,
          10.33,
          9.62,
          9.8,
          10.23,
          10.62,
          9.37,
          9.7,
          9.5,
          10.39,
          10.11,
          9.87,
          11.14,
          9.76,
          10.37,
          9.8,
          10.19,
          9.82,
          10.61,
          9.89,
          10.24,
          10.35,
          10.5,
          9.52,
          9.86,
          11.18,
          10.23,
          10.68,
          10.08,
          11.67,
          10.06,
          9.54,
          9.98,
          9.8,
          10.43,
          10.31,
          10.01,
          11.1,
          9.69,
          9.7,
          10.07,
          10.38,
          9.65,
          9.28,
          9.95,
          9.91,
          10.1,
          10.42,
          10.09,
          9.26,
          10.65,
          10.23,
          9.84,
          9.81,
          10.7,
          10.13,
          10.51,
          9.46,
          9.93,
          10.34,
          9.83,
          9.49,
          10.16,
          10,
          10.65,
          9.55,
          9.78,
          9.73,
          10.13,
          10.19,
          9.85,
          10.89,
          10.08,
          10.31,
          10.33,
          9.71,
          9.84,
          9.72,
          9.81,
          10.39,
          9.74,
          10.09,
          9.65,
          9.88,
          9.93,
          9.87,
          9.94,
          9.9,
          10.54,
          9.48,
          10.47,
          9.75,
          9.37,
          9.78,
          10.65,
          9.7,
          10.48,
          9.73,
          9.79,
          9.91,
          9.23,
          10.14,
          9.64,
          10.3,
          10.4,
          10.25,
          9.69,
          10.37,
          10.2,
          9.98,
          9.41,
          10.56,
          9.3,
          9.81,
          9.44,
          9.62,
          9.57,
          10.09,
          10.42,
          10.53,
          10.19,
          10.29,
          9.24,
          10.12,
          9.25,
          9.94,
          10.04,
          9.85,
          9.84,
          10.43,
          9.33,
          10.33,
          10.1,
          9.77,
          9.41,
          11.31,
          9.68,
          9.76,
          10.43,
          10.27,
          9.33,
          10.45,
          10.38,
          9.76,
          9.75,
          10.3,
          10.87,
          10.01,
          10.32,
          10.06,
          10.11,
          11.16,
          9.53,
          10.03,
          10.05,
          10.31,
          10.38,
          9.87,
          10.18,
          9.8,
          10.02,
          10.32,
          10.39,
          9.42,
          9.67,
          9.78,
          9.88,
          10.54,
          10.33,
          10.48,
          10.15,
          10.56,
          10.63,
          9.77,
          10.9,
          10.12,
          9.92,
          10.26,
          9.78,
          10.06,
          9.39,
          9.72,
          10.15,
          9.34,
          10.85,
          10.43,
          9.77,
          10.16,
          10.15,
          10.29,
          9.74,
          10.65,
          9.46,
          9.74,
          10.25,
          10.1,
          9.18,
          10.27,
          10.86,
          9.52,
          10.55,
          9.5,
          9.89,
          9.84,
          9.71,
          10.1,
          9.69,
          10.08,
          9.84,
          10.15,
          10.01,
          10.82,
          10.7,
          10.53,
          10.13,
          10.85,
          9.72,
          10.41,
          9.27,
          9.84,
          9.78,
          10.16,
          9.89,
          9.41,
          10.21,
          9.97,
          9.9,
          10.29,
          9.18,
          10.24,
          10.43,
          9.88,
          9.81,
          10,
          9.88,
          10.44,
          9.68,
          10.21,
          9.47,
          10.04,
          9.59,
          9.88,
          10.3,
          9.99,
          10.09,
          10.07,
          10.16,
          10.28,
          9.98,
          9.59,
          10.6,
          9.51,
          10.26,
          10.71,
          10.03,
          10.74,
          10.19,
          10.19,
          10.33,
          10.06,
          10.19,
          10.09,
          9.36,
          10.53,
          10.32,
          9.43,
          9.81,
          10.95,
          9.34,
          10.06,
          10.06,
          9.96,
          10.5,
          9.91,
          9.47,
          9.99,
          10.76,
          9.41,
          9.66,
          9.73,
          10.09,
          9.9,
          10.23,
          10.04,
          10.36,
          10.47,
          10.75,
          9.84,
          10.09,
          10.2,
          10.14,
          10.71,
          10.71,
          9.4,
          9.97,
          10.43,
          9.6,
          9.44,
          10.37,
          10.33,
          10.13,
          10.3,
          10.39,
          10.56,
          9.66,
          9.76,
          10.34,
          10.19,
          10.33,
          10.6,
          9.86,
          9.99,
          10.61,
          9.58,
          10.03,
          10.62,
          9.51,
          9.66,
          10.64,
          9.99,
          10.06,
          9.82,
          9.87,
          10.31,
          10.5,
          9.9,
          10.11,
          10.45,
          10.8,
          9.99,
          9.96,
          10.04,
          10.56,
          10.43,
          10.03,
          10.18,
          9.82,
          9.63,
          9.82,
          9.93,
          10.13,
          10.03,
          10.29,
          9.99,
          10.02,
          10.6,
          9.76,
          9.74,
          9.31,
          10.42,
          9.4,
          10.19,
          10.19,
          9.36,
          10.21,
          10.44,
          10,
          9.28,
          9.74,
          9.68,
          10.67,
          9.4,
          10.62,
          10.74,
          10.02,
          9.49,
          9.72,
          9.95,
          9.52,
          9.31,
          10.03,
          9.45,
          9.97,
          10.16,
          9.46,
          9.88,
          10.19,
          9.96,
          10.13,
          9.8,
          9.96,
          10.21,
          10.42,
          10.31,
          10.26,
          10.52,
          9.61,
          10.1,
          10.24,
          9.77,
          9.41,
          9.73,
          10.2,
          10.1,
          10.33,
          9.42,
          9.63,
          9.88,
          9.65,
          9.88,
          10.57,
          10.87,
          10.24,
          9.7,
          10.16,
          10.21,
          10.11,
          10.31,
          10.31,
          9.28,
          10.06,
          10.14,
          10.2,
          9.72,
          9.83,
          9.86,
          10.18,
          10.43,
          10.24,
          9.66,
          9.91,
          10.25,
          9.8,
          10.48,
          10.03,
          10.48,
          9.95,
          10.31,
          9.65,
          10.06,
          9.61,
          10.23,
          10,
          9.74,
          9.62,
          10.51,
          10.14,
          10.1,
          10.24,
          9.65,
          10.26,
          9.38,
          10.28,
          9.68,
          10.64,
          10.14,
          10.26,
          10.59,
          9.45,
          10.2,
          10.32,
          9.88,
          10.83,
          10.47,
          10.46,
          9.5,
          10.46,
          10,
          9.87,
          10.28,
          10.21,
          10.02,
          10.18,
          9.8,
          10,
          10.77,
          10.13,
          10.22,
          10.29,
          10.15,
          10.52,
          9.59,
          10.08,
          10.26,
          9.93,
          10.09,
          10.08,
          9.72,
          10.31,
          10.61,
          10.41,
          9.64,
          10.32,
          10.66,
          10.17,
          9.82,
          10.27,
          10,
          10.65
         ]
        },
        {
         "mode": "markers",
         "name": "with pheremone",
         "type": "scatter",
         "x": [
          0,
          1,
          2,
          3,
          4,
          5,
          6,
          7,
          8,
          9,
          10,
          11,
          12,
          13,
          14,
          15,
          16,
          17,
          18,
          19,
          20,
          21,
          22,
          23,
          24,
          25,
          26,
          27,
          28,
          29,
          30,
          31,
          32,
          33,
          34,
          35,
          36,
          37,
          38,
          39,
          40,
          41,
          42,
          43,
          44,
          45,
          46,
          47,
          48,
          49,
          50,
          51,
          52,
          53,
          54,
          55,
          56,
          57,
          58,
          59,
          60,
          61,
          62,
          63,
          64,
          65,
          66,
          67,
          68,
          69,
          70,
          71,
          72,
          73,
          74,
          75,
          76,
          77,
          78,
          79,
          80,
          81,
          82,
          83,
          84,
          85,
          86,
          87,
          88,
          89,
          90,
          91,
          92,
          93,
          94,
          95,
          96,
          97,
          98,
          99
         ],
         "y": [
          7.46,
          7.49,
          7.48,
          7.24,
          7.44,
          7.22,
          7.4,
          7.16,
          7.3,
          7.22,
          7.34,
          7.51,
          7.26,
          7.44,
          7.26,
          7.5,
          7.51,
          7.37,
          7.32,
          7.32,
          7.24,
          7.28,
          7.28,
          7.43,
          7.34,
          7.36,
          7.29,
          7.18,
          7.52,
          7.32,
          7.3,
          7.48,
          7.3,
          7.18,
          7.28,
          7.32,
          7.4,
          7.5,
          7.26,
          7.16,
          7.26,
          7.16,
          7.35,
          7.39,
          7.31,
          7.28,
          7.42,
          7.42,
          7.14,
          7.38,
          7.48,
          7.44,
          7.18,
          7.18,
          7.3,
          7.36,
          7.46,
          7.44,
          7.3,
          7.4,
          7.3,
          7.34,
          7.38,
          7.48,
          7.42,
          7.38,
          7.24,
          7.3,
          7.4,
          7.18,
          7.34,
          7.38,
          7.35,
          7.26,
          7.34,
          7.3,
          7.3,
          7.4,
          7.36,
          7.16,
          7.4,
          7.34,
          7.4,
          7.3,
          7.45,
          7.32,
          7.38,
          7.28,
          7.54,
          7.28,
          7.28,
          7.28,
          7.44,
          7.56,
          7.18,
          7.34,
          7.44,
          7.26,
          7.28,
          7.24,
          7.32,
          7.37,
          7.39,
          7.34,
          7.34,
          7.38,
          7.47,
          7.21,
          7.42,
          7.3,
          7.26,
          7.26,
          7.26,
          7.28,
          7.22,
          7.4,
          7.36,
          7.44,
          7.32,
          7.26,
          7.2,
          7.39,
          7.34,
          7.28,
          7.31,
          7.44,
          7.36,
          7.26,
          7.29,
          7.34,
          7.24,
          7.18,
          7.4,
          7.34,
          7.55,
          7.34,
          7.22,
          7.36,
          7.24,
          7.38,
          7.3,
          7.3,
          7.26,
          7.32,
          7.42,
          7.22,
          7.4,
          7.52,
          7.46,
          7.26,
          7.32,
          7.18,
          7.3,
          7.4,
          7.34,
          7.44,
          7.26,
          7.26,
          7.26,
          7.1,
          7.31,
          7.38,
          7.32,
          7.42,
          7.28,
          7.4,
          7.42,
          7.43,
          7.2,
          7.32,
          7.16,
          7.44,
          7.38,
          7.5,
          7.22,
          7.28,
          7.34,
          7.29,
          7.28,
          7.4,
          7.26,
          7.32,
          7.28,
          7.2,
          7.18,
          7.32,
          7.42,
          7.36,
          7.28,
          7.39,
          7.48,
          7.18,
          7.16,
          7.28,
          7.3,
          7.34,
          7.36,
          7.45,
          7.46,
          7.32,
          7.22,
          7.42,
          7.3,
          7.22,
          7.22,
          7.3,
          7.16,
          7.26,
          7.24,
          7.54,
          7.28,
          7.35,
          7.36,
          7.28,
          7.46,
          7.36,
          7.26,
          7.22,
          7.32,
          7.46,
          7.48,
          7.29,
          7.24,
          7.34,
          7.3,
          7.46,
          7.3,
          7.3,
          7.32,
          7.3,
          7.32,
          7.22,
          7.28,
          7.38,
          7.26,
          7.2,
          7.38,
          7.36,
          7.2,
          7.32,
          7.34,
          7.26,
          7.32,
          7.19,
          7.4,
          7.42,
          7.24,
          7.44,
          7.34,
          7.3,
          7.28,
          7.36,
          7.59,
          7.28,
          7.27,
          7.3,
          7.51,
          7.22,
          7.26,
          7.34,
          7.45,
          7.42,
          7.27,
          7.24,
          7.32,
          7.5,
          7.16,
          7.27,
          7.32,
          7.28,
          7.48,
          7.4,
          7.29,
          7.3,
          7.22,
          7.42,
          7.42,
          7.5,
          7.36,
          7.22,
          7.18,
          7.44,
          7.29,
          7.24,
          7.38,
          7.5,
          7.3,
          7.28,
          7.52,
          7.33,
          7.22,
          7.48,
          7.33,
          7.34,
          7.36,
          7.4,
          7.36,
          7.44,
          7.44,
          7.37,
          7.32,
          7.28,
          7.32,
          7.29,
          7.4,
          7.34,
          7.2,
          7.38,
          7.28,
          7.44,
          7.35,
          7.38,
          7.28,
          7.22,
          7.32,
          7.31,
          7.3,
          7.22,
          7.5,
          7.18,
          7.26,
          7.3,
          7.4,
          7.42,
          7.32,
          7.3,
          7.38,
          7.27,
          7.48,
          7.22,
          7.32,
          7.37,
          7.4,
          7.64,
          7.22,
          7.19,
          7.41,
          7.36,
          7.4,
          7.38,
          7.28,
          7.3,
          7.28,
          7.18,
          7.3,
          7.4,
          7.2,
          7.37,
          7.18,
          7.38,
          7.34,
          7.3,
          7.41,
          7.3,
          7.38,
          7.44,
          7.35,
          7.26,
          7.26,
          7.2,
          7.32,
          7.3,
          7.34,
          7.38,
          7.26,
          7.29,
          7.14,
          7.2,
          7.38,
          7.25,
          7.46,
          7.32,
          7.2,
          7.28,
          7.38,
          7.38,
          7.2,
          7.24,
          7.3,
          7.4,
          7.18,
          7.28,
          7.24,
          7.2,
          7.3,
          7.36,
          7.36,
          7.26,
          7.32,
          7.4,
          7.38,
          7.4,
          7.16,
          7.46,
          7.24,
          7.24,
          7.44,
          7.26,
          7.24,
          7.64,
          7.32,
          7.28,
          7.42,
          7.32,
          7.26,
          7.24,
          7.38,
          7.08,
          7.24,
          7.2,
          7.26,
          7.34,
          7.3,
          7.26,
          7.34,
          7.3,
          7.26,
          7.43,
          7.34,
          7.4,
          7.36,
          7.3,
          7.43,
          7.42,
          7.3,
          7.24,
          7.28,
          7.24,
          7.38,
          7.28,
          7.38,
          7.3,
          7.34,
          7.28,
          7.34,
          7.5,
          7.3,
          7.38,
          7.26,
          7.33,
          7.44,
          7.24,
          7.28,
          7.24,
          7.26,
          7.26,
          7.26,
          7.26,
          7.12,
          7.4,
          7.34,
          7.3,
          7.32,
          7.32,
          7.22,
          7.22,
          7.42,
          7.4,
          7.33,
          7.22,
          7.26,
          7.24,
          7.51,
          7.24,
          7.32,
          7.3,
          7.4,
          7.28,
          7.33,
          7.46,
          7.2,
          7.32,
          7.42,
          7.16,
          7.36,
          7.2,
          7.3,
          7.22,
          7.34,
          7.42,
          7.44,
          7.41,
          7.18,
          7.44,
          7.26,
          7.26,
          7.24,
          7.34,
          7.38,
          7.34,
          7.26,
          7.32,
          7.24,
          7.24,
          7.34,
          7.16,
          7.32,
          7.38,
          7.22,
          7.39,
          7.18,
          7.44,
          7.2,
          7.24,
          7.28,
          7.4,
          7.43,
          7.4,
          7.18,
          7.4,
          7.34,
          7.46,
          7.32,
          7.48,
          7.26,
          7.48,
          7.32,
          7.28,
          7.34,
          7.34,
          7.24,
          7.28,
          7.28,
          7.38,
          7.3,
          7.2,
          7.2,
          7.53,
          7.22,
          7.26,
          7.4,
          7.46,
          7.3,
          7.32,
          7.46,
          7.18,
          7.28,
          7.51,
          7.36,
          7.28,
          7.37,
          7.32,
          7.42,
          7.5,
          7.48,
          7.48,
          7.28,
          7.5,
          7.22,
          7.4,
          7.28,
          7.46,
          7.24,
          7.36,
          7.4,
          7.42,
          7.36,
          7.26,
          7.26,
          7.2,
          7.22,
          7.41,
          7.5,
          7.22,
          7.38,
          7.29,
          7.5,
          7.42,
          7.32,
          7.38,
          7.3,
          7.41,
          7.36,
          7.34,
          7.2,
          7.24,
          7.38,
          7.26,
          7.34,
          7.26,
          7.32,
          7.51,
          7.34,
          7.28,
          7.36,
          7.36,
          7.26,
          7.34,
          7.47,
          7.24,
          7.44,
          7.44,
          7.42,
          7.22,
          7.44,
          7.32,
          7.42,
          7.28,
          7.54,
          7.47,
          7.32,
          7.4,
          7.3,
          7.3,
          7.32,
          7.42,
          7.3,
          7.16,
          7.26,
          7.16,
          7.24,
          7.22,
          7.26,
          7.34,
          7.18,
          7.39,
          7.32,
          7.32,
          7.26,
          7.38,
          7.38,
          7.32,
          7.26,
          7.27,
          7.34,
          7.34,
          7.46,
          7.2,
          7.24,
          7.36,
          7.38,
          7.23,
          7.27,
          7.52,
          7.38,
          7.28,
          7.28,
          7.36,
          7.39,
          7.3,
          7.28,
          7.26,
          7.2,
          7.16,
          7.22,
          7.2,
          7.24,
          7.44,
          7.28,
          7.54,
          7.38,
          7.38,
          7.42,
          7.38,
          7.26,
          7.36,
          7.12,
          7.44,
          7.22,
          7.24,
          7.44,
          7.26,
          7.24,
          7.5,
          7.42,
          7.38,
          7.34,
          7.36,
          7.4,
          7.43,
          7.16,
          7.23,
          7.22,
          7.62,
          7.36,
          7.26,
          7.16,
          7.22,
          7.4,
          7.52,
          7.16,
          7.29,
          7.36,
          7.28,
          7.3,
          7.32,
          7.32,
          7.26,
          7.22,
          7.48,
          7.53,
          7.45,
          7.36,
          7.24,
          7.28,
          7.2,
          7.38,
          7.28,
          7.45,
          7.22,
          7.36,
          7.61,
          7.44,
          7.3,
          7.2,
          7.3,
          7.26,
          7.2,
          7.32,
          7.28,
          7.32,
          7.34,
          7.29,
          7.4,
          7.3,
          7.22,
          7.28,
          7.4,
          7.36,
          7.31,
          7.46,
          7.38,
          7.44,
          7.3,
          7.44,
          7.32,
          7.38,
          7.44,
          7.2,
          7.34,
          7.26,
          7.46,
          7.27,
          7.26,
          7.5,
          7.28,
          7.28,
          7.2,
          7.3,
          7.53,
          7.26,
          7.2,
          7.25,
          7.38,
          7.18,
          7.2,
          7.45,
          7.4,
          7.3,
          7.3,
          7.32,
          7.22,
          7.38,
          7.34,
          7.38,
          7.5,
          7.32,
          7.3,
          7.3,
          7.3,
          7.28,
          7.28,
          7.5,
          7.24,
          7.3,
          7.28,
          7.54,
          7.52,
          7.26,
          7.32,
          7.44,
          7.38,
          7.24,
          7.28,
          7.36,
          7.42,
          7.34,
          7.48,
          7.28,
          7.2,
          7.28,
          7.3,
          7.3,
          7.27,
          7.5,
          7.32,
          7.38,
          7.24,
          7.26,
          7.26,
          7.42,
          7.26,
          7.4,
          7.3,
          7.44,
          7.12,
          7.37,
          7.28,
          7.42,
          7.35,
          7.25,
          7.34,
          7.34,
          7.14,
          7.27,
          7.28,
          7.24,
          7.46,
          7.36,
          7.36,
          7.46,
          7.39,
          7.32,
          7.27,
          7.22,
          7.33,
          7.28,
          7.3,
          7.37,
          7.44,
          7.38,
          7.26,
          7.47,
          7.47,
          7.32,
          7.26,
          7.39,
          7.3,
          7.44,
          7.4,
          7.3,
          7.32,
          7.32,
          7.26,
          7.24,
          7.24,
          7.3,
          7.18,
          7.34,
          7.28,
          7.36,
          7.3,
          7.38,
          7.33,
          7.52,
          7.3,
          7.3,
          7.22,
          7.36,
          7.28,
          7.22,
          7.28,
          7.34,
          7.38,
          7.18,
          7.22,
          7.46,
          7.34,
          7.36,
          7.22,
          7.33,
          7.48,
          7.28,
          7.52,
          7.47,
          7.3,
          7.26,
          7.28,
          7.46,
          7.26,
          7.3,
          7.27,
          7.38,
          7.2,
          7.32,
          7.34,
          7.51,
          7.38,
          7.34,
          7.2,
          7.52,
          7.38,
          7.26,
          7.43,
          7.3,
          7.32,
          7.52,
          7.28,
          7.31,
          7.28,
          7.42,
          7.4,
          7.35,
          7.4,
          7.26,
          7.46,
          7.26,
          7.34,
          7.26,
          7.18,
          7.36,
          7.34,
          7.46,
          7.38,
          7.18,
          7.36,
          7.37,
          7.42,
          7.28,
          7.28,
          7.42,
          7.47,
          7.3,
          7.22,
          7.38,
          7.42,
          7.28,
          7.34,
          7.32,
          7.55,
          7.44,
          7.38,
          7.2,
          7.3,
          7.36,
          7.3,
          7.35,
          7.26,
          7.3,
          7.34,
          7.4,
          7.26,
          7.26,
          7.42,
          7.34,
          7.34,
          7.26,
          7.28,
          7.27,
          7.34,
          7.34,
          7.34,
          7.39,
          7.48,
          7.38,
          7.24,
          7.28,
          7.39,
          7.3,
          7.5,
          7.3,
          7.33,
          7.24,
          7.3,
          7.42,
          7.34,
          7.12,
          7.53,
          7.24,
          7.47,
          7.38,
          7.24,
          7.38,
          7.5,
          7.2,
          7.28,
          7.3,
          7.28,
          7.22,
          7.28,
          7.24,
          7.2,
          7.56,
          7.36,
          7.4,
          7.36,
          7.2,
          7.32,
          7.16,
          7.34,
          7.36,
          7.3,
          7.26,
          7.48,
          7.3,
          7.16,
          7.26,
          7.3,
          7.38,
          7.3,
          7.3,
          7.48,
          7.3,
          7.36,
          7.28,
          7.32,
          7.44,
          7.42,
          7.32,
          7.28
         ]
        }
       ],
       "layout": {
        "template": {
         "data": {
          "bar": [
           {
            "error_x": {
             "color": "#2a3f5f"
            },
            "error_y": {
             "color": "#2a3f5f"
            },
            "marker": {
             "line": {
              "color": "#E5ECF6",
              "width": 0.5
             },
             "pattern": {
              "fillmode": "overlay",
              "size": 10,
              "solidity": 0.2
             }
            },
            "type": "bar"
           }
          ],
          "barpolar": [
           {
            "marker": {
             "line": {
              "color": "#E5ECF6",
              "width": 0.5
             },
             "pattern": {
              "fillmode": "overlay",
              "size": 10,
              "solidity": 0.2
             }
            },
            "type": "barpolar"
           }
          ],
          "carpet": [
           {
            "aaxis": {
             "endlinecolor": "#2a3f5f",
             "gridcolor": "white",
             "linecolor": "white",
             "minorgridcolor": "white",
             "startlinecolor": "#2a3f5f"
            },
            "baxis": {
             "endlinecolor": "#2a3f5f",
             "gridcolor": "white",
             "linecolor": "white",
             "minorgridcolor": "white",
             "startlinecolor": "#2a3f5f"
            },
            "type": "carpet"
           }
          ],
          "choropleth": [
           {
            "colorbar": {
             "outlinewidth": 0,
             "ticks": ""
            },
            "type": "choropleth"
           }
          ],
          "contour": [
           {
            "colorbar": {
             "outlinewidth": 0,
             "ticks": ""
            },
            "colorscale": [
             [
              0,
              "#0d0887"
             ],
             [
              0.1111111111111111,
              "#46039f"
             ],
             [
              0.2222222222222222,
              "#7201a8"
             ],
             [
              0.3333333333333333,
              "#9c179e"
             ],
             [
              0.4444444444444444,
              "#bd3786"
             ],
             [
              0.5555555555555556,
              "#d8576b"
             ],
             [
              0.6666666666666666,
              "#ed7953"
             ],
             [
              0.7777777777777778,
              "#fb9f3a"
             ],
             [
              0.8888888888888888,
              "#fdca26"
             ],
             [
              1,
              "#f0f921"
             ]
            ],
            "type": "contour"
           }
          ],
          "contourcarpet": [
           {
            "colorbar": {
             "outlinewidth": 0,
             "ticks": ""
            },
            "type": "contourcarpet"
           }
          ],
          "heatmap": [
           {
            "colorbar": {
             "outlinewidth": 0,
             "ticks": ""
            },
            "colorscale": [
             [
              0,
              "#0d0887"
             ],
             [
              0.1111111111111111,
              "#46039f"
             ],
             [
              0.2222222222222222,
              "#7201a8"
             ],
             [
              0.3333333333333333,
              "#9c179e"
             ],
             [
              0.4444444444444444,
              "#bd3786"
             ],
             [
              0.5555555555555556,
              "#d8576b"
             ],
             [
              0.6666666666666666,
              "#ed7953"
             ],
             [
              0.7777777777777778,
              "#fb9f3a"
             ],
             [
              0.8888888888888888,
              "#fdca26"
             ],
             [
              1,
              "#f0f921"
             ]
            ],
            "type": "heatmap"
           }
          ],
          "heatmapgl": [
           {
            "colorbar": {
             "outlinewidth": 0,
             "ticks": ""
            },
            "colorscale": [
             [
              0,
              "#0d0887"
             ],
             [
              0.1111111111111111,
              "#46039f"
             ],
             [
              0.2222222222222222,
              "#7201a8"
             ],
             [
              0.3333333333333333,
              "#9c179e"
             ],
             [
              0.4444444444444444,
              "#bd3786"
             ],
             [
              0.5555555555555556,
              "#d8576b"
             ],
             [
              0.6666666666666666,
              "#ed7953"
             ],
             [
              0.7777777777777778,
              "#fb9f3a"
             ],
             [
              0.8888888888888888,
              "#fdca26"
             ],
             [
              1,
              "#f0f921"
             ]
            ],
            "type": "heatmapgl"
           }
          ],
          "histogram": [
           {
            "marker": {
             "pattern": {
              "fillmode": "overlay",
              "size": 10,
              "solidity": 0.2
             }
            },
            "type": "histogram"
           }
          ],
          "histogram2d": [
           {
            "colorbar": {
             "outlinewidth": 0,
             "ticks": ""
            },
            "colorscale": [
             [
              0,
              "#0d0887"
             ],
             [
              0.1111111111111111,
              "#46039f"
             ],
             [
              0.2222222222222222,
              "#7201a8"
             ],
             [
              0.3333333333333333,
              "#9c179e"
             ],
             [
              0.4444444444444444,
              "#bd3786"
             ],
             [
              0.5555555555555556,
              "#d8576b"
             ],
             [
              0.6666666666666666,
              "#ed7953"
             ],
             [
              0.7777777777777778,
              "#fb9f3a"
             ],
             [
              0.8888888888888888,
              "#fdca26"
             ],
             [
              1,
              "#f0f921"
             ]
            ],
            "type": "histogram2d"
           }
          ],
          "histogram2dcontour": [
           {
            "colorbar": {
             "outlinewidth": 0,
             "ticks": ""
            },
            "colorscale": [
             [
              0,
              "#0d0887"
             ],
             [
              0.1111111111111111,
              "#46039f"
             ],
             [
              0.2222222222222222,
              "#7201a8"
             ],
             [
              0.3333333333333333,
              "#9c179e"
             ],
             [
              0.4444444444444444,
              "#bd3786"
             ],
             [
              0.5555555555555556,
              "#d8576b"
             ],
             [
              0.6666666666666666,
              "#ed7953"
             ],
             [
              0.7777777777777778,
              "#fb9f3a"
             ],
             [
              0.8888888888888888,
              "#fdca26"
             ],
             [
              1,
              "#f0f921"
             ]
            ],
            "type": "histogram2dcontour"
           }
          ],
          "mesh3d": [
           {
            "colorbar": {
             "outlinewidth": 0,
             "ticks": ""
            },
            "type": "mesh3d"
           }
          ],
          "parcoords": [
           {
            "line": {
             "colorbar": {
              "outlinewidth": 0,
              "ticks": ""
             }
            },
            "type": "parcoords"
           }
          ],
          "pie": [
           {
            "automargin": true,
            "type": "pie"
           }
          ],
          "scatter": [
           {
            "marker": {
             "colorbar": {
              "outlinewidth": 0,
              "ticks": ""
             }
            },
            "type": "scatter"
           }
          ],
          "scatter3d": [
           {
            "line": {
             "colorbar": {
              "outlinewidth": 0,
              "ticks": ""
             }
            },
            "marker": {
             "colorbar": {
              "outlinewidth": 0,
              "ticks": ""
             }
            },
            "type": "scatter3d"
           }
          ],
          "scattercarpet": [
           {
            "marker": {
             "colorbar": {
              "outlinewidth": 0,
              "ticks": ""
             }
            },
            "type": "scattercarpet"
           }
          ],
          "scattergeo": [
           {
            "marker": {
             "colorbar": {
              "outlinewidth": 0,
              "ticks": ""
             }
            },
            "type": "scattergeo"
           }
          ],
          "scattergl": [
           {
            "marker": {
             "colorbar": {
              "outlinewidth": 0,
              "ticks": ""
             }
            },
            "type": "scattergl"
           }
          ],
          "scattermapbox": [
           {
            "marker": {
             "colorbar": {
              "outlinewidth": 0,
              "ticks": ""
             }
            },
            "type": "scattermapbox"
           }
          ],
          "scatterpolar": [
           {
            "marker": {
             "colorbar": {
              "outlinewidth": 0,
              "ticks": ""
             }
            },
            "type": "scatterpolar"
           }
          ],
          "scatterpolargl": [
           {
            "marker": {
             "colorbar": {
              "outlinewidth": 0,
              "ticks": ""
             }
            },
            "type": "scatterpolargl"
           }
          ],
          "scatterternary": [
           {
            "marker": {
             "colorbar": {
              "outlinewidth": 0,
              "ticks": ""
             }
            },
            "type": "scatterternary"
           }
          ],
          "surface": [
           {
            "colorbar": {
             "outlinewidth": 0,
             "ticks": ""
            },
            "colorscale": [
             [
              0,
              "#0d0887"
             ],
             [
              0.1111111111111111,
              "#46039f"
             ],
             [
              0.2222222222222222,
              "#7201a8"
             ],
             [
              0.3333333333333333,
              "#9c179e"
             ],
             [
              0.4444444444444444,
              "#bd3786"
             ],
             [
              0.5555555555555556,
              "#d8576b"
             ],
             [
              0.6666666666666666,
              "#ed7953"
             ],
             [
              0.7777777777777778,
              "#fb9f3a"
             ],
             [
              0.8888888888888888,
              "#fdca26"
             ],
             [
              1,
              "#f0f921"
             ]
            ],
            "type": "surface"
           }
          ],
          "table": [
           {
            "cells": {
             "fill": {
              "color": "#EBF0F8"
             },
             "line": {
              "color": "white"
             }
            },
            "header": {
             "fill": {
              "color": "#C8D4E3"
             },
             "line": {
              "color": "white"
             }
            },
            "type": "table"
           }
          ]
         },
         "layout": {
          "annotationdefaults": {
           "arrowcolor": "#2a3f5f",
           "arrowhead": 0,
           "arrowwidth": 1
          },
          "autotypenumbers": "strict",
          "coloraxis": {
           "colorbar": {
            "outlinewidth": 0,
            "ticks": ""
           }
          },
          "colorscale": {
           "diverging": [
            [
             0,
             "#8e0152"
            ],
            [
             0.1,
             "#c51b7d"
            ],
            [
             0.2,
             "#de77ae"
            ],
            [
             0.3,
             "#f1b6da"
            ],
            [
             0.4,
             "#fde0ef"
            ],
            [
             0.5,
             "#f7f7f7"
            ],
            [
             0.6,
             "#e6f5d0"
            ],
            [
             0.7,
             "#b8e186"
            ],
            [
             0.8,
             "#7fbc41"
            ],
            [
             0.9,
             "#4d9221"
            ],
            [
             1,
             "#276419"
            ]
           ],
           "sequential": [
            [
             0,
             "#0d0887"
            ],
            [
             0.1111111111111111,
             "#46039f"
            ],
            [
             0.2222222222222222,
             "#7201a8"
            ],
            [
             0.3333333333333333,
             "#9c179e"
            ],
            [
             0.4444444444444444,
             "#bd3786"
            ],
            [
             0.5555555555555556,
             "#d8576b"
            ],
            [
             0.6666666666666666,
             "#ed7953"
            ],
            [
             0.7777777777777778,
             "#fb9f3a"
            ],
            [
             0.8888888888888888,
             "#fdca26"
            ],
            [
             1,
             "#f0f921"
            ]
           ],
           "sequentialminus": [
            [
             0,
             "#0d0887"
            ],
            [
             0.1111111111111111,
             "#46039f"
            ],
            [
             0.2222222222222222,
             "#7201a8"
            ],
            [
             0.3333333333333333,
             "#9c179e"
            ],
            [
             0.4444444444444444,
             "#bd3786"
            ],
            [
             0.5555555555555556,
             "#d8576b"
            ],
            [
             0.6666666666666666,
             "#ed7953"
            ],
            [
             0.7777777777777778,
             "#fb9f3a"
            ],
            [
             0.8888888888888888,
             "#fdca26"
            ],
            [
             1,
             "#f0f921"
            ]
           ]
          },
          "colorway": [
           "#636efa",
           "#EF553B",
           "#00cc96",
           "#ab63fa",
           "#FFA15A",
           "#19d3f3",
           "#FF6692",
           "#B6E880",
           "#FF97FF",
           "#FECB52"
          ],
          "font": {
           "color": "#2a3f5f"
          },
          "geo": {
           "bgcolor": "white",
           "lakecolor": "white",
           "landcolor": "#E5ECF6",
           "showlakes": true,
           "showland": true,
           "subunitcolor": "white"
          },
          "hoverlabel": {
           "align": "left"
          },
          "hovermode": "closest",
          "mapbox": {
           "style": "light"
          },
          "paper_bgcolor": "white",
          "plot_bgcolor": "#E5ECF6",
          "polar": {
           "angularaxis": {
            "gridcolor": "white",
            "linecolor": "white",
            "ticks": ""
           },
           "bgcolor": "#E5ECF6",
           "radialaxis": {
            "gridcolor": "white",
            "linecolor": "white",
            "ticks": ""
           }
          },
          "scene": {
           "xaxis": {
            "backgroundcolor": "#E5ECF6",
            "gridcolor": "white",
            "gridwidth": 2,
            "linecolor": "white",
            "showbackground": true,
            "ticks": "",
            "zerolinecolor": "white"
           },
           "yaxis": {
            "backgroundcolor": "#E5ECF6",
            "gridcolor": "white",
            "gridwidth": 2,
            "linecolor": "white",
            "showbackground": true,
            "ticks": "",
            "zerolinecolor": "white"
           },
           "zaxis": {
            "backgroundcolor": "#E5ECF6",
            "gridcolor": "white",
            "gridwidth": 2,
            "linecolor": "white",
            "showbackground": true,
            "ticks": "",
            "zerolinecolor": "white"
           }
          },
          "shapedefaults": {
           "line": {
            "color": "#2a3f5f"
           }
          },
          "ternary": {
           "aaxis": {
            "gridcolor": "white",
            "linecolor": "white",
            "ticks": ""
           },
           "baxis": {
            "gridcolor": "white",
            "linecolor": "white",
            "ticks": ""
           },
           "bgcolor": "#E5ECF6",
           "caxis": {
            "gridcolor": "white",
            "linecolor": "white",
            "ticks": ""
           }
          },
          "title": {
           "x": 0.05
          },
          "xaxis": {
           "automargin": true,
           "gridcolor": "white",
           "linecolor": "white",
           "ticks": "",
           "title": {
            "standoff": 15
           },
           "zerolinecolor": "white",
           "zerolinewidth": 2
          },
          "yaxis": {
           "automargin": true,
           "gridcolor": "white",
           "linecolor": "white",
           "ticks": "",
           "title": {
            "standoff": 15
           },
           "zerolinecolor": "white",
           "zerolinewidth": 2
          }
         }
        },
        "title": {
         "text": "Comparing number of iterations MC"
        },
        "xaxis": {
         "title": {
          "text": "no. of experiments"
         }
        },
        "yaxis": {
         "title": {
          "text": "number of iterations MC"
         }
        }
       }
      }
     },
     "metadata": {},
     "output_type": "display_data"
    },
    {
     "name": "stdout",
     "output_type": "stream",
     "text": [
      "Mean number of iterations without pheremone:  10.06272\n",
      "Median number of iterations without pheremone:  7.32\n",
      "Mean number of iterations with pheremone:  10.06272\n",
      "Median number of iterations with pheremone:  7.32\n"
     ]
    }
   ],
   "source": [
    "fig = go.Figure()\n",
    "x_axis = list(range(num_points))\n",
    "\n",
    "fig.add_trace(go.Scatter(x=x_axis, y=iter_list_mc_random,\n",
    "                    mode='markers',\n",
    "                    name='no pheremone'))\n",
    "fig.add_trace(go.Scatter(x=x_axis, y=iter_list_mc_optimised,\n",
    "                    mode='markers',\n",
    "                    name='with pheremone'))\n",
    "fig.update_layout(title='Comparing number of iterations MC',\n",
    "                   xaxis_title='no. of experiments',\n",
    "                   yaxis_title='number of iterations MC')\n",
    "fig.show()\n",
    "print(\"Mean number of iterations without pheremone: \", np.nanmean(iter_list_mc_random))\n",
    "print(\"Median number of iterations without pheremone: \", np.nanmedian(iter_list_mc_optimised))\n",
    "print(\"Mean number of iterations with pheremone: \", np.nanmean(iter_list_mc_random))\n",
    "print(\"Median number of iterations with pheremone: \", np.nanmedian(iter_list_mc_optimised))"
   ]
  },
  {
   "cell_type": "code",
   "execution_count": null,
   "metadata": {},
   "outputs": [
    {
     "data": {
      "application/vnd.plotly.v1+json": {
       "config": {
        "plotlyServerURL": "https://plot.ly"
       },
       "data": [
        {
         "mode": "markers",
         "name": "no pheremone",
         "type": "scatter",
         "x": [
          0,
          1,
          2,
          3,
          4,
          5,
          6,
          7,
          8,
          9,
          10,
          11,
          12,
          13,
          14,
          15,
          16,
          17,
          18,
          19,
          20,
          21,
          22,
          23,
          24,
          25,
          26,
          27,
          28,
          29,
          30,
          31,
          32,
          33,
          34,
          35,
          36,
          37,
          38,
          39,
          40,
          41,
          42,
          43,
          44,
          45,
          46,
          47,
          48,
          49,
          50,
          51,
          52,
          53,
          54,
          55,
          56,
          57,
          58,
          59,
          60,
          61,
          62,
          63,
          64,
          65,
          66,
          67,
          68,
          69,
          70,
          71,
          72,
          73,
          74,
          75,
          76,
          77,
          78,
          79,
          80,
          81,
          82,
          83,
          84,
          85,
          86,
          87,
          88,
          89,
          90,
          91,
          92,
          93,
          94,
          95,
          96,
          97,
          98,
          99
         ],
         "y": [
          9.98,
          10.08,
          10.02,
          9.84,
          9.66,
          9.92,
          9.72,
          10,
          9.36,
          10.26,
          10.8,
          9.68,
          9.76,
          9.2,
          9.98,
          9.6,
          9.72,
          9.26,
          10.14,
          9.34,
          9.76,
          9.62,
          9.92,
          9.66,
          9.68,
          9.86,
          9.84,
          9.88,
          9.58,
          9.46,
          10.04,
          9.28,
          9.68,
          9.62,
          9.6,
          9.34,
          10.26,
          9.84,
          9.7,
          9.98,
          9.68,
          10.52,
          9.12,
          10.46,
          9.86,
          9.6,
          9.56,
          9.62,
          9.94,
          9.86,
          9.68,
          9.96,
          9.5,
          9.94,
          9.56,
          9.64,
          9.6,
          9.9,
          10.14,
          9.94,
          9.44,
          10,
          10.06,
          9.44,
          9.76,
          9.4,
          10.02,
          9.66,
          9.58,
          9.84,
          9.44,
          9.56,
          10.7,
          9.56,
          9.7,
          9.58,
          9.3,
          9.9,
          9.72,
          9.9,
          9.5,
          10.04,
          9.74,
          9.6,
          9.24,
          10.46,
          9.44,
          9.58,
          9.5,
          9.68,
          9.18,
          9.52,
          9.38,
          9.22,
          9.74,
          9.6,
          9.32,
          9.6,
          10.42,
          9.76,
          9.74,
          10.1,
          9.72,
          9.8,
          9.44,
          10.06,
          9.76,
          9.52,
          9.76,
          10.1,
          10.44,
          9.78,
          9.84,
          9.12,
          9.68,
          9.98,
          9.88,
          9.92,
          9.76,
          9.7,
          10,
          9.52,
          10.62,
          10.08,
          9.82,
          9.3,
          9.46,
          9.66,
          9.9,
          10.42,
          9.26,
          9.94,
          9.76,
          9.84,
          9.42,
          9.42,
          9.42,
          9.56,
          9.06,
          8.96,
          9.32,
          10.32,
          9.44,
          9.84,
          9.82,
          9.18,
          9.84,
          10.16,
          10.18,
          9.56,
          9.46,
          9.72,
          10.48,
          9.44,
          9.7,
          9.6,
          9.32,
          9.26,
          9.96,
          9.58,
          9.96,
          10,
          9.24,
          9.62,
          9.58,
          9.86,
          10.12,
          9.62,
          10.3,
          9.58,
          9.22,
          10.08,
          9.94,
          10.36,
          9.4,
          9.38,
          9.4,
          9.32,
          9.52,
          9.6,
          9.68,
          9.38,
          9.48,
          9.48,
          9.68,
          9.68,
          9.16,
          9.94,
          9.48,
          9.66,
          9.48,
          8.88,
          9.88,
          9.42,
          10.5,
          9.46,
          10,
          9.8,
          9.54,
          8.94,
          9.5,
          9.68,
          10.16,
          9.7,
          9.38,
          9.08,
          9.82,
          9.84,
          9.52,
          9.58,
          9.1,
          9.5,
          10.08,
          9.1,
          9.86,
          9.48,
          9.84,
          9.48,
          9.6,
          9.98,
          10.04,
          9.9,
          9.78,
          10.16,
          9.54,
          9.54,
          9.14,
          9.32,
          9.66,
          9.24,
          9.82,
          10.24,
          9.68,
          9.76,
          9.7,
          9.76,
          10.16,
          9.54,
          9.48,
          10.22,
          9.22,
          9.58,
          9.72,
          10.36,
          9.5,
          9.24,
          9.26,
          10.44,
          10.18,
          10.04,
          9.72,
          10.1,
          9.72,
          10.04,
          9.92,
          9.8,
          10.02,
          10.04,
          9.86,
          9.7,
          9.42,
          9.8,
          9.84,
          9.04,
          9.34,
          9.04,
          9.7,
          9.68,
          9.7,
          10.42,
          9.54,
          10.4,
          10.02,
          9.74,
          9.86,
          10.24,
          9.68,
          9.62,
          10.86,
          9.36,
          10.56,
          9.12,
          9.52,
          9.44,
          9.86,
          9.84,
          9.74,
          9.04,
          10.14,
          10.06,
          9.86,
          9.68,
          9.96,
          9.78,
          9.78,
          9.58,
          9.6,
          9.62,
          9.76,
          10.08,
          9.7,
          10.66,
          9.6,
          9.78,
          9.78,
          9.26,
          9.54,
          9.9,
          9.82,
          10.12,
          9.6,
          9.44,
          9.94,
          10.32,
          9.76,
          10.28,
          9.96,
          9.6,
          9.26,
          9.78,
          9.36,
          9.98,
          9.74,
          9.82,
          9.7,
          10.34,
          9.28,
          9.66,
          9.8,
          9.68,
          9.46,
          10.3,
          9.46,
          9.28,
          9.4,
          9.48,
          9.42,
          9.54,
          9.96,
          9.58,
          9.48,
          10.22,
          10.28,
          10.2,
          9.42,
          9.26,
          10.02,
          11.14,
          8.72,
          9.4,
          10.36,
          9.18,
          10.34,
          10.02,
          9.54,
          9.08,
          9.98,
          10.04,
          9.82,
          9.98,
          9.78,
          10.52,
          10.1,
          10.74,
          9.82,
          10.34,
          9.68,
          9.06,
          9.94,
          9.42,
          9.7,
          9.68,
          10.22,
          9.2,
          9.86,
          9.26,
          10.1,
          9.28,
          10.38,
          9.18,
          9.42,
          10.76,
          10.2,
          9.64,
          9.3,
          9.98,
          10.2,
          10.08,
          9.3,
          10.16,
          9.4,
          9.44,
          9.9,
          9.52,
          10.14,
          9.58,
          10.18,
          9.92,
          9.32,
          10.26,
          9.86,
          9.38,
          9.8,
          9.68,
          9.76,
          9.8,
          10.02,
          9.78,
          9,
          9.84,
          9.46,
          9.54,
          9.62,
          9.8,
          9.18,
          9.98,
          10,
          9.7,
          9.6,
          9.34,
          9.74,
          9.3,
          9.1,
          9.74,
          9.24,
          9.78,
          9.2,
          9.78,
          9.68,
          10.04,
          9.68,
          9.52,
          9.96,
          9.72,
          10.2,
          9.66,
          10.14,
          9.78,
          9.74,
          9.5,
          9.86,
          9.64,
          9.82,
          10.74,
          9.94,
          9.3,
          8.8,
          10.72,
          9.74,
          9.6,
          10.08,
          9.28,
          10.16,
          9.52,
          9.36,
          10.12,
          10.44,
          10.18,
          9.3,
          9.92,
          9.76,
          9.34,
          9.94,
          9.2,
          9.16,
          9.82,
          10.42,
          10.8,
          9.46,
          9.24,
          9.64,
          10.18,
          9.48,
          9.52,
          10,
          10.04,
          9.94,
          9.48,
          9.34,
          9.82,
          9.34,
          9.68,
          9.4,
          9.82,
          9.8,
          9.68,
          9.78,
          10.26,
          9.6,
          9.4,
          9.6,
          10.08,
          9.94,
          9.22,
          10.04,
          10.2,
          9.42,
          9.66,
          9.74,
          9.9,
          9.04,
          9.66,
          9.78,
          10.12,
          9.86,
          9.86,
          9.46,
          10.46,
          9.74,
          9.28,
          10.54,
          10.3,
          10.16,
          9.52,
          9.68,
          9.88,
          10.34,
          9.12,
          9.48,
          9.44,
          9.52,
          9.9,
          9.48,
          10.62,
          9.7,
          10.02,
          9.8,
          9.82,
          9.32,
          10.08,
          9.46,
          10.12,
          9.86,
          9.88,
          9.4,
          9.78,
          10.68,
          9.82,
          10.06,
          9.9,
          10.76,
          9.82,
          9.28,
          9.96,
          9.54,
          9.98,
          9.48,
          9.62,
          10.7,
          9.4,
          9.38,
          9.52,
          9.84,
          9.34,
          9.28,
          9.48,
          9.78,
          9.82,
          10,
          9.6,
          9.1,
          10.34,
          9.82,
          9.54,
          9.5,
          10.04,
          9.7,
          10.28,
          9.4,
          9.52,
          10.06,
          9.28,
          9.02,
          9.88,
          9.94,
          10.3,
          9.34,
          9.42,
          9.54,
          9.5,
          9.92,
          9.72,
          10.7,
          10.02,
          9.62,
          10.06,
          9.46,
          9.48,
          9.54,
          9.54,
          10.06,
          9.72,
          9.78,
          9.42,
          9.5,
          9.62,
          9.56,
          9.62,
          9.72,
          10.42,
          9.36,
          10.1,
          9.44,
          9.06,
          9.38,
          10.1,
          9.64,
          9.92,
          9.28,
          9.66,
          9.6,
          8.72,
          9.84,
          9.6,
          9.9,
          10.26,
          9.98,
          9.58,
          10,
          10.1,
          9.56,
          9.06,
          10.38,
          9.18,
          9.74,
          9.26,
          9.56,
          9.46,
          9.56,
          10.2,
          10.18,
          9.88,
          9.92,
          9.08,
          9.8,
          9.1,
          9.54,
          9.78,
          9.44,
          9.54,
          9.96,
          8.8,
          9.78,
          9.8,
          9.64,
          9.12,
          10.5,
          9.32,
          9.72,
          10.08,
          10.08,
          9.26,
          9.94,
          10.28,
          9.44,
          9.62,
          9.84,
          10.58,
          9.88,
          10,
          9.9,
          10.02,
          10.68,
          9.02,
          9.62,
          9.58,
          9.88,
          10.28,
          9.72,
          10.04,
          9.62,
          9.9,
          10.08,
          9.96,
          9.38,
          9.5,
          9.34,
          9.5,
          10.24,
          10.06,
          9.88,
          9.74,
          9.68,
          10.02,
          9.52,
          10.56,
          9.74,
          9.6,
          9.56,
          9.64,
          9.74,
          9.2,
          9.24,
          9.96,
          9.22,
          10.68,
          9.52,
          9.18,
          9.8,
          9.82,
          9.9,
          9.12,
          10.26,
          9.3,
          9.52,
          9.98,
          10,
          8.86,
          9.88,
          10.36,
          9.4,
          9.78,
          9.08,
          9.56,
          9.54,
          9.58,
          9.5,
          9.5,
          9.84,
          9.4,
          9.94,
          9.38,
          10.36,
          9.84,
          10.32,
          9.52,
          10.24,
          9.52,
          10.34,
          9.12,
          9.66,
          9.3,
          9.78,
          9.86,
          9.34,
          10.04,
          9.74,
          9.72,
          9.88,
          8.76,
          10,
          9.92,
          9.8,
          9.52,
          9.72,
          9.52,
          9.8,
          9.3,
          9.94,
          9.08,
          9.72,
          9.14,
          9.34,
          10.26,
          9.4,
          9.8,
          9.54,
          9.88,
          9.64,
          9.72,
          9.36,
          9.8,
          9.12,
          10.14,
          10.34,
          9.84,
          10.34,
          9.6,
          9.9,
          9.66,
          9.72,
          9.98,
          9.6,
          8.92,
          10.12,
          10.06,
          9.26,
          9.5,
          10.56,
          9.08,
          9.4,
          9.84,
          9.76,
          9.86,
          9.72,
          9.2,
          9.56,
          10.52,
          9.22,
          9.62,
          9.46,
          9.8,
          9.32,
          9.86,
          9.8,
          9.98,
          10.1,
          10.14,
          9.42,
          9.92,
          9.7,
          9.48,
          10.18,
          10.06,
          9.28,
          9.6,
          9.94,
          9.56,
          9.26,
          9.92,
          10.14,
          9.92,
          9.9,
          9.96,
          10.26,
          9.22,
          9.58,
          9.98,
          10.08,
          9.82,
          9.82,
          9.58,
          9.56,
          10.12,
          9.5,
          9.7,
          10.3,
          9.44,
          9.28,
          9.94,
          9.4,
          9.76,
          9.64,
          9.78,
          9.94,
          10.2,
          9.48,
          9.88,
          10.08,
          10.38,
          9.66,
          9.6,
          9.78,
          10.28,
          10.08,
          9.74,
          9.88,
          9.54,
          9.3,
          9.6,
          9.7,
          9.72,
          9.86,
          9.98,
          9.5,
          9.62,
          10.42,
          9.58,
          9.56,
          9.16,
          10.12,
          9.18,
          9.92,
          9.74,
          9.34,
          9.68,
          10.08,
          9.42,
          8.94,
          9.44,
          9.66,
          10.28,
          9.26,
          10.22,
          10.58,
          10,
          9.22,
          9.54,
          9.46,
          9.28,
          9.18,
          9.5,
          9.06,
          9.82,
          9.52,
          9.3,
          9.52,
          10.08,
          9.9,
          9.9,
          9.44,
          9.8,
          9.92,
          10.06,
          9.9,
          10.04,
          10.18,
          9.12,
          10.02,
          9.64,
          9.4,
          9.22,
          9.42,
          9.9,
          9.48,
          9.98,
          9.2,
          9.46,
          9.46,
          9.44,
          9.8,
          10.44,
          10.26,
          10.06,
          9.44,
          9.48,
          9.78,
          9.48,
          10.26,
          9.66,
          9.06,
          9.64,
          9.88,
          9.88,
          9.42,
          9.66,
          9.5,
          9.86,
          9.9,
          10.1,
          9.32,
          9.64,
          9.88,
          9.64,
          10.06,
          9.44,
          9.92,
          9.92,
          9.82,
          9.38,
          9.98,
          9.34,
          9.9,
          9.68,
          9.22,
          9.04,
          9.98,
          9.72,
          9.68,
          9.88,
          9.3,
          9.78,
          9.2,
          9.64,
          9.16,
          10.12,
          9.9,
          9.84,
          10.5,
          9.16,
          9.88,
          10.12,
          9.4,
          10.52,
          10.22,
          9.98,
          9.16,
          10.3,
          9.64,
          9.12,
          9.64,
          9.62,
          9.72,
          9.86,
          9.58,
          9.68,
          10.16,
          9.98,
          10.02,
          9.92,
          9.84,
          9.66,
          9.3,
          9.96,
          9.76,
          9.32,
          9.72,
          9.86,
          9.48,
          9.96,
          10.26,
          9.7,
          9.16,
          9.86,
          10.38,
          9.94,
          9.7,
          10.1,
          9.66,
          9.84
         ]
        },
        {
         "mode": "markers",
         "name": "with pheremone",
         "type": "scatter",
         "x": [
          0,
          1,
          2,
          3,
          4,
          5,
          6,
          7,
          8,
          9,
          10,
          11,
          12,
          13,
          14,
          15,
          16,
          17,
          18,
          19,
          20,
          21,
          22,
          23,
          24,
          25,
          26,
          27,
          28,
          29,
          30,
          31,
          32,
          33,
          34,
          35,
          36,
          37,
          38,
          39,
          40,
          41,
          42,
          43,
          44,
          45,
          46,
          47,
          48,
          49,
          50,
          51,
          52,
          53,
          54,
          55,
          56,
          57,
          58,
          59,
          60,
          61,
          62,
          63,
          64,
          65,
          66,
          67,
          68,
          69,
          70,
          71,
          72,
          73,
          74,
          75,
          76,
          77,
          78,
          79,
          80,
          81,
          82,
          83,
          84,
          85,
          86,
          87,
          88,
          89,
          90,
          91,
          92,
          93,
          94,
          95,
          96,
          97,
          98,
          99
         ],
         "y": [
          7.42,
          7.44,
          7.48,
          7.24,
          7.44,
          7.22,
          7.36,
          7.16,
          7.3,
          7.22,
          7.34,
          7.44,
          7.26,
          7.42,
          7.26,
          7.48,
          7.44,
          7.32,
          7.32,
          7.32,
          7.24,
          7.28,
          7.28,
          7.4,
          7.32,
          7.34,
          7.24,
          7.18,
          7.52,
          7.32,
          7.3,
          7.46,
          7.3,
          7.18,
          7.28,
          7.3,
          7.4,
          7.5,
          7.18,
          7.16,
          7.26,
          7.16,
          7.28,
          7.3,
          7.26,
          7.28,
          7.42,
          7.42,
          7.14,
          7.38,
          7.48,
          7.44,
          7.18,
          7.18,
          7.3,
          7.36,
          7.42,
          7.44,
          7.3,
          7.38,
          7.3,
          7.34,
          7.38,
          7.46,
          7.4,
          7.28,
          7.24,
          7.28,
          7.4,
          7.18,
          7.32,
          7.32,
          7.32,
          7.26,
          7.34,
          7.3,
          7.22,
          7.38,
          7.36,
          7.16,
          7.38,
          7.32,
          7.38,
          7.28,
          7.34,
          7.32,
          7.38,
          7.28,
          7.54,
          7.26,
          7.28,
          7.26,
          7.4,
          7.56,
          7.18,
          7.3,
          7.44,
          7.24,
          7.28,
          7.22,
          7.32,
          7.34,
          7.36,
          7.3,
          7.3,
          7.38,
          7.38,
          7.16,
          7.42,
          7.3,
          7.26,
          7.24,
          7.26,
          7.28,
          7.22,
          7.4,
          7.36,
          7.44,
          7.32,
          7.26,
          7.16,
          7.28,
          7.3,
          7.28,
          7.26,
          7.44,
          7.36,
          7.26,
          7.26,
          7.34,
          7.24,
          7.18,
          7.4,
          7.34,
          7.5,
          7.34,
          7.22,
          7.36,
          7.24,
          7.38,
          7.3,
          7.26,
          7.26,
          7.32,
          7.42,
          7.22,
          7.4,
          7.52,
          7.42,
          7.26,
          7.32,
          7.16,
          7.28,
          7.4,
          7.34,
          7.42,
          7.24,
          7.24,
          7.26,
          7.1,
          7.28,
          7.38,
          7.32,
          7.42,
          7.28,
          7.4,
          7.36,
          7.4,
          7.2,
          7.32,
          7.16,
          7.44,
          7.38,
          7.5,
          7.22,
          7.28,
          7.34,
          7.26,
          7.28,
          7.4,
          7.26,
          7.32,
          7.28,
          7.2,
          7.18,
          7.32,
          7.42,
          7.36,
          7.26,
          7.36,
          7.38,
          7.18,
          7.16,
          7.28,
          7.28,
          7.34,
          7.32,
          7.4,
          7.44,
          7.28,
          7.22,
          7.38,
          7.3,
          7.22,
          7.22,
          7.3,
          7.16,
          7.26,
          7.24,
          7.48,
          7.28,
          7.32,
          7.32,
          7.28,
          7.46,
          7.36,
          7.16,
          7.2,
          7.32,
          7.46,
          7.46,
          7.26,
          7.24,
          7.34,
          7.3,
          7.46,
          7.3,
          7.3,
          7.32,
          7.28,
          7.32,
          7.22,
          7.28,
          7.38,
          7.26,
          7.2,
          7.38,
          7.36,
          7.2,
          7.3,
          7.34,
          7.26,
          7.32,
          7.16,
          7.4,
          7.36,
          7.24,
          7.42,
          7.34,
          7.3,
          7.28,
          7.36,
          7.54,
          7.28,
          7.24,
          7.3,
          7.48,
          7.22,
          7.26,
          7.34,
          7.4,
          7.4,
          7.24,
          7.24,
          7.32,
          7.48,
          7.16,
          7.2,
          7.32,
          7.28,
          7.48,
          7.4,
          7.26,
          7.3,
          7.22,
          7.42,
          7.42,
          7.5,
          7.36,
          7.22,
          7.18,
          7.44,
          7.22,
          7.22,
          7.38,
          7.48,
          7.28,
          7.28,
          7.48,
          7.28,
          7.22,
          7.44,
          7.28,
          7.34,
          7.36,
          7.4,
          7.34,
          7.44,
          7.44,
          7.34,
          7.32,
          7.26,
          7.32,
          7.26,
          7.4,
          7.3,
          7.2,
          7.38,
          7.28,
          7.42,
          7.32,
          7.34,
          7.28,
          7.22,
          7.32,
          7.26,
          7.28,
          7.22,
          7.5,
          7.18,
          7.26,
          7.3,
          7.38,
          7.42,
          7.32,
          7.3,
          7.38,
          7.2,
          7.48,
          7.22,
          7.3,
          7.34,
          7.4,
          7.64,
          7.22,
          7.16,
          7.36,
          7.36,
          7.36,
          7.38,
          7.28,
          7.24,
          7.28,
          7.18,
          7.3,
          7.4,
          7.18,
          7.3,
          7.18,
          7.38,
          7.32,
          7.28,
          7.38,
          7.28,
          7.38,
          7.4,
          7.3,
          7.26,
          7.26,
          7.2,
          7.3,
          7.3,
          7.34,
          7.2,
          7.26,
          7.26,
          7.14,
          7.2,
          7.36,
          7.22,
          7.46,
          7.28,
          7.2,
          7.24,
          7.38,
          7.36,
          7.2,
          7.24,
          7.3,
          7.4,
          7.16,
          7.24,
          7.24,
          7.2,
          7.3,
          7.34,
          7.36,
          7.26,
          7.32,
          7.4,
          7.38,
          7.38,
          7.16,
          7.44,
          7.2,
          7.2,
          7.36,
          7.26,
          7.2,
          7.64,
          7.32,
          7.28,
          7.36,
          7.3,
          7.18,
          7.24,
          7.36,
          7.08,
          7.24,
          7.2,
          7.26,
          7.34,
          7.28,
          7.26,
          7.32,
          7.3,
          7.24,
          7.32,
          7.34,
          7.38,
          7.36,
          7.3,
          7.32,
          7.4,
          7.28,
          7.24,
          7.24,
          7.22,
          7.38,
          7.28,
          7.36,
          7.3,
          7.28,
          7.28,
          7.34,
          7.48,
          7.3,
          7.36,
          7.26,
          7.3,
          7.44,
          7.2,
          7.28,
          7.24,
          7.24,
          7.22,
          7.24,
          7.26,
          7.12,
          7.4,
          7.32,
          7.3,
          7.32,
          7.32,
          7.22,
          7.22,
          7.42,
          7.4,
          7.28,
          7.18,
          7.26,
          7.22,
          7.48,
          7.24,
          7.32,
          7.24,
          7.38,
          7.24,
          7.3,
          7.46,
          7.2,
          7.32,
          7.42,
          7.16,
          7.36,
          7.18,
          7.3,
          7.22,
          7.34,
          7.42,
          7.44,
          7.38,
          7.18,
          7.44,
          7.26,
          7.26,
          7.24,
          7.32,
          7.34,
          7.34,
          7.24,
          7.32,
          7.24,
          7.24,
          7.34,
          7.16,
          7.3,
          7.38,
          7.22,
          7.34,
          7.18,
          7.44,
          7.2,
          7.22,
          7.28,
          7.4,
          7.4,
          7.4,
          7.18,
          7.4,
          7.3,
          7.46,
          7.32,
          7.44,
          7.26,
          7.48,
          7.28,
          7.28,
          7.34,
          7.32,
          7.24,
          7.28,
          7.28,
          7.38,
          7.22,
          7.18,
          7.2,
          7.5,
          7.22,
          7.26,
          7.4,
          7.46,
          7.3,
          7.32,
          7.44,
          7.18,
          7.28,
          7.44,
          7.36,
          7.28,
          7.3,
          7.32,
          7.38,
          7.48,
          7.46,
          7.48,
          7.24,
          7.46,
          7.22,
          7.4,
          7.24,
          7.44,
          7.22,
          7.32,
          7.4,
          7.42,
          7.36,
          7.24,
          7.26,
          7.18,
          7.22,
          7.32,
          7.5,
          7.22,
          7.38,
          7.2,
          7.48,
          7.42,
          7.3,
          7.38,
          7.3,
          7.34,
          7.36,
          7.34,
          7.2,
          7.24,
          7.32,
          7.24,
          7.32,
          7.26,
          7.32,
          7.48,
          7.34,
          7.26,
          7.32,
          7.34,
          7.26,
          7.3,
          7.42,
          7.24,
          7.44,
          7.44,
          7.42,
          7.22,
          7.38,
          7.32,
          7.42,
          7.26,
          7.46,
          7.44,
          7.3,
          7.38,
          7.3,
          7.3,
          7.32,
          7.42,
          7.26,
          7.16,
          7.24,
          7.16,
          7.22,
          7.22,
          7.26,
          7.34,
          7.18,
          7.34,
          7.32,
          7.32,
          7.26,
          7.38,
          7.38,
          7.32,
          7.26,
          7.24,
          7.34,
          7.3,
          7.46,
          7.2,
          7.22,
          7.32,
          7.38,
          7.18,
          7.22,
          7.52,
          7.34,
          7.28,
          7.28,
          7.36,
          7.34,
          7.3,
          7.28,
          7.22,
          7.2,
          7.16,
          7.22,
          7.2,
          7.24,
          7.42,
          7.22,
          7.54,
          7.38,
          7.32,
          7.42,
          7.36,
          7.26,
          7.36,
          7.08,
          7.4,
          7.22,
          7.22,
          7.44,
          7.26,
          7.24,
          7.5,
          7.42,
          7.36,
          7.3,
          7.36,
          7.34,
          7.4,
          7.16,
          7.16,
          7.22,
          7.58,
          7.36,
          7.26,
          7.14,
          7.22,
          7.4,
          7.52,
          7.16,
          7.26,
          7.32,
          7.28,
          7.3,
          7.28,
          7.32,
          7.26,
          7.22,
          7.48,
          7.44,
          7.34,
          7.36,
          7.24,
          7.26,
          7.2,
          7.38,
          7.28,
          7.38,
          7.22,
          7.36,
          7.58,
          7.42,
          7.3,
          7.2,
          7.3,
          7.26,
          7.2,
          7.32,
          7.28,
          7.32,
          7.3,
          7.26,
          7.4,
          7.3,
          7.22,
          7.28,
          7.38,
          7.32,
          7.28,
          7.46,
          7.38,
          7.44,
          7.26,
          7.4,
          7.3,
          7.36,
          7.4,
          7.12,
          7.34,
          7.26,
          7.46,
          7.24,
          7.26,
          7.5,
          7.26,
          7.26,
          7.2,
          7.3,
          7.48,
          7.26,
          7.2,
          7.2,
          7.38,
          7.18,
          7.2,
          7.4,
          7.4,
          7.26,
          7.3,
          7.32,
          7.22,
          7.38,
          7.34,
          7.38,
          7.44,
          7.32,
          7.3,
          7.3,
          7.3,
          7.28,
          7.28,
          7.5,
          7.24,
          7.3,
          7.28,
          7.52,
          7.52,
          7.26,
          7.32,
          7.44,
          7.38,
          7.24,
          7.28,
          7.3,
          7.42,
          7.34,
          7.44,
          7.28,
          7.2,
          7.28,
          7.26,
          7.3,
          7.24,
          7.5,
          7.28,
          7.38,
          7.22,
          7.26,
          7.26,
          7.4,
          7.26,
          7.38,
          7.3,
          7.44,
          7.12,
          7.34,
          7.28,
          7.42,
          7.32,
          7.2,
          7.34,
          7.34,
          7.14,
          7.22,
          7.28,
          7.24,
          7.34,
          7.34,
          7.36,
          7.46,
          7.3,
          7.28,
          7.24,
          7.22,
          7.28,
          7.24,
          7.3,
          7.3,
          7.42,
          7.38,
          7.26,
          7.42,
          7.42,
          7.3,
          7.24,
          7.28,
          7.3,
          7.42,
          7.38,
          7.22,
          7.3,
          7.32,
          7.22,
          7.24,
          7.24,
          7.3,
          7.18,
          7.26,
          7.2,
          7.36,
          7.3,
          7.38,
          7.3,
          7.52,
          7.3,
          7.24,
          7.22,
          7.36,
          7.28,
          7.22,
          7.28,
          7.34,
          7.36,
          7.18,
          7.22,
          7.4,
          7.34,
          7.36,
          7.22,
          7.28,
          7.48,
          7.2,
          7.52,
          7.36,
          7.3,
          7.24,
          7.28,
          7.46,
          7.26,
          7.28,
          7.22,
          7.36,
          7.18,
          7.32,
          7.34,
          7.46,
          7.38,
          7.34,
          7.2,
          7.52,
          7.38,
          7.26,
          7.36,
          7.3,
          7.32,
          7.52,
          7.26,
          7.28,
          7.28,
          7.4,
          7.4,
          7.3,
          7.38,
          7.26,
          7.46,
          7.26,
          7.34,
          7.26,
          7.18,
          7.36,
          7.34,
          7.46,
          7.38,
          7.16,
          7.32,
          7.26,
          7.42,
          7.28,
          7.28,
          7.42,
          7.44,
          7.3,
          7.2,
          7.38,
          7.38,
          7.28,
          7.34,
          7.3,
          7.52,
          7.44,
          7.34,
          7.2,
          7.26,
          7.36,
          7.3,
          7.3,
          7.26,
          7.3,
          7.32,
          7.4,
          7.26,
          7.26,
          7.42,
          7.34,
          7.34,
          7.26,
          7.26,
          7.24,
          7.32,
          7.34,
          7.34,
          7.34,
          7.48,
          7.32,
          7.24,
          7.28,
          7.36,
          7.28,
          7.48,
          7.3,
          7.3,
          7.24,
          7.28,
          7.42,
          7.34,
          7.12,
          7.5,
          7.24,
          7.42,
          7.38,
          7.24,
          7.34,
          7.5,
          7.2,
          7.28,
          7.3,
          7.28,
          7.22,
          7.26,
          7.24,
          7.18,
          7.54,
          7.36,
          7.4,
          7.36,
          7.16,
          7.32,
          7.16,
          7.3,
          7.36,
          7.3,
          7.24,
          7.46,
          7.3,
          7.16,
          7.26,
          7.3,
          7.38,
          7.3,
          7.3,
          7.48,
          7.3,
          7.36,
          7.28,
          7.32,
          7.42,
          7.42,
          7.32,
          7.26
         ]
        }
       ],
       "layout": {
        "template": {
         "data": {
          "bar": [
           {
            "error_x": {
             "color": "#2a3f5f"
            },
            "error_y": {
             "color": "#2a3f5f"
            },
            "marker": {
             "line": {
              "color": "#E5ECF6",
              "width": 0.5
             },
             "pattern": {
              "fillmode": "overlay",
              "size": 10,
              "solidity": 0.2
             }
            },
            "type": "bar"
           }
          ],
          "barpolar": [
           {
            "marker": {
             "line": {
              "color": "#E5ECF6",
              "width": 0.5
             },
             "pattern": {
              "fillmode": "overlay",
              "size": 10,
              "solidity": 0.2
             }
            },
            "type": "barpolar"
           }
          ],
          "carpet": [
           {
            "aaxis": {
             "endlinecolor": "#2a3f5f",
             "gridcolor": "white",
             "linecolor": "white",
             "minorgridcolor": "white",
             "startlinecolor": "#2a3f5f"
            },
            "baxis": {
             "endlinecolor": "#2a3f5f",
             "gridcolor": "white",
             "linecolor": "white",
             "minorgridcolor": "white",
             "startlinecolor": "#2a3f5f"
            },
            "type": "carpet"
           }
          ],
          "choropleth": [
           {
            "colorbar": {
             "outlinewidth": 0,
             "ticks": ""
            },
            "type": "choropleth"
           }
          ],
          "contour": [
           {
            "colorbar": {
             "outlinewidth": 0,
             "ticks": ""
            },
            "colorscale": [
             [
              0,
              "#0d0887"
             ],
             [
              0.1111111111111111,
              "#46039f"
             ],
             [
              0.2222222222222222,
              "#7201a8"
             ],
             [
              0.3333333333333333,
              "#9c179e"
             ],
             [
              0.4444444444444444,
              "#bd3786"
             ],
             [
              0.5555555555555556,
              "#d8576b"
             ],
             [
              0.6666666666666666,
              "#ed7953"
             ],
             [
              0.7777777777777778,
              "#fb9f3a"
             ],
             [
              0.8888888888888888,
              "#fdca26"
             ],
             [
              1,
              "#f0f921"
             ]
            ],
            "type": "contour"
           }
          ],
          "contourcarpet": [
           {
            "colorbar": {
             "outlinewidth": 0,
             "ticks": ""
            },
            "type": "contourcarpet"
           }
          ],
          "heatmap": [
           {
            "colorbar": {
             "outlinewidth": 0,
             "ticks": ""
            },
            "colorscale": [
             [
              0,
              "#0d0887"
             ],
             [
              0.1111111111111111,
              "#46039f"
             ],
             [
              0.2222222222222222,
              "#7201a8"
             ],
             [
              0.3333333333333333,
              "#9c179e"
             ],
             [
              0.4444444444444444,
              "#bd3786"
             ],
             [
              0.5555555555555556,
              "#d8576b"
             ],
             [
              0.6666666666666666,
              "#ed7953"
             ],
             [
              0.7777777777777778,
              "#fb9f3a"
             ],
             [
              0.8888888888888888,
              "#fdca26"
             ],
             [
              1,
              "#f0f921"
             ]
            ],
            "type": "heatmap"
           }
          ],
          "heatmapgl": [
           {
            "colorbar": {
             "outlinewidth": 0,
             "ticks": ""
            },
            "colorscale": [
             [
              0,
              "#0d0887"
             ],
             [
              0.1111111111111111,
              "#46039f"
             ],
             [
              0.2222222222222222,
              "#7201a8"
             ],
             [
              0.3333333333333333,
              "#9c179e"
             ],
             [
              0.4444444444444444,
              "#bd3786"
             ],
             [
              0.5555555555555556,
              "#d8576b"
             ],
             [
              0.6666666666666666,
              "#ed7953"
             ],
             [
              0.7777777777777778,
              "#fb9f3a"
             ],
             [
              0.8888888888888888,
              "#fdca26"
             ],
             [
              1,
              "#f0f921"
             ]
            ],
            "type": "heatmapgl"
           }
          ],
          "histogram": [
           {
            "marker": {
             "pattern": {
              "fillmode": "overlay",
              "size": 10,
              "solidity": 0.2
             }
            },
            "type": "histogram"
           }
          ],
          "histogram2d": [
           {
            "colorbar": {
             "outlinewidth": 0,
             "ticks": ""
            },
            "colorscale": [
             [
              0,
              "#0d0887"
             ],
             [
              0.1111111111111111,
              "#46039f"
             ],
             [
              0.2222222222222222,
              "#7201a8"
             ],
             [
              0.3333333333333333,
              "#9c179e"
             ],
             [
              0.4444444444444444,
              "#bd3786"
             ],
             [
              0.5555555555555556,
              "#d8576b"
             ],
             [
              0.6666666666666666,
              "#ed7953"
             ],
             [
              0.7777777777777778,
              "#fb9f3a"
             ],
             [
              0.8888888888888888,
              "#fdca26"
             ],
             [
              1,
              "#f0f921"
             ]
            ],
            "type": "histogram2d"
           }
          ],
          "histogram2dcontour": [
           {
            "colorbar": {
             "outlinewidth": 0,
             "ticks": ""
            },
            "colorscale": [
             [
              0,
              "#0d0887"
             ],
             [
              0.1111111111111111,
              "#46039f"
             ],
             [
              0.2222222222222222,
              "#7201a8"
             ],
             [
              0.3333333333333333,
              "#9c179e"
             ],
             [
              0.4444444444444444,
              "#bd3786"
             ],
             [
              0.5555555555555556,
              "#d8576b"
             ],
             [
              0.6666666666666666,
              "#ed7953"
             ],
             [
              0.7777777777777778,
              "#fb9f3a"
             ],
             [
              0.8888888888888888,
              "#fdca26"
             ],
             [
              1,
              "#f0f921"
             ]
            ],
            "type": "histogram2dcontour"
           }
          ],
          "mesh3d": [
           {
            "colorbar": {
             "outlinewidth": 0,
             "ticks": ""
            },
            "type": "mesh3d"
           }
          ],
          "parcoords": [
           {
            "line": {
             "colorbar": {
              "outlinewidth": 0,
              "ticks": ""
             }
            },
            "type": "parcoords"
           }
          ],
          "pie": [
           {
            "automargin": true,
            "type": "pie"
           }
          ],
          "scatter": [
           {
            "marker": {
             "colorbar": {
              "outlinewidth": 0,
              "ticks": ""
             }
            },
            "type": "scatter"
           }
          ],
          "scatter3d": [
           {
            "line": {
             "colorbar": {
              "outlinewidth": 0,
              "ticks": ""
             }
            },
            "marker": {
             "colorbar": {
              "outlinewidth": 0,
              "ticks": ""
             }
            },
            "type": "scatter3d"
           }
          ],
          "scattercarpet": [
           {
            "marker": {
             "colorbar": {
              "outlinewidth": 0,
              "ticks": ""
             }
            },
            "type": "scattercarpet"
           }
          ],
          "scattergeo": [
           {
            "marker": {
             "colorbar": {
              "outlinewidth": 0,
              "ticks": ""
             }
            },
            "type": "scattergeo"
           }
          ],
          "scattergl": [
           {
            "marker": {
             "colorbar": {
              "outlinewidth": 0,
              "ticks": ""
             }
            },
            "type": "scattergl"
           }
          ],
          "scattermapbox": [
           {
            "marker": {
             "colorbar": {
              "outlinewidth": 0,
              "ticks": ""
             }
            },
            "type": "scattermapbox"
           }
          ],
          "scatterpolar": [
           {
            "marker": {
             "colorbar": {
              "outlinewidth": 0,
              "ticks": ""
             }
            },
            "type": "scatterpolar"
           }
          ],
          "scatterpolargl": [
           {
            "marker": {
             "colorbar": {
              "outlinewidth": 0,
              "ticks": ""
             }
            },
            "type": "scatterpolargl"
           }
          ],
          "scatterternary": [
           {
            "marker": {
             "colorbar": {
              "outlinewidth": 0,
              "ticks": ""
             }
            },
            "type": "scatterternary"
           }
          ],
          "surface": [
           {
            "colorbar": {
             "outlinewidth": 0,
             "ticks": ""
            },
            "colorscale": [
             [
              0,
              "#0d0887"
             ],
             [
              0.1111111111111111,
              "#46039f"
             ],
             [
              0.2222222222222222,
              "#7201a8"
             ],
             [
              0.3333333333333333,
              "#9c179e"
             ],
             [
              0.4444444444444444,
              "#bd3786"
             ],
             [
              0.5555555555555556,
              "#d8576b"
             ],
             [
              0.6666666666666666,
              "#ed7953"
             ],
             [
              0.7777777777777778,
              "#fb9f3a"
             ],
             [
              0.8888888888888888,
              "#fdca26"
             ],
             [
              1,
              "#f0f921"
             ]
            ],
            "type": "surface"
           }
          ],
          "table": [
           {
            "cells": {
             "fill": {
              "color": "#EBF0F8"
             },
             "line": {
              "color": "white"
             }
            },
            "header": {
             "fill": {
              "color": "#C8D4E3"
             },
             "line": {
              "color": "white"
             }
            },
            "type": "table"
           }
          ]
         },
         "layout": {
          "annotationdefaults": {
           "arrowcolor": "#2a3f5f",
           "arrowhead": 0,
           "arrowwidth": 1
          },
          "autotypenumbers": "strict",
          "coloraxis": {
           "colorbar": {
            "outlinewidth": 0,
            "ticks": ""
           }
          },
          "colorscale": {
           "diverging": [
            [
             0,
             "#8e0152"
            ],
            [
             0.1,
             "#c51b7d"
            ],
            [
             0.2,
             "#de77ae"
            ],
            [
             0.3,
             "#f1b6da"
            ],
            [
             0.4,
             "#fde0ef"
            ],
            [
             0.5,
             "#f7f7f7"
            ],
            [
             0.6,
             "#e6f5d0"
            ],
            [
             0.7,
             "#b8e186"
            ],
            [
             0.8,
             "#7fbc41"
            ],
            [
             0.9,
             "#4d9221"
            ],
            [
             1,
             "#276419"
            ]
           ],
           "sequential": [
            [
             0,
             "#0d0887"
            ],
            [
             0.1111111111111111,
             "#46039f"
            ],
            [
             0.2222222222222222,
             "#7201a8"
            ],
            [
             0.3333333333333333,
             "#9c179e"
            ],
            [
             0.4444444444444444,
             "#bd3786"
            ],
            [
             0.5555555555555556,
             "#d8576b"
            ],
            [
             0.6666666666666666,
             "#ed7953"
            ],
            [
             0.7777777777777778,
             "#fb9f3a"
            ],
            [
             0.8888888888888888,
             "#fdca26"
            ],
            [
             1,
             "#f0f921"
            ]
           ],
           "sequentialminus": [
            [
             0,
             "#0d0887"
            ],
            [
             0.1111111111111111,
             "#46039f"
            ],
            [
             0.2222222222222222,
             "#7201a8"
            ],
            [
             0.3333333333333333,
             "#9c179e"
            ],
            [
             0.4444444444444444,
             "#bd3786"
            ],
            [
             0.5555555555555556,
             "#d8576b"
            ],
            [
             0.6666666666666666,
             "#ed7953"
            ],
            [
             0.7777777777777778,
             "#fb9f3a"
            ],
            [
             0.8888888888888888,
             "#fdca26"
            ],
            [
             1,
             "#f0f921"
            ]
           ]
          },
          "colorway": [
           "#636efa",
           "#EF553B",
           "#00cc96",
           "#ab63fa",
           "#FFA15A",
           "#19d3f3",
           "#FF6692",
           "#B6E880",
           "#FF97FF",
           "#FECB52"
          ],
          "font": {
           "color": "#2a3f5f"
          },
          "geo": {
           "bgcolor": "white",
           "lakecolor": "white",
           "landcolor": "#E5ECF6",
           "showlakes": true,
           "showland": true,
           "subunitcolor": "white"
          },
          "hoverlabel": {
           "align": "left"
          },
          "hovermode": "closest",
          "mapbox": {
           "style": "light"
          },
          "paper_bgcolor": "white",
          "plot_bgcolor": "#E5ECF6",
          "polar": {
           "angularaxis": {
            "gridcolor": "white",
            "linecolor": "white",
            "ticks": ""
           },
           "bgcolor": "#E5ECF6",
           "radialaxis": {
            "gridcolor": "white",
            "linecolor": "white",
            "ticks": ""
           }
          },
          "scene": {
           "xaxis": {
            "backgroundcolor": "#E5ECF6",
            "gridcolor": "white",
            "gridwidth": 2,
            "linecolor": "white",
            "showbackground": true,
            "ticks": "",
            "zerolinecolor": "white"
           },
           "yaxis": {
            "backgroundcolor": "#E5ECF6",
            "gridcolor": "white",
            "gridwidth": 2,
            "linecolor": "white",
            "showbackground": true,
            "ticks": "",
            "zerolinecolor": "white"
           },
           "zaxis": {
            "backgroundcolor": "#E5ECF6",
            "gridcolor": "white",
            "gridwidth": 2,
            "linecolor": "white",
            "showbackground": true,
            "ticks": "",
            "zerolinecolor": "white"
           }
          },
          "shapedefaults": {
           "line": {
            "color": "#2a3f5f"
           }
          },
          "ternary": {
           "aaxis": {
            "gridcolor": "white",
            "linecolor": "white",
            "ticks": ""
           },
           "baxis": {
            "gridcolor": "white",
            "linecolor": "white",
            "ticks": ""
           },
           "bgcolor": "#E5ECF6",
           "caxis": {
            "gridcolor": "white",
            "linecolor": "white",
            "ticks": ""
           }
          },
          "title": {
           "x": 0.05
          },
          "xaxis": {
           "automargin": true,
           "gridcolor": "white",
           "linecolor": "white",
           "ticks": "",
           "title": {
            "standoff": 15
           },
           "zerolinecolor": "white",
           "zerolinewidth": 2
          },
          "yaxis": {
           "automargin": true,
           "gridcolor": "white",
           "linecolor": "white",
           "ticks": "",
           "title": {
            "standoff": 15
           },
           "zerolinecolor": "white",
           "zerolinewidth": 2
          }
         }
        },
        "title": {
         "text": "Comparing length of path MC"
        },
        "xaxis": {
         "title": {
          "text": "no. of experiments"
         }
        },
        "yaxis": {
         "title": {
          "text": "path length per MC iteration"
         }
        }
       }
      }
     },
     "metadata": {},
     "output_type": "display_data"
    },
    {
     "name": "stdout",
     "output_type": "stream",
     "text": [
      "Mean path length without pheremone:  9.73218\n",
      "Median path length without pheremone:  9.72\n",
      "Mean path length with pheremone:  7.31402\n",
      "Median path length with pheremone:  7.3\n"
     ]
    }
   ],
   "source": [
    "fig = go.Figure()\n",
    "x_axis = list(range(num_points))\n",
    "\n",
    "fig.add_trace(go.Scatter(x=x_axis, y=path_len_list_mc_random,\n",
    "                    mode='markers',\n",
    "                    name='no pheremone'))\n",
    "fig.add_trace(go.Scatter(x=x_axis, y=path_len_list_mc_optimised,\n",
    "                    mode='markers',\n",
    "                    name='with pheremone'))\n",
    "fig.update_layout(title='Comparing length of path MC',\n",
    "                   xaxis_title='no. of experiments',\n",
    "                   yaxis_title='path length per MC iteration')\n",
    "fig.show()\n",
    "print(\"Mean path length without pheremone: \", np.nanmean(path_len_list_mc_random))\n",
    "print(\"Median path length without pheremone: \", np.nanmedian(path_len_list_mc_random))\n",
    "print(\"Mean path length with pheremone: \", np.nanmean(path_len_list_mc_optimised))\n",
    "print(\"Median path length with pheremone: \", np.nanmedian(path_len_list_mc_optimised))"
   ]
  },
  {
   "cell_type": "code",
   "execution_count": null,
   "metadata": {},
   "outputs": [
    {
     "data": {
      "application/vnd.plotly.v1+json": {
       "config": {
        "plotlyServerURL": "https://plot.ly"
       },
       "data": [
        {
         "mode": "markers",
         "name": "no pheremone",
         "type": "scatter",
         "x": [
          0,
          1,
          2,
          3,
          4,
          5,
          6,
          7,
          8,
          9,
          10,
          11,
          12,
          13,
          14,
          15,
          16,
          17,
          18,
          19,
          20,
          21,
          22,
          23,
          24,
          25,
          26,
          27,
          28,
          29,
          30,
          31,
          32,
          33,
          34,
          35,
          36,
          37,
          38,
          39,
          40,
          41,
          42,
          43,
          44,
          45,
          46,
          47,
          48,
          49,
          50,
          51,
          52,
          53,
          54,
          55,
          56,
          57,
          58,
          59,
          60,
          61,
          62,
          63,
          64,
          65,
          66,
          67,
          68,
          69,
          70,
          71,
          72,
          73,
          74,
          75,
          76,
          77,
          78,
          79,
          80,
          81,
          82,
          83,
          84,
          85,
          86,
          87,
          88,
          89,
          90,
          91,
          92,
          93,
          94,
          95,
          96,
          97,
          98,
          99
         ],
         "y": [
          3.88,
          4.22,
          4.02,
          3.95,
          4.37,
          3.53,
          4.22,
          3.66,
          3.88,
          4.19,
          3.64,
          3.78,
          3.89,
          4.33,
          4.02,
          4.24,
          4.01,
          4.26,
          4.45,
          3.69,
          4.72,
          3.94,
          4.28,
          3.73,
          4.3,
          3.93,
          4.11,
          3.82,
          4.16,
          4.05,
          3.75,
          4.15,
          3.72,
          4.6,
          4.29,
          4.07,
          3.8,
          3.82,
          3.33,
          3.85,
          4.19,
          4.53,
          3.79,
          3.59,
          4.63,
          3.71,
          4.01,
          3.49,
          4.4,
          4.19,
          4.45,
          3.97,
          4.2,
          3.73,
          4.02,
          4.57,
          4.5,
          3.95,
          3.82,
          4.16,
          4.36,
          3.65,
          4.08,
          4.09,
          3.85,
          4.17,
          3.76,
          3.51,
          3.75,
          4.53,
          4.06,
          4.44,
          4.17,
          4.34,
          4.13,
          4.38,
          4.29,
          4.47,
          3.99,
          3.83,
          4.01,
          3.78,
          4.03,
          3.89,
          4.27,
          3.8,
          4.12,
          4.16,
          3.93,
          3.73,
          4.04,
          4.26,
          4.14,
          3.95,
          3.87,
          3.99,
          4,
          3.58,
          4.26,
          3.91,
          4.16,
          3.94,
          4.1,
          4.55,
          4,
          3.91,
          4.12,
          3.97,
          3.99,
          3.85,
          3.43,
          3.85,
          4.36,
          4.27,
          3.93,
          4.29,
          4.33,
          4.02,
          4.19,
          4.04,
          4.01,
          3.62,
          3.97,
          4.21,
          4.07,
          4.42,
          3.91,
          4.15,
          4.37,
          4.66,
          4.14,
          3.88,
          4.55,
          4.72,
          4.03,
          4.71,
          4.16,
          3.99,
          3.72,
          3.9,
          3.56,
          3.8,
          3.57,
          4.69,
          4.48,
          4.04,
          3.79,
          3.94,
          3.95,
          3.99,
          4.19,
          3.91,
          4.14,
          3.84,
          4.4,
          4.65,
          3.85,
          4.09,
          4.29,
          4.32,
          4.67,
          4.47,
          4.06,
          4.38,
          4,
          3.83,
          4.41,
          4.1,
          3.68,
          4.06,
          4.55,
          4.31,
          3.89,
          3.9,
          4.2,
          4.64,
          4.12,
          4.45,
          4.37,
          4.28,
          4.1,
          4.86,
          4.03,
          4.3,
          3.99,
          4.21,
          4.4,
          3.95,
          3.44,
          3.75,
          4.17,
          4.12,
          4.68,
          3.92,
          4.03,
          4.02,
          4.45,
          3.92,
          4.32,
          3.94,
          3.96,
          3.63,
          4.9,
          4.16,
          4.01,
          3.43,
          3.72,
          4,
          3.73,
          3.73,
          4.16,
          4.4,
          4.17,
          4.08,
          4.24,
          4.72,
          3.57,
          3.66,
          4.29,
          3.89,
          4.71,
          3.8,
          4.31,
          4.12,
          4.35,
          3.94,
          3.82,
          3.79,
          4.03,
          4.24,
          3.87,
          3.85,
          4.42,
          4.42,
          4.26,
          3.86,
          4.01,
          4.65,
          4.04,
          4.18,
          3.64,
          3.97,
          3.76,
          3.94,
          4.17,
          3.92,
          4.19,
          4.3,
          4.24,
          3.77,
          4.01,
          3.99,
          4.05,
          4.05,
          4.22,
          4.11,
          3.83,
          3.68,
          4.14,
          4.12,
          3.7,
          4.03,
          4.02,
          3.05,
          4.16,
          3.59,
          4.01,
          3.98,
          3.97,
          4,
          3.94,
          3.88,
          4.46,
          4.13,
          3.64,
          4.15,
          3.93,
          4.05,
          4.34,
          4.15,
          3.22,
          3.99,
          3.96,
          4.37,
          4.89,
          4.13,
          4.41,
          4.04,
          3.99,
          4.26,
          4.54,
          4,
          3.91,
          3.82,
          4.3,
          4.25,
          3.94,
          4.06,
          4.23,
          4.06,
          4.31,
          4.03,
          3.92,
          3.98,
          4,
          3.95,
          4.53,
          4.2,
          4.02,
          3.64,
          3.92,
          4.54,
          3.85,
          3.91,
          4.12,
          4.1,
          3.93,
          4.31,
          3.89,
          4,
          3.68,
          4.13,
          3.72,
          3.79,
          5,
          4.05,
          3.61,
          4.31,
          3.57,
          4.48,
          4.06,
          4.28,
          4.24,
          3.58,
          4.4,
          3.92,
          4.28,
          4.39,
          3.99,
          3.98,
          4.14,
          4.28,
          4.02,
          4.38,
          3.85,
          4.29,
          4.4,
          4.3,
          3.65,
          3.98,
          4.09,
          4.41,
          4.53,
          4.05,
          3.67,
          4,
          3.64,
          4.19,
          3.98,
          3.2,
          3.58,
          4.12,
          3.47,
          3.86,
          3.62,
          4.25,
          3.95,
          4.11,
          3.99,
          4.05,
          4.08,
          4.63,
          3.88,
          3.92,
          4.22,
          4.4,
          3.78,
          4.1,
          3.98,
          4.58,
          4.21,
          3.96,
          3.45,
          4.39,
          4,
          4.43,
          4.88,
          4.2,
          3.61,
          4.27,
          4.08,
          3.97,
          4.11,
          3.77,
          3.82,
          4.41,
          4.1,
          3.66,
          3.91,
          3.91,
          4.06,
          3.73,
          3.69,
          4.08,
          4.29,
          3.7,
          4.33,
          4.19,
          4.04,
          3.92,
          4.42,
          4.03,
          4.03,
          4.14,
          3.63,
          4.34,
          4.43,
          4.52,
          4.07,
          3.75,
          3.82,
          3.63,
          3.72,
          4.46,
          3.8,
          4.66,
          4.29,
          3.62,
          4.18,
          3.98,
          4.29,
          3.85,
          4.2,
          3.91,
          3.78,
          4.22,
          4.14,
          4.47,
          3.8,
          3.85,
          4.58,
          4.44,
          4.25,
          4.55,
          3.72,
          3.39,
          3.97,
          4.43,
          4.12,
          4.46,
          4.1,
          4.3,
          3.71,
          4.5,
          3.91,
          4.6,
          4,
          3.92,
          4.25,
          3.99,
          4.25,
          4.02,
          3.98,
          3.8,
          4.37,
          3.85,
          4,
          4.28,
          3.64,
          4.3,
          3.92,
          4.01,
          3.53,
          3.93,
          4.14,
          3.97,
          3.77,
          3.75,
          4.32,
          4.04,
          4.18,
          4.31,
          4.01,
          3.93,
          4.43,
          4.07,
          3.73,
          4.12,
          4.71,
          3.98,
          3.63,
          4.01,
          4.17,
          3.89,
          3.81,
          3.78,
          4.5,
          3.75,
          4.04,
          4.12,
          3.7,
          3.98,
          4.24,
          3.85,
          4.26,
          4.05,
          4.07,
          3.59,
          4.1,
          4.51,
          3.59,
          3.69,
          4.26,
          4.12,
          4.15,
          4.44,
          4.25,
          3.72,
          4.06,
          3.9,
          4.12,
          3.73,
          3.91,
          3.89,
          4.01,
          4.37,
          4.3,
          3.94,
          3.96,
          4.25,
          3.55,
          3.65,
          4.32,
          4.43,
          4.27,
          4.04,
          3.83,
          3.71,
          4.07,
          4.1,
          4.06,
          4.14,
          3.83,
          4.23,
          4.15,
          4.33,
          3.82,
          3.71,
          3.79,
          4.07,
          4.9,
          4.41,
          4.57,
          4.1,
          3.77,
          3.84,
          4.27,
          3.72,
          4.81,
          3.83,
          4.32,
          3.81,
          4.28,
          4.42,
          4.14,
          4.22,
          4.35,
          4.24,
          3.7,
          4.21,
          3.27,
          3.78,
          3.75,
          4.31,
          4.19,
          4.25,
          4.39,
          4,
          4.31,
          4.55,
          4.31,
          3.99,
          4.48,
          3.95,
          3.91,
          4.5,
          3.88,
          3.72,
          3.89,
          3.97,
          4.15,
          4.21,
          4.91,
          3.72,
          4.08,
          3.94,
          4.68,
          3.99,
          4.18,
          3.91,
          3.93,
          4.04,
          4.56,
          3.93,
          4.45,
          4.06,
          3.71,
          4.35,
          4.24,
          3.84,
          4.22,
          3.48,
          3.98,
          4.06,
          3.83,
          4.37,
          3.96,
          3.9,
          4.21,
          4.08,
          4.5,
          3.51,
          3.54,
          4.3,
          4.61,
          3.87,
          3.51,
          4.35,
          4.34,
          4.33,
          3.88,
          4.24,
          3.87,
          3.72,
          4.22,
          3.77,
          3.95,
          4.24,
          3.9,
          4.11,
          4.09,
          4.15,
          4.07,
          3.82,
          4.22,
          3.89,
          4.3,
          4.09,
          4.14,
          4.44,
          3.99,
          4.4,
          3.95,
          3.68,
          3.91,
          4.49,
          3.85,
          3.63,
          4.05,
          3.58,
          4.03,
          3.71,
          4.27,
          4.02,
          4.04,
          4.35,
          4.19,
          4.27,
          4.4,
          3.78,
          4.49,
          4.01,
          4.47,
          4.05,
          3.94,
          3.67,
          4.4,
          4.59,
          4.02,
          4.07,
          3.9,
          4.21,
          4.02,
          4.04,
          4.11,
          4.07,
          4.26,
          4.55,
          4.11,
          4.02,
          4.18,
          4.24,
          4.27,
          3.94,
          4.51,
          3.31,
          3.93,
          4.26,
          4.18,
          3.91,
          3.92,
          4.23,
          4.05,
          4.42,
          3.99,
          3.72,
          4.66,
          4.23,
          3.56,
          3.93,
          4.43,
          3.95,
          4.32,
          4.02,
          3.7,
          3.97,
          3.49,
          4.4,
          3.65,
          4.37,
          3.68,
          3.95,
          3.71,
          3.76,
          3.89,
          4.53,
          4.2,
          4.34,
          4.03,
          4.46,
          4.73,
          3.86,
          3.77,
          3.45,
          3.64,
          4.79,
          4.11,
          3.94,
          4.21,
          3.96,
          4.11,
          3.82,
          4.05,
          4.39,
          4.38,
          4.07,
          4.33,
          3.75,
          3.86,
          3.87,
          4.09,
          4.28,
          4.31,
          4.05,
          4.16,
          4.26,
          3.97,
          4.01,
          3.96,
          4.31,
          3.97,
          3.83,
          3.51,
          3.95,
          3.9,
          3.63,
          4.18,
          3.65,
          3.92,
          3.95,
          3.88,
          4.69,
          4.05,
          3.91,
          4.44,
          4.02,
          3.79,
          3.88,
          4.05,
          4.32,
          4.01,
          4.19,
          4.69,
          4.08,
          3.42,
          4.08,
          3.93,
          4.09,
          3.99,
          4.08,
          3.92,
          4.46,
          3.92,
          4.47,
          4.32,
          4,
          3.96,
          3.67,
          4.02,
          4.15,
          3.76,
          4.49,
          4.1,
          3.94,
          3.62,
          4.07,
          4.21,
          4.37,
          3.4,
          4.25,
          4.23,
          3.99,
          4.16,
          4.55,
          4.18,
          4.13,
          3.69,
          4.14,
          4.4,
          3.93,
          3.98,
          4.16,
          3.96,
          4.42,
          4.2,
          4.07,
          4.1,
          4,
          4.02,
          3.88,
          4.31,
          3.31,
          3.84,
          4.47,
          4.28,
          4.22,
          4.35,
          3.88,
          4.27,
          4.3,
          4.53,
          4.22,
          3.97,
          3.93,
          3.84,
          4.11,
          3.92,
          4.33,
          4.25,
          3.65,
          3.99,
          4.35,
          4.32,
          4.29,
          4.15,
          4.2,
          4.1,
          4.06,
          4.08,
          3.65,
          4.33,
          4.17,
          3.82,
          4.49,
          4.66,
          3.4,
          4.29,
          4.49,
          3.76,
          4.15,
          3.74,
          4.52,
          3.74,
          4.54,
          4.56,
          4.02,
          3.9,
          4.24,
          3.98,
          3.78,
          4.21,
          4.38,
          3.99,
          4.27,
          4.42,
          4.65,
          4.21,
          3.9,
          4.36,
          3.94,
          4.24,
          3.91,
          4.54,
          4.25,
          4.35,
          3.81,
          4.3,
          3.7,
          4.14,
          4,
          4.06,
          4.08,
          4.48,
          4.22,
          4.08,
          4.08,
          4.08,
          4.29,
          4.13,
          4.08,
          3.87,
          4.22,
          4.21,
          4.06,
          3.45,
          4.11,
          4.48,
          4.14,
          4.07,
          4.06,
          4.29,
          4.29,
          4.39,
          4.08,
          4.07,
          3.47,
          4.58,
          4.41,
          3.94,
          3.99,
          4.36,
          3.64,
          3.88,
          4.35,
          4,
          4.12,
          4.43,
          4.73,
          4.54,
          3.93,
          4.11,
          4.5,
          4.09,
          4.23,
          3.94,
          4.14,
          4.25,
          3.14,
          4.03,
          4.05,
          3.49,
          4.03,
          4.17,
          3.98,
          4.22,
          4.5,
          4.12,
          4.44,
          3.98,
          4.49,
          3.87,
          4.19,
          3.71,
          4.22,
          4.29,
          3.9,
          4.2,
          4.2,
          3.63,
          4.3,
          4.16,
          3.43,
          3.93,
          4.32,
          4.23,
          3.83,
          4.54,
          4.18,
          4.23,
          3.81,
          4.32,
          3.72,
          3.75,
          4.59,
          3.79,
          4.23,
          3.93,
          4.61,
          4.3,
          3.92,
          4.54,
          4.06,
          4.31,
          4.32,
          4.4,
          4.39,
          4,
          3.63,
          4.08,
          4.28
         ]
        },
        {
         "mode": "markers",
         "name": "with pheremone",
         "type": "scatter",
         "x": [
          0,
          1,
          2,
          3,
          4,
          5,
          6,
          7,
          8,
          9,
          10,
          11,
          12,
          13,
          14,
          15,
          16,
          17,
          18,
          19,
          20,
          21,
          22,
          23,
          24,
          25,
          26,
          27,
          28,
          29,
          30,
          31,
          32,
          33,
          34,
          35,
          36,
          37,
          38,
          39,
          40,
          41,
          42,
          43,
          44,
          45,
          46,
          47,
          48,
          49,
          50,
          51,
          52,
          53,
          54,
          55,
          56,
          57,
          58,
          59,
          60,
          61,
          62,
          63,
          64,
          65,
          66,
          67,
          68,
          69,
          70,
          71,
          72,
          73,
          74,
          75,
          76,
          77,
          78,
          79,
          80,
          81,
          82,
          83,
          84,
          85,
          86,
          87,
          88,
          89,
          90,
          91,
          92,
          93,
          94,
          95,
          96,
          97,
          98,
          99
         ],
         "y": [
          2.89,
          2.48,
          2.45,
          2.93,
          2.7,
          2.69,
          2.38,
          2.82,
          2.87,
          2.86,
          2.92,
          2.97,
          2.94,
          2.73,
          2.31,
          2.55,
          2.89,
          3.04,
          2.79,
          2.35,
          2.92,
          2.54,
          2.71,
          2.68,
          2.8,
          3.22,
          2.52,
          2.92,
          2.67,
          2.87,
          2.7,
          3.1,
          2.84,
          3.01,
          2.54,
          2.62,
          3.29,
          3.35,
          3.67,
          2.6,
          3.18,
          2.47,
          2.49,
          3.17,
          2.92,
          2.42,
          3.41,
          2.91,
          2.93,
          3.21,
          2.91,
          2.67,
          2.93,
          2.71,
          2.23,
          2.46,
          3.2,
          2.56,
          2.76,
          3.05,
          3.03,
          3.21,
          2.94,
          3.15,
          3.28,
          2.76,
          3.06,
          2.94,
          2.61,
          2.86,
          2.85,
          2.61,
          3.09,
          2.73,
          3.09,
          2.59,
          3.18,
          2.92,
          3.14,
          3.16,
          3.05,
          3.11,
          2.68,
          3.04,
          2.39,
          3.2,
          2.82,
          2.91,
          3.24,
          2.95,
          2.62,
          2.89,
          2.78,
          2.79,
          2.54,
          3.01,
          2.43,
          2.76,
          2.59,
          2.67,
          2.71,
          2.48,
          3.06,
          2.62,
          3.02,
          3.13,
          2.93,
          3.46,
          3.07,
          3.05,
          2.94,
          2.73,
          2.6,
          3.27,
          2.86,
          2.81,
          2.75,
          2.66,
          3.09,
          2.74,
          2.27,
          2.92,
          3.05,
          3.24,
          2.78,
          2.62,
          2.82,
          3.03,
          2.85,
          3.1,
          3.06,
          3.06,
          3.12,
          2.76,
          3.13,
          2.68,
          2.84,
          2.74,
          2.62,
          2.33,
          2.87,
          2.66,
          3.18,
          2.78,
          3.05,
          2.29,
          2.81,
          2.81,
          3.26,
          2.51,
          2.94,
          2.72,
          2.94,
          2.96,
          2.93,
          2.83,
          2.7,
          2.49,
          3.02,
          3.05,
          3.04,
          2.6,
          2.69,
          3.02,
          2.79,
          2.69,
          2.67,
          3.13,
          3.03,
          2.85,
          2.77,
          3,
          2.97,
          3.48,
          2.79,
          2.9,
          2.46,
          2.93,
          2.63,
          3.33,
          2.83,
          2.78,
          2.63,
          2.49,
          2.69,
          3.17,
          2.63,
          2.66,
          2.4,
          2.21,
          3.17,
          2.58,
          2.61,
          2.85,
          3.15,
          2.71,
          2.32,
          3.19,
          3,
          2.97,
          2.54,
          2.67,
          3.11,
          2.57,
          2.53,
          2.71,
          2.59,
          3,
          2.75,
          2.73,
          2.75,
          3.21,
          2.89,
          2.78,
          2.62,
          2.84,
          2.68,
          3.16,
          2.57,
          3.14,
          3.06,
          2.36,
          3.33,
          2.93,
          3.07,
          2.6,
          2.84,
          3.21,
          2.63,
          2.63,
          2.48,
          2.71,
          2.53,
          2.8,
          2.53,
          2.71,
          2.82,
          2.31,
          2.59,
          2.74,
          2.77,
          2.74,
          3.05,
          2.96,
          3,
          2.74,
          2.89,
          2.75,
          3.1,
          2.49,
          2.87,
          2.71,
          3.05,
          2.83,
          3.03,
          2.5,
          2.86,
          3.14,
          2.94,
          2.87,
          3.14,
          2.57,
          2.6,
          2.66,
          3.03,
          2.93,
          2.66,
          2.91,
          3.11,
          2.77,
          2.48,
          2.62,
          3.15,
          2.67,
          3.01,
          2.53,
          2.73,
          2.88,
          3.01,
          2.68,
          2.35,
          2.66,
          2.19,
          3.33,
          3.2,
          2.78,
          2.82,
          2.99,
          2.72,
          2.71,
          2.6,
          2.69,
          3.61,
          3.18,
          2.81,
          2.85,
          2.93,
          2.7,
          3.04,
          2.43,
          2.44,
          2.85,
          2.73,
          2.4,
          2.81,
          2.65,
          2.53,
          2.6,
          2.73,
          2.79,
          3.5,
          2.97,
          3.45,
          2.87,
          2.54,
          3.02,
          2.78,
          2.53,
          3.29,
          2.38,
          2.45,
          3.07,
          2.67,
          3.62,
          3.26,
          3.06,
          2.61,
          2.71,
          2.67,
          3.33,
          2.89,
          3.01,
          2.84,
          2.67,
          2.59,
          2.81,
          3.16,
          3.35,
          2.8,
          2.85,
          3.09,
          2.81,
          2.75,
          3.32,
          2.83,
          2.71,
          3,
          3.33,
          3.03,
          2.71,
          2.67,
          2.86,
          2.88,
          3.06,
          2.82,
          2.74,
          3.3,
          3.06,
          3.2,
          2.91,
          2.7,
          3.23,
          2.64,
          2.83,
          2.97,
          3.03,
          3.24,
          2.9,
          2.57,
          2.77,
          2.78,
          3.04,
          2.8,
          3.08,
          2.7,
          2.78,
          2.93,
          3.17,
          2.78,
          2.49,
          3.19,
          2.45,
          2.82,
          2.37,
          2.87,
          2.68,
          2.72,
          3.27,
          2.53,
          2.83,
          2.81,
          3.03,
          3.09,
          2.88,
          2.84,
          3.04,
          2.85,
          3.06,
          3.03,
          2.69,
          3.14,
          2.55,
          2.97,
          2.51,
          2.63,
          2.9,
          2.71,
          2.47,
          2.95,
          2.91,
          2.71,
          3.17,
          2.72,
          2.55,
          2.79,
          2.95,
          2.85,
          2.65,
          2.83,
          2.91,
          3.12,
          2.7,
          3.38,
          2.78,
          2.84,
          2.45,
          3.21,
          2.93,
          2.69,
          3.12,
          2.76,
          2.98,
          2.77,
          3.2,
          2.76,
          3.69,
          2.88,
          3.26,
          2.96,
          2.95,
          3.69,
          2.65,
          2.48,
          2.75,
          3.08,
          2.46,
          3.14,
          2.99,
          2.85,
          3.24,
          2.99,
          2.69,
          2.4,
          3.29,
          2.68,
          2.57,
          2.88,
          2.82,
          2.52,
          3.32,
          2.86,
          2.74,
          2.74,
          2.65,
          2.69,
          2.75,
          3.17,
          3.08,
          2.7,
          2.66,
          2.82,
          3.41,
          3.34,
          3.29,
          2.44,
          2.72,
          2.48,
          2.94,
          2.55,
          2.88,
          2.77,
          2.74,
          3.23,
          2.7,
          2.94,
          2.66,
          3.01,
          2.89,
          3.15,
          3.19,
          2.98,
          3.04,
          2.84,
          3.11,
          2.48,
          3.14,
          3.35,
          3.27,
          2.9,
          2.98,
          3.05,
          3.24,
          2.9,
          2.86,
          3.17,
          2.68,
          2.56,
          2.97,
          2.76,
          2.97,
          3.16,
          3.06,
          3.64,
          2.82,
          2.63,
          3.27,
          3.16,
          2.59,
          2.68,
          2.22,
          2.82,
          3.02,
          2.93,
          2.59,
          2.94,
          2.78,
          2.58,
          2.9,
          2.89,
          3.21,
          2.85,
          3.01,
          2.95,
          3.44,
          2.94,
          2.65,
          3.45,
          2.71,
          2.84,
          2.65,
          3.29,
          2.74,
          2.59,
          2.84,
          2.86,
          2.57,
          2.98,
          2.91,
          3.35,
          2.57,
          2.91,
          3.06,
          3.36,
          2.89,
          2.76,
          2.67,
          2.95,
          2.68,
          2.74,
          2.54,
          2.93,
          3.05,
          2.5,
          3.19,
          2.7,
          3.15,
          2.8,
          2.79,
          2.15,
          3.17,
          3.29,
          2.44,
          3.28,
          2.66,
          2.87,
          3.38,
          2.44,
          2.6,
          2.59,
          3.14,
          2.67,
          2.69,
          2.57,
          2.96,
          3.39,
          3.13,
          1.93,
          2.84,
          2.31,
          2.64,
          2.66,
          2.91,
          3.15,
          2.8,
          2.79,
          2.85,
          2.98,
          3.26,
          3,
          2.8,
          3.03,
          3.04,
          2.14,
          2.56,
          2.58,
          3.09,
          2.87,
          3.21,
          2.69,
          2.95,
          2.87,
          2.71,
          2.95,
          2.8,
          2.97,
          2.83,
          2.67,
          3,
          2.67,
          2.53,
          3.2,
          3.18,
          2.65,
          2.93,
          2.94,
          2.87,
          3.08,
          2.85,
          3.08,
          3.08,
          2.82,
          2.84,
          3.04,
          3.53,
          3.18,
          2.98,
          2.97,
          2.74,
          2.83,
          3.07,
          2.55,
          2.91,
          2.82,
          2.95,
          2.91,
          3.19,
          2.95,
          3.26,
          3.17,
          3.13,
          2.87,
          2.9,
          3.48,
          2.64,
          2.9,
          2.74,
          3.43,
          2.53,
          3.01,
          2.83,
          3.02,
          2.77,
          3.11,
          3.12,
          2.61,
          2.68,
          2.71,
          2.84,
          2.89,
          2.71,
          2.68,
          2.87,
          2.29,
          2.94,
          3.03,
          2.62,
          2.84,
          3.29,
          2.61,
          3.27,
          2.81,
          2.92,
          2.44,
          2.69,
          2.66,
          3.08,
          2.71,
          2.8,
          3.08,
          2.39,
          2.29,
          2.3,
          2.46,
          2.94,
          2.74,
          3.26,
          3.06,
          2.37,
          3.34,
          2.69,
          2.93,
          2.89,
          2.78,
          2.88,
          2.77,
          2.79,
          2.76,
          2.98,
          2.99,
          2.78,
          3.02,
          2.99,
          2.73,
          3.05,
          2.77,
          2.7,
          2.63,
          2.59,
          2.81,
          3.85,
          2.92,
          2.79,
          2.98,
          2.6,
          2.69,
          3.46,
          2.92,
          2.88,
          2.9,
          2.49,
          2.72,
          3.34,
          3.04,
          2.83,
          2.7,
          2.9,
          3.02,
          2.98,
          2.39,
          2.7,
          2.57,
          2.36,
          2.98,
          2.52,
          2.76,
          2.86,
          3.46,
          2.76,
          3.09,
          2.52,
          2.32,
          2.96,
          3.18,
          3.19,
          3.14,
          3.33,
          2.98,
          2.59,
          2.47,
          2.54,
          3.12,
          3.24,
          2.91,
          2.78,
          3,
          3.29,
          3.04,
          2.67,
          3.21,
          2.4,
          2.96,
          2.62,
          2.97,
          3,
          3.45,
          2.78,
          2.56,
          3.13,
          3.4,
          2.98,
          3.1,
          2.51,
          2.98,
          2.8,
          2.97,
          2.93,
          2.51,
          3.02,
          2.53,
          2.52,
          2.47,
          3.19,
          2.83,
          2.69,
          2.84,
          2.3,
          3.41,
          2.44,
          2.31,
          2.87,
          2.63,
          3.13,
          2.57,
          3.05,
          3.36,
          2.47,
          2.74,
          3.15,
          2.58,
          2.37,
          3.07,
          3.1,
          2.8,
          2.85,
          2.78,
          3.47,
          3.04,
          3.2,
          3.24,
          3.21,
          2.65,
          3.28,
          3.21,
          2.52,
          3.59,
          3.25,
          2.93,
          3.02,
          2.74,
          2.77,
          2.87,
          3.04,
          2.68,
          2.91,
          2.85,
          2.6,
          3.19,
          2.79,
          2.87,
          2.9,
          3.02,
          2.82,
          2.96,
          2.67,
          2.82,
          2.42,
          2.82,
          3.11,
          2.66,
          2.95,
          2.83,
          2.4,
          2.75,
          2.82,
          3.01,
          3.21,
          3.17,
          3,
          3.32,
          2.79,
          3.21,
          2.97,
          2.68,
          3.48,
          2.97,
          2.95,
          3.01,
          2.44,
          2.94,
          3.04,
          3.08,
          2.75,
          2.78,
          3.02,
          2.92,
          3.28,
          3.16,
          2.49,
          2.91,
          2.88,
          3,
          3.03,
          3.08,
          2.78,
          2.94,
          2.73,
          2.8,
          2.62,
          3.3,
          3.41,
          2.97,
          2.8,
          2.73,
          2.63,
          2.66,
          3.08,
          3.23,
          2.92,
          2.78,
          2.95,
          2.91,
          2.98,
          2.69,
          2.8,
          2.97,
          3.01,
          2.41,
          2.87,
          3.21,
          2.96,
          2.62,
          2.7,
          2.32,
          2.97,
          2.53,
          2.68,
          2.47,
          3.19,
          2.64,
          3,
          3.07,
          2.56,
          2.84,
          3.54,
          3.06,
          3.01,
          2.79,
          3.03,
          2.75,
          2.79,
          2.92,
          2.78,
          3.06,
          2.86,
          2.97,
          2.82,
          3.02,
          2.98,
          3.3,
          3.19,
          2.94,
          2.93,
          3.09,
          2.71,
          3.21,
          2.75,
          2.97,
          3.06,
          2.86,
          2.65,
          2.66,
          3.03,
          2.86,
          2.91,
          3.46,
          2.48,
          3.18,
          2.74,
          3.03,
          2.97,
          2.79,
          2.7,
          3.21,
          3.05,
          2.6,
          2.59,
          2.31,
          2.98,
          3.02,
          3,
          2.66,
          2.46,
          2.6,
          3.48,
          2.51,
          2.55,
          3.18,
          3.28,
          2.58,
          3.02,
          2.7,
          3.19,
          2.9,
          2.83,
          2.67,
          3.07,
          2.95,
          2.57,
          3.1,
          2.88,
          2.97,
          2.8,
          3.14,
          2.94,
          3,
          2.71,
          2.83,
          3.09,
          2.53,
          2.82
         ]
        }
       ],
       "layout": {
        "template": {
         "data": {
          "bar": [
           {
            "error_x": {
             "color": "#2a3f5f"
            },
            "error_y": {
             "color": "#2a3f5f"
            },
            "marker": {
             "line": {
              "color": "#E5ECF6",
              "width": 0.5
             },
             "pattern": {
              "fillmode": "overlay",
              "size": 10,
              "solidity": 0.2
             }
            },
            "type": "bar"
           }
          ],
          "barpolar": [
           {
            "marker": {
             "line": {
              "color": "#E5ECF6",
              "width": 0.5
             },
             "pattern": {
              "fillmode": "overlay",
              "size": 10,
              "solidity": 0.2
             }
            },
            "type": "barpolar"
           }
          ],
          "carpet": [
           {
            "aaxis": {
             "endlinecolor": "#2a3f5f",
             "gridcolor": "white",
             "linecolor": "white",
             "minorgridcolor": "white",
             "startlinecolor": "#2a3f5f"
            },
            "baxis": {
             "endlinecolor": "#2a3f5f",
             "gridcolor": "white",
             "linecolor": "white",
             "minorgridcolor": "white",
             "startlinecolor": "#2a3f5f"
            },
            "type": "carpet"
           }
          ],
          "choropleth": [
           {
            "colorbar": {
             "outlinewidth": 0,
             "ticks": ""
            },
            "type": "choropleth"
           }
          ],
          "contour": [
           {
            "colorbar": {
             "outlinewidth": 0,
             "ticks": ""
            },
            "colorscale": [
             [
              0,
              "#0d0887"
             ],
             [
              0.1111111111111111,
              "#46039f"
             ],
             [
              0.2222222222222222,
              "#7201a8"
             ],
             [
              0.3333333333333333,
              "#9c179e"
             ],
             [
              0.4444444444444444,
              "#bd3786"
             ],
             [
              0.5555555555555556,
              "#d8576b"
             ],
             [
              0.6666666666666666,
              "#ed7953"
             ],
             [
              0.7777777777777778,
              "#fb9f3a"
             ],
             [
              0.8888888888888888,
              "#fdca26"
             ],
             [
              1,
              "#f0f921"
             ]
            ],
            "type": "contour"
           }
          ],
          "contourcarpet": [
           {
            "colorbar": {
             "outlinewidth": 0,
             "ticks": ""
            },
            "type": "contourcarpet"
           }
          ],
          "heatmap": [
           {
            "colorbar": {
             "outlinewidth": 0,
             "ticks": ""
            },
            "colorscale": [
             [
              0,
              "#0d0887"
             ],
             [
              0.1111111111111111,
              "#46039f"
             ],
             [
              0.2222222222222222,
              "#7201a8"
             ],
             [
              0.3333333333333333,
              "#9c179e"
             ],
             [
              0.4444444444444444,
              "#bd3786"
             ],
             [
              0.5555555555555556,
              "#d8576b"
             ],
             [
              0.6666666666666666,
              "#ed7953"
             ],
             [
              0.7777777777777778,
              "#fb9f3a"
             ],
             [
              0.8888888888888888,
              "#fdca26"
             ],
             [
              1,
              "#f0f921"
             ]
            ],
            "type": "heatmap"
           }
          ],
          "heatmapgl": [
           {
            "colorbar": {
             "outlinewidth": 0,
             "ticks": ""
            },
            "colorscale": [
             [
              0,
              "#0d0887"
             ],
             [
              0.1111111111111111,
              "#46039f"
             ],
             [
              0.2222222222222222,
              "#7201a8"
             ],
             [
              0.3333333333333333,
              "#9c179e"
             ],
             [
              0.4444444444444444,
              "#bd3786"
             ],
             [
              0.5555555555555556,
              "#d8576b"
             ],
             [
              0.6666666666666666,
              "#ed7953"
             ],
             [
              0.7777777777777778,
              "#fb9f3a"
             ],
             [
              0.8888888888888888,
              "#fdca26"
             ],
             [
              1,
              "#f0f921"
             ]
            ],
            "type": "heatmapgl"
           }
          ],
          "histogram": [
           {
            "marker": {
             "pattern": {
              "fillmode": "overlay",
              "size": 10,
              "solidity": 0.2
             }
            },
            "type": "histogram"
           }
          ],
          "histogram2d": [
           {
            "colorbar": {
             "outlinewidth": 0,
             "ticks": ""
            },
            "colorscale": [
             [
              0,
              "#0d0887"
             ],
             [
              0.1111111111111111,
              "#46039f"
             ],
             [
              0.2222222222222222,
              "#7201a8"
             ],
             [
              0.3333333333333333,
              "#9c179e"
             ],
             [
              0.4444444444444444,
              "#bd3786"
             ],
             [
              0.5555555555555556,
              "#d8576b"
             ],
             [
              0.6666666666666666,
              "#ed7953"
             ],
             [
              0.7777777777777778,
              "#fb9f3a"
             ],
             [
              0.8888888888888888,
              "#fdca26"
             ],
             [
              1,
              "#f0f921"
             ]
            ],
            "type": "histogram2d"
           }
          ],
          "histogram2dcontour": [
           {
            "colorbar": {
             "outlinewidth": 0,
             "ticks": ""
            },
            "colorscale": [
             [
              0,
              "#0d0887"
             ],
             [
              0.1111111111111111,
              "#46039f"
             ],
             [
              0.2222222222222222,
              "#7201a8"
             ],
             [
              0.3333333333333333,
              "#9c179e"
             ],
             [
              0.4444444444444444,
              "#bd3786"
             ],
             [
              0.5555555555555556,
              "#d8576b"
             ],
             [
              0.6666666666666666,
              "#ed7953"
             ],
             [
              0.7777777777777778,
              "#fb9f3a"
             ],
             [
              0.8888888888888888,
              "#fdca26"
             ],
             [
              1,
              "#f0f921"
             ]
            ],
            "type": "histogram2dcontour"
           }
          ],
          "mesh3d": [
           {
            "colorbar": {
             "outlinewidth": 0,
             "ticks": ""
            },
            "type": "mesh3d"
           }
          ],
          "parcoords": [
           {
            "line": {
             "colorbar": {
              "outlinewidth": 0,
              "ticks": ""
             }
            },
            "type": "parcoords"
           }
          ],
          "pie": [
           {
            "automargin": true,
            "type": "pie"
           }
          ],
          "scatter": [
           {
            "marker": {
             "colorbar": {
              "outlinewidth": 0,
              "ticks": ""
             }
            },
            "type": "scatter"
           }
          ],
          "scatter3d": [
           {
            "line": {
             "colorbar": {
              "outlinewidth": 0,
              "ticks": ""
             }
            },
            "marker": {
             "colorbar": {
              "outlinewidth": 0,
              "ticks": ""
             }
            },
            "type": "scatter3d"
           }
          ],
          "scattercarpet": [
           {
            "marker": {
             "colorbar": {
              "outlinewidth": 0,
              "ticks": ""
             }
            },
            "type": "scattercarpet"
           }
          ],
          "scattergeo": [
           {
            "marker": {
             "colorbar": {
              "outlinewidth": 0,
              "ticks": ""
             }
            },
            "type": "scattergeo"
           }
          ],
          "scattergl": [
           {
            "marker": {
             "colorbar": {
              "outlinewidth": 0,
              "ticks": ""
             }
            },
            "type": "scattergl"
           }
          ],
          "scattermapbox": [
           {
            "marker": {
             "colorbar": {
              "outlinewidth": 0,
              "ticks": ""
             }
            },
            "type": "scattermapbox"
           }
          ],
          "scatterpolar": [
           {
            "marker": {
             "colorbar": {
              "outlinewidth": 0,
              "ticks": ""
             }
            },
            "type": "scatterpolar"
           }
          ],
          "scatterpolargl": [
           {
            "marker": {
             "colorbar": {
              "outlinewidth": 0,
              "ticks": ""
             }
            },
            "type": "scatterpolargl"
           }
          ],
          "scatterternary": [
           {
            "marker": {
             "colorbar": {
              "outlinewidth": 0,
              "ticks": ""
             }
            },
            "type": "scatterternary"
           }
          ],
          "surface": [
           {
            "colorbar": {
             "outlinewidth": 0,
             "ticks": ""
            },
            "colorscale": [
             [
              0,
              "#0d0887"
             ],
             [
              0.1111111111111111,
              "#46039f"
             ],
             [
              0.2222222222222222,
              "#7201a8"
             ],
             [
              0.3333333333333333,
              "#9c179e"
             ],
             [
              0.4444444444444444,
              "#bd3786"
             ],
             [
              0.5555555555555556,
              "#d8576b"
             ],
             [
              0.6666666666666666,
              "#ed7953"
             ],
             [
              0.7777777777777778,
              "#fb9f3a"
             ],
             [
              0.8888888888888888,
              "#fdca26"
             ],
             [
              1,
              "#f0f921"
             ]
            ],
            "type": "surface"
           }
          ],
          "table": [
           {
            "cells": {
             "fill": {
              "color": "#EBF0F8"
             },
             "line": {
              "color": "white"
             }
            },
            "header": {
             "fill": {
              "color": "#C8D4E3"
             },
             "line": {
              "color": "white"
             }
            },
            "type": "table"
           }
          ]
         },
         "layout": {
          "annotationdefaults": {
           "arrowcolor": "#2a3f5f",
           "arrowhead": 0,
           "arrowwidth": 1
          },
          "autotypenumbers": "strict",
          "coloraxis": {
           "colorbar": {
            "outlinewidth": 0,
            "ticks": ""
           }
          },
          "colorscale": {
           "diverging": [
            [
             0,
             "#8e0152"
            ],
            [
             0.1,
             "#c51b7d"
            ],
            [
             0.2,
             "#de77ae"
            ],
            [
             0.3,
             "#f1b6da"
            ],
            [
             0.4,
             "#fde0ef"
            ],
            [
             0.5,
             "#f7f7f7"
            ],
            [
             0.6,
             "#e6f5d0"
            ],
            [
             0.7,
             "#b8e186"
            ],
            [
             0.8,
             "#7fbc41"
            ],
            [
             0.9,
             "#4d9221"
            ],
            [
             1,
             "#276419"
            ]
           ],
           "sequential": [
            [
             0,
             "#0d0887"
            ],
            [
             0.1111111111111111,
             "#46039f"
            ],
            [
             0.2222222222222222,
             "#7201a8"
            ],
            [
             0.3333333333333333,
             "#9c179e"
            ],
            [
             0.4444444444444444,
             "#bd3786"
            ],
            [
             0.5555555555555556,
             "#d8576b"
            ],
            [
             0.6666666666666666,
             "#ed7953"
            ],
            [
             0.7777777777777778,
             "#fb9f3a"
            ],
            [
             0.8888888888888888,
             "#fdca26"
            ],
            [
             1,
             "#f0f921"
            ]
           ],
           "sequentialminus": [
            [
             0,
             "#0d0887"
            ],
            [
             0.1111111111111111,
             "#46039f"
            ],
            [
             0.2222222222222222,
             "#7201a8"
            ],
            [
             0.3333333333333333,
             "#9c179e"
            ],
            [
             0.4444444444444444,
             "#bd3786"
            ],
            [
             0.5555555555555556,
             "#d8576b"
            ],
            [
             0.6666666666666666,
             "#ed7953"
            ],
            [
             0.7777777777777778,
             "#fb9f3a"
            ],
            [
             0.8888888888888888,
             "#fdca26"
            ],
            [
             1,
             "#f0f921"
            ]
           ]
          },
          "colorway": [
           "#636efa",
           "#EF553B",
           "#00cc96",
           "#ab63fa",
           "#FFA15A",
           "#19d3f3",
           "#FF6692",
           "#B6E880",
           "#FF97FF",
           "#FECB52"
          ],
          "font": {
           "color": "#2a3f5f"
          },
          "geo": {
           "bgcolor": "white",
           "lakecolor": "white",
           "landcolor": "#E5ECF6",
           "showlakes": true,
           "showland": true,
           "subunitcolor": "white"
          },
          "hoverlabel": {
           "align": "left"
          },
          "hovermode": "closest",
          "mapbox": {
           "style": "light"
          },
          "paper_bgcolor": "white",
          "plot_bgcolor": "#E5ECF6",
          "polar": {
           "angularaxis": {
            "gridcolor": "white",
            "linecolor": "white",
            "ticks": ""
           },
           "bgcolor": "#E5ECF6",
           "radialaxis": {
            "gridcolor": "white",
            "linecolor": "white",
            "ticks": ""
           }
          },
          "scene": {
           "xaxis": {
            "backgroundcolor": "#E5ECF6",
            "gridcolor": "white",
            "gridwidth": 2,
            "linecolor": "white",
            "showbackground": true,
            "ticks": "",
            "zerolinecolor": "white"
           },
           "yaxis": {
            "backgroundcolor": "#E5ECF6",
            "gridcolor": "white",
            "gridwidth": 2,
            "linecolor": "white",
            "showbackground": true,
            "ticks": "",
            "zerolinecolor": "white"
           },
           "zaxis": {
            "backgroundcolor": "#E5ECF6",
            "gridcolor": "white",
            "gridwidth": 2,
            "linecolor": "white",
            "showbackground": true,
            "ticks": "",
            "zerolinecolor": "white"
           }
          },
          "shapedefaults": {
           "line": {
            "color": "#2a3f5f"
           }
          },
          "ternary": {
           "aaxis": {
            "gridcolor": "white",
            "linecolor": "white",
            "ticks": ""
           },
           "baxis": {
            "gridcolor": "white",
            "linecolor": "white",
            "ticks": ""
           },
           "bgcolor": "#E5ECF6",
           "caxis": {
            "gridcolor": "white",
            "linecolor": "white",
            "ticks": ""
           }
          },
          "title": {
           "x": 0.05
          },
          "xaxis": {
           "automargin": true,
           "gridcolor": "white",
           "linecolor": "white",
           "ticks": "",
           "title": {
            "standoff": 15
           },
           "zerolinecolor": "white",
           "zerolinewidth": 2
          },
          "yaxis": {
           "automargin": true,
           "gridcolor": "white",
           "linecolor": "white",
           "ticks": "",
           "title": {
            "standoff": 15
           },
           "zerolinecolor": "white",
           "zerolinewidth": 2
          }
         }
        },
        "title": {
         "text": "Comparing ant winners MC"
        },
        "xaxis": {
         "title": {
          "text": "no. of experiments"
         }
        },
        "yaxis": {
         "title": {
          "text": "Ant winners per MC iteration"
         }
        }
       }
      }
     },
     "metadata": {},
     "output_type": "display_data"
    },
    {
     "name": "stdout",
     "output_type": "stream",
     "text": [
      "Mean ant winner without pheremone:  4.0779\n",
      "Median ant winner without pheremone:  4.06\n",
      "Mean ant winner with pheremone:  2.86771\n",
      "Median ant winner with pheremone:  2.86\n"
     ]
    }
   ],
   "source": [
    "fig = go.Figure()\n",
    "x_axis = list(range(num_points))\n",
    "\n",
    "fig.add_trace(go.Scatter(x=x_axis, y=ant_winner_list_mc_random,\n",
    "                    mode='markers',\n",
    "                    name='no pheremone'))\n",
    "fig.add_trace(go.Scatter(x=x_axis, y=ant_winner_list_mc_optimised,\n",
    "                    mode='markers',\n",
    "                    name='with pheremone'))\n",
    "fig.update_layout(title='Comparing ant winners MC',\n",
    "                   xaxis_title='no. of experiments',\n",
    "                   yaxis_title='Ant winners per MC iteration')\n",
    "fig.show()\n",
    "print(\"Mean ant winner without pheremone: \", np.nanmean(ant_winner_list_mc_random))\n",
    "print(\"Median ant winner without pheremone: \", np.nanmedian(ant_winner_list_mc_random))\n",
    "print(\"Mean ant winner with pheremone: \", np.nanmean(ant_winner_list_mc_optimised))\n",
    "print(\"Median ant winner with pheremone: \", np.nanmedian(ant_winner_list_mc_optimised))"
   ]
  },
  {
   "cell_type": "code",
   "execution_count": null,
   "metadata": {},
   "outputs": [],
   "source": []
  }
 ],
 "metadata": {
  "interpreter": {
   "hash": "2db524e06e9f5f4ffedc911c917cb75e12dbc923643829bf417064a77eb14d37"
  },
  "kernelspec": {
   "display_name": "Python 3.8.2 64-bit",
   "name": "python3"
  },
  "language_info": {
   "codemirror_mode": {
    "name": "ipython",
    "version": 3
   },
   "file_extension": ".py",
   "mimetype": "text/x-python",
   "name": "python",
   "nbconvert_exporter": "python",
   "pygments_lexer": "ipython3",
   "version": "3.8.2"
  },
  "orig_nbformat": 4
 },
 "nbformat": 4,
 "nbformat_minor": 2
}
